{
 "cells": [
  {
   "cell_type": "markdown",
   "metadata": {},
   "source": [
    "# Transport across sections\n",
    "\n",
    "`mom6_tools.section_transports` collection of functions for computing and plotting time-series of transports across pre-defined vertical sections.\n",
    "\n",
    "The goal of this notebook is the following:\n",
    "\n",
    "1) server as an example on how to post-process the CESM/MOM6 vertical sections defined in diag_table. The location of the current vertical sections computed online can be found at the end of [this notebook](https://gist.github.com/gustavo-marques/bd6e9bb43062dcbc2abda91b757c7c4b); \n",
    "\n",
    "2) evaluate model experiments by comparing transports against observed estimates;"
   ]
  },
  {
   "cell_type": "code",
   "execution_count": 1,
   "metadata": {},
   "outputs": [],
   "source": [
    "%load_ext autoreload\n",
    "%autoreload 2"
   ]
  },
  {
   "cell_type": "code",
   "execution_count": 2,
   "metadata": {},
   "outputs": [],
   "source": [
    "%matplotlib inline\n",
    "from mom6_tools.section_transports import Transport, options\n",
    "import matplotlib.pyplot as plt\n",
    "from mom6_tools.DiagsCase import DiagsCase\n",
    "import xarray as xr\n",
    "import yaml, os, numpy"
   ]
  },
  {
   "cell_type": "code",
   "execution_count": 3,
   "metadata": {},
   "outputs": [],
   "source": [
    "# Read in the yaml file\n",
    "diag_config_yml_path = \"diag_config.yml\"\n",
    "diag_config_yml = yaml.load(open(diag_config_yml_path,'r'), Loader=yaml.Loader)"
   ]
  },
  {
   "cell_type": "code",
   "execution_count": 4,
   "metadata": {},
   "outputs": [
    {
     "name": "stdout",
     "output_type": "stream",
     "text": [
      "Output directory is: /glade/scratch/gmarques/archive/g.e23_b15.GJRAv4.TL319_t232_zstar_N65.baseline.001/ocn/hist/\n",
      "Casename is: g.e23_b15.GJRAv4.TL319_t232_zstar_N65.baseline.001\n"
     ]
    }
   ],
   "source": [
    "# Create the case instance\n",
    "dcase = DiagsCase(diag_config_yml['Case'])\n",
    "DOUT_S = dcase.get_value('DOUT_S')\n",
    "if DOUT_S:\n",
    "  OUTDIR = dcase.get_value('DOUT_S_ROOT')+'/ocn/hist/'\n",
    "else:\n",
    "  OUTDIR = dcase.get_value('RUNDIR')+'/'\n",
    "\n",
    "print('Output directory is:', OUTDIR)\n",
    "print('Casename is:', dcase.casename)"
   ]
  },
  {
   "cell_type": "code",
   "execution_count": 5,
   "metadata": {},
   "outputs": [],
   "source": [
    "# load sections where transports are computed online\n",
    "sections = diag_config_yml['Transports']['sections']"
   ]
  },
  {
   "cell_type": "code",
   "execution_count": 6,
   "metadata": {},
   "outputs": [],
   "source": [
    "# create an empty class object\n",
    "class args:\n",
    "  pass"
   ]
  },
  {
   "cell_type": "markdown",
   "metadata": {},
   "source": [
    "Define the arguments expected by class \"Transport\". These have been hard-coded here fow now..."
   ]
  },
  {
   "cell_type": "code",
   "execution_count": 7,
   "metadata": {
    "tags": [
     "parameters"
    ]
   },
   "outputs": [],
   "source": [
    "args.case_name = dcase.casename\n",
    "args.infile = OUTDIR\n",
    "# set avg dates\n",
    "avg = diag_config_yml['Avg']\n",
    "args.start_date = '0001-01-01' # override start date\n",
    "args.end_date = avg['end_date']\n",
    "args.label = ''\n",
    "args.debug = False"
   ]
  },
  {
   "cell_type": "markdown",
   "metadata": {},
   "source": [
    "Observed flows, more options can be added here\n",
    "\n",
    "* Griffies et al., 2016: OMIP contribution to CMIP6: experimental and diagnostic protocol for the physical component of the Ocean Model Intercomparison Project. Geosci. Model. Dev., 9, 3231-3296. doi:10.5194/gmd-9-3231-2016"
   ]
  },
  {
   "cell_type": "markdown",
   "metadata": {},
   "source": [
    "Below we define a function for plotting transport time series. Note the following:\n",
    "\n",
    "<span style=\"color:green\">green = mean transport is within observed values</span> \n",
    "\n",
    "<span style=\"color:red\">red    = mean transport is not within observed values</span> \n",
    "\n",
    "<span style=\"color:gray\">gray  = either there isn't observed values to compare with or just a mean value is available (not a range)</span> "
   ]
  },
  {
   "cell_type": "code",
   "execution_count": 8,
   "metadata": {},
   "outputs": [],
   "source": [
    "def plotPanel(section,observedFlows=None,colorCode=True):\n",
    "    ax = plt.subplot(1,1,1)\n",
    "    color = '#c3c3c3'; obsLabel = None\n",
    "    if section.label in observedFlows.keys():\n",
    "      if isinstance(observedFlows[section.label][1:],list) and isinstance(observedFlows[section.label][1:][0],float):\n",
    "        if colorCode == True:\n",
    "          if min(observedFlows[section.label][1:]) <= section.data.mean() <= max(observedFlows[section.label][1:]):\n",
    "            color = '#90ee90'\n",
    "          else: color = '#f26161'; print('here3')\n",
    "        obsLabel = str(min(observedFlows[section.label][1:])) + ' to ' + str(max(observedFlows[section.label][1:]))\n",
    "      else: obsLabel = str(observedFlows[section.label][1:]); print('here4')\n",
    "    plt.plot(section.time,section.data,color=color)\n",
    "    plt.title(section.label,fontsize=14)\n",
    "    plt.text(0.04,0.11,'Mean = '+'{0:.2f}'.format(section.data.mean()),transform=ax.transAxes,fontsize=14)\n",
    "    if obsLabel is not None: plt.text(0.04,0.04,'Obs. = '+obsLabel,transform=ax.transAxes,fontsize=14)\n",
    "    if section.ylim is not None: plt.ylim(section.ylim)\n",
    "    plt.ylabel('Transport (Sv)',fontsize=14); plt.xlabel('Time since beginning of run (yr)',fontsize=14)\n",
    "    plt.grid()\n",
    "    return"
   ]
  },
  {
   "cell_type": "markdown",
   "metadata": {},
   "source": [
    "Plot section transports in alphabetical order"
   ]
  },
  {
   "cell_type": "markdown",
   "metadata": {},
   "source": [
    "### Agulhas Section"
   ]
  },
  {
   "cell_type": "code",
   "execution_count": 10,
   "metadata": {},
   "outputs": [
    {
     "name": "stdout",
     "output_type": "stream",
     "text": [
      "Processing  {'h.Agulhas_Section': ['umo', 129.8, 143.6], 'h.Barents_Opening': ['vmo', 2.0], 'h.Bering_Strait': ['vmo', 0.7, 1.1], 'h.Davis_Strait': ['vmo', -2.1, -1.1], 'h.Denmark_Strait': ['vmo', -4.8, -2.0], 'h.Drake_Passage': ['umo', 129.8, 143.6], 'h.English_Channel': ['umo', 0.01, 0.1], 'h.Fram_Strait': ['vmo', -4.7, 0.7], 'h.Florida_Bahamas': ['vmo', 28.9, 34.3], 'h.Florida_Bahamas_extended': ['vmo', 28.9, 34.3], 'h.Florida_Cuba': ['umo', 'None'], 'h.Gibraltar_Strait': ['umo', -1.0, 1.0], 'h.Iceland_Norway': ['vmo', 28.9, 34.3], 'h.Indonesian_Throughflow': ['vmo', -15.0, -13.0], 'h.Mozambique_Channel': ['vmo', -25.6, -7.8], 'h.Pacific_undercurrent': ['umo', 24.5, 28.3], 'h.Taiwan_Luzon': ['umo', -3.0, -1.8], 'h.Windward_Passage': ['vmo', -15.0, 5.0], 'h.Robeson_Channel': ['umo', 'None'], 'h.Yucatan_Channel': ['vmo', 'None'], 'h.Bosporus_Strait': ['vmo', 'None']}\n"
     ]
    },
    {
     "ename": "TypeError",
     "evalue": "can only concatenate str (not \"dict\") to str",
     "output_type": "error",
     "traceback": [
      "\u001b[0;31m---------------------------------------------------------------------------\u001b[0m",
      "\u001b[0;31mTypeError\u001b[0m                                 Traceback (most recent call last)",
      "Cell \u001b[0;32mIn[10], line 3\u001b[0m\n\u001b[1;32m      1\u001b[0m get_ipython()\u001b[38;5;241m.\u001b[39mrun_line_magic(\u001b[38;5;124m'\u001b[39m\u001b[38;5;124mmatplotlib\u001b[39m\u001b[38;5;124m'\u001b[39m, \u001b[38;5;124m'\u001b[39m\u001b[38;5;124minline\u001b[39m\u001b[38;5;124m'\u001b[39m)\n\u001b[1;32m      2\u001b[0m ds \u001b[38;5;241m=\u001b[39m []\n\u001b[0;32m----> 3\u001b[0m agulhas \u001b[38;5;241m=\u001b[39m Transport(args,sections,\u001b[38;5;124m'\u001b[39m\u001b[38;5;124mh.Agulhas_Section\u001b[39m\u001b[38;5;124m'\u001b[39m,debug\u001b[38;5;241m=\u001b[39m\u001b[38;5;28;01mTrue\u001b[39;00m); ds\u001b[38;5;241m.\u001b[39mappend(agulhas)\n\u001b[1;32m      4\u001b[0m plotPanel(agulhas, observedFlows\u001b[38;5;241m=\u001b[39msections)\n",
      "File \u001b[0;32m/glade/work/eromashkova/miniconda3/envs/mom6-diagnostics/lib/python3.11/site-packages/mom6_tools/section_transports.py:34\u001b[0m, in \u001b[0;36mTransport.__init__\u001b[0;34m(self, args, section, var, label, ylim, zlim, mks2Sv, debug)\u001b[0m\n\u001b[1;32m     31\u001b[0m \u001b[38;5;28;01mif\u001b[39;00m debug: \u001b[38;5;28mprint\u001b[39m(\u001b[38;5;124m'\u001b[39m\u001b[38;5;124mProcessing \u001b[39m\u001b[38;5;124m'\u001b[39m, section)\n\u001b[1;32m     33\u001b[0m \u001b[38;5;66;03m# List all section* files in args.infile\u001b[39;00m\n\u001b[0;32m---> 34\u001b[0m full_path \u001b[38;5;241m=\u001b[39m \u001b[43margs\u001b[49m\u001b[38;5;241;43m.\u001b[39;49m\u001b[43minfile\u001b[49m\u001b[38;5;241;43m+\u001b[39;49m\u001b[43margs\u001b[49m\u001b[38;5;241;43m.\u001b[39;49m\u001b[43mcase_name\u001b[49m\u001b[38;5;241;43m+\u001b[39;49m\u001b[38;5;124;43m'\u001b[39;49m\u001b[38;5;124;43m.mom6.\u001b[39;49m\u001b[38;5;124;43m'\u001b[39;49m\u001b[38;5;241;43m+\u001b[39;49m\u001b[43msection\u001b[49m\u001b[38;5;241m+\u001b[39m\u001b[38;5;124m'\u001b[39m\u001b[38;5;124m*\u001b[39m\u001b[38;5;124m'\u001b[39m\n\u001b[1;32m     35\u001b[0m \u001b[38;5;28;01mif\u001b[39;00m debug: \u001b[38;5;28mprint\u001b[39m(\u001b[38;5;124m'\u001b[39m\u001b[38;5;124mFull path \u001b[39m\u001b[38;5;124m'\u001b[39m, full_path)\n\u001b[1;32m     36\u001b[0m files \u001b[38;5;241m=\u001b[39m [f \u001b[38;5;28;01mfor\u001b[39;00m f \u001b[38;5;129;01min\u001b[39;00m glob\u001b[38;5;241m.\u001b[39mglob(full_path)]\n",
      "\u001b[0;31mTypeError\u001b[0m: can only concatenate str (not \"dict\") to str"
     ]
    }
   ],
   "source": [
    "%matplotlib inline\n",
    "ds = []\n",
    "agulhas = Transport(args,sections,'h.Agulhas_Section',debug=False); ds.append(agulhas)\n",
    "plotPanel(agulhas, observedFlows=sections)"
   ]
  },
  {
   "cell_type": "markdown",
   "metadata": {},
   "source": [
    "### Bering Strait"
   ]
  },
  {
   "cell_type": "code",
   "execution_count": null,
   "metadata": {},
   "outputs": [],
   "source": [
    "bering = Transport(args, sections, 'h.Bering_Strait'); ds.append(bering)\n",
    "plotPanel(bering, observedFlows=sections)"
   ]
  },
  {
   "cell_type": "markdown",
   "metadata": {},
   "source": [
    "### Barents opening"
   ]
  },
  {
   "cell_type": "code",
   "execution_count": null,
   "metadata": {},
   "outputs": [],
   "source": [
    "barents = Transport(args, sections, 'h.Barents_Opening'); ds.append(barents)\n",
    "plotPanel(barents, observedFlows=sections)"
   ]
  },
  {
   "cell_type": "markdown",
   "metadata": {},
   "source": [
    "### Davis Strait"
   ]
  },
  {
   "cell_type": "code",
   "execution_count": null,
   "metadata": {},
   "outputs": [],
   "source": [
    "davis = Transport(args, sections,'h.Davis_Strait'); ds.append(davis)\n",
    "plotPanel(davis, observedFlows=sections)"
   ]
  },
  {
   "cell_type": "markdown",
   "metadata": {},
   "source": [
    "### Denmark Strait"
   ]
  },
  {
   "cell_type": "code",
   "execution_count": null,
   "metadata": {},
   "outputs": [],
   "source": [
    "denmark = Transport(args, sections,'h.Denmark_Strait'); ds.append(denmark)\n",
    "plotPanel(denmark, observedFlows=sections)"
   ]
  },
  {
   "cell_type": "markdown",
   "metadata": {},
   "source": [
    "### Drake Passage"
   ]
  },
  {
   "cell_type": "code",
   "execution_count": null,
   "metadata": {},
   "outputs": [],
   "source": [
    "drake = Transport(args, sections,'h.Drake_Passage'); ds.append(drake)\n",
    "plotPanel(drake, observedFlows=sections)"
   ]
  },
  {
   "cell_type": "markdown",
   "metadata": {},
   "source": [
    "### English Channel"
   ]
  },
  {
   "cell_type": "code",
   "execution_count": null,
   "metadata": {},
   "outputs": [],
   "source": [
    "english = Transport(args, sections, 'h.English_Channel'); ds.append(english)\n",
    "plotPanel(english, observedFlows=sections)"
   ]
  },
  {
   "cell_type": "markdown",
   "metadata": {},
   "source": [
    "### Fram Strait"
   ]
  },
  {
   "cell_type": "code",
   "execution_count": null,
   "metadata": {},
   "outputs": [],
   "source": [
    "fram = Transport(args, sections, 'h.Fram_Strait'); ds.append(fram)\n",
    "plotPanel(fram, observedFlows=sections)"
   ]
  },
  {
   "cell_type": "markdown",
   "metadata": {},
   "source": [
    "### Florida Bahamas"
   ]
  },
  {
   "cell_type": "code",
   "execution_count": null,
   "metadata": {},
   "outputs": [],
   "source": [
    "#florida1 = Transport(args, sections, 'h.Florida_Bahamas', debug=True); ds.append(florida1)\n",
    "#plotPanel(florida1, observedFlows=sections)"
   ]
  },
  {
   "cell_type": "markdown",
   "metadata": {},
   "source": [
    "### Florida Bahamas extended"
   ]
  },
  {
   "cell_type": "code",
   "execution_count": null,
   "metadata": {},
   "outputs": [],
   "source": [
    "florida2 = Transport(args, sections, 'h.Florida_Bahamas_extended'); ds.append(florida2)\n",
    "plotPanel(florida2, observedFlows=sections)"
   ]
  },
  {
   "cell_type": "markdown",
   "metadata": {},
   "source": [
    "### Florida Cuba"
   ]
  },
  {
   "cell_type": "code",
   "execution_count": null,
   "metadata": {},
   "outputs": [],
   "source": [
    "florida3 = Transport(args, sections, 'h.Florida_Cuba'); ds.append(florida3)\n",
    "plotPanel(florida3, observedFlows=sections)"
   ]
  },
  {
   "cell_type": "markdown",
   "metadata": {},
   "source": [
    "### Gibraltar Strait"
   ]
  },
  {
   "cell_type": "code",
   "execution_count": null,
   "metadata": {},
   "outputs": [],
   "source": [
    "gibraltar = Transport(args, sections, 'h.Gibraltar_Strait'); ds.append(gibraltar)\n",
    "plotPanel(gibraltar, observedFlows=sections)"
   ]
  },
  {
   "cell_type": "markdown",
   "metadata": {},
   "source": [
    "### Iceland Norway"
   ]
  },
  {
   "cell_type": "code",
   "execution_count": null,
   "metadata": {},
   "outputs": [],
   "source": [
    "iceland = Transport(args, sections, 'h.Iceland_Norway'); ds.append(iceland)\n",
    "plotPanel(iceland, observedFlows=sections) "
   ]
  },
  {
   "cell_type": "markdown",
   "metadata": {},
   "source": [
    "### Indonesian Throughflow"
   ]
  },
  {
   "cell_type": "code",
   "execution_count": null,
   "metadata": {},
   "outputs": [],
   "source": [
    "indo = Transport(args, sections, 'h.Indonesian_Throughflow'); ds.append(indo)\n",
    "plotPanel(indo, observedFlows=sections)"
   ]
  },
  {
   "cell_type": "markdown",
   "metadata": {},
   "source": [
    "### Mozambique Channel"
   ]
  },
  {
   "cell_type": "code",
   "execution_count": null,
   "metadata": {},
   "outputs": [],
   "source": [
    "mozambique = Transport(args, sections, 'h.Mozambique_Channel'); ds.append(mozambique)\n",
    "plotPanel(mozambique, observedFlows=sections)"
   ]
  },
  {
   "cell_type": "markdown",
   "metadata": {},
   "source": [
    "### Pacific undercurrent"
   ]
  },
  {
   "cell_type": "code",
   "execution_count": null,
   "metadata": {},
   "outputs": [],
   "source": [
    "euc = Transport(args, sections, 'h.Pacific_undercurrent'); ds.append(euc)\n",
    "plotPanel(euc, observedFlows=sections)"
   ]
  },
  {
   "cell_type": "markdown",
   "metadata": {},
   "source": [
    "### Taiwan Luzon"
   ]
  },
  {
   "cell_type": "code",
   "execution_count": null,
   "metadata": {},
   "outputs": [],
   "source": [
    "taiwan = Transport(args, sections, 'h.Taiwan_Luzon'); ds.append(taiwan)\n",
    "plotPanel(taiwan, observedFlows=sections)"
   ]
  },
  {
   "cell_type": "markdown",
   "metadata": {},
   "source": [
    "### Windward Passage"
   ]
  },
  {
   "cell_type": "code",
   "execution_count": null,
   "metadata": {},
   "outputs": [],
   "source": [
    "windward = Transport(args, sections, 'h.Windward_Passage'); ds.append(windward)\n",
    "plotPanel(windward, observedFlows=sections)"
   ]
  },
  {
   "cell_type": "markdown",
   "metadata": {},
   "source": [
    "### Robeson_Channel"
   ]
  },
  {
   "cell_type": "code",
   "execution_count": null,
   "metadata": {},
   "outputs": [],
   "source": [
    "roberson = Transport(args, sections, 'h.Robeson_Channel'); ds.append(roberson)\n",
    "plotPanel(roberson, observedFlows=sections)"
   ]
  },
  {
   "cell_type": "markdown",
   "metadata": {},
   "source": [
    "### Yucatan_Channel"
   ]
  },
  {
   "cell_type": "code",
   "execution_count": null,
   "metadata": {},
   "outputs": [],
   "source": [
    "yucatan = Transport(args, sections, 'h.Yucatan_Channel'); ds.append(yucatan)\n",
    "plotPanel(yucatan, observedFlows=sections)"
   ]
  },
  {
   "cell_type": "markdown",
   "metadata": {},
   "source": [
    "### Bosporus_Strait"
   ]
  },
  {
   "cell_type": "code",
   "execution_count": null,
   "metadata": {},
   "outputs": [],
   "source": [
    "bosporus = Transport(args, sections, 'h.Bosporus_Strait'); ds.append(bosporus)\n",
    "plotPanel(bosporus, observedFlows=sections)"
   ]
  },
  {
   "cell_type": "markdown",
   "metadata": {},
   "source": [
    "### Save netcdf"
   ]
  },
  {
   "cell_type": "code",
   "execution_count": null,
   "metadata": {},
   "outputs": [],
   "source": [
    "print('Saving netCDF file with transports...\\n')\n",
    "if not os.path.isdir('ncfiles'):\n",
    "      os.system('mkdir -p ncfiles')\n",
    "        \n",
    "# create a dataaray\n",
    "labels = [];\n",
    "for n in range(len(ds)): labels.append(ds[n].label)\n",
    "var = numpy.zeros((len(ds),len(ds[0].time)))\n",
    "ds_out = xr.Dataset(data_vars={ 'transport' : (('sections', 'time'), var)},\n",
    "                       coords={'sections': labels,\n",
    "                               'time': ds[0].time})\n",
    "for n in range(len(ds)):\n",
    "  ds_out.transport.values[n,:] = ds[n].data\n",
    "\n",
    "ds_out.to_netcdf('ncfiles/'+dcase.casename+'_section_transports.nc')"
   ]
  }
 ],
 "metadata": {
  "kernelspec": {
   "display_name": "Python [conda env:miniconda3-mom6-diagnostics]",
   "language": "python",
   "name": "conda-env-miniconda3-mom6-diagnostics-py"
  },
  "language_info": {
   "codemirror_mode": {
    "name": "ipython",
    "version": 3
   },
   "file_extension": ".py",
   "mimetype": "text/x-python",
   "name": "python",
   "nbconvert_exporter": "python",
   "pygments_lexer": "ipython3",
   "version": "3.11.5"
  },
  "toc": {
   "base_numbering": 1,
   "nav_menu": {},
   "number_sections": true,
   "sideBar": true,
   "skip_h1_title": false,
   "title_cell": "Table of Contents",
   "title_sidebar": "Contents",
   "toc_cell": false,
   "toc_position": {},
   "toc_section_display": true,
   "toc_window_display": false
  },
  "varInspector": {
   "cols": {
    "lenName": 16,
    "lenType": 16,
    "lenVar": 40
   },
   "kernels_config": {
    "python": {
     "delete_cmd_postfix": "",
     "delete_cmd_prefix": "del ",
     "library": "var_list.py",
     "varRefreshCmd": "print(var_dic_list())"
    },
    "r": {
     "delete_cmd_postfix": ") ",
     "delete_cmd_prefix": "rm(",
     "library": "var_list.r",
     "varRefreshCmd": "cat(var_dic_list()) "
    }
   },
   "types_to_exclude": [
    "module",
    "function",
    "builtin_function_or_method",
    "instance",
    "_Feature"
   ],
   "window_display": false
  }
 },
 "nbformat": 4,
 "nbformat_minor": 4
}
