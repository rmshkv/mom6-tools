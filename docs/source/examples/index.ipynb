{
 "cells": [
  {
   "cell_type": "markdown",
   "id": "de8113f1-e148-4ef3-85cf-a08b22463470",
   "metadata": {},
   "source": [
    "# Homepage"
   ]
  },
  {
   "cell_type": "code",
   "execution_count": null,
   "id": "6219d5ad-8370-4013-a038-cb003d9428dc",
   "metadata": {
    "tags": [
     "parameters"
    ]
   },
   "outputs": [],
   "source": []
  }
 ],
 "metadata": {
  "kernelspec": {
   "display_name": "Python 3 (ipykernel)",
   "language": "python",
   "name": "python3"
  },
  "language_info": {
   "codemirror_mode": {
    "name": "ipython",
    "version": 3
   },
   "file_extension": ".py",
   "mimetype": "text/x-python",
   "name": "python",
   "nbconvert_exporter": "python",
   "pygments_lexer": "ipython3",
   "version": "3.9.12"
  }
 },
 "nbformat": 4,
 "nbformat_minor": 5
}
