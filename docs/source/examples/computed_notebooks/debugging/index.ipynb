{
 "cells": [
  {
   "cell_type": "markdown",
   "id": "de8113f1-e148-4ef3-85cf-a08b22463470",
   "metadata": {
    "papermill": {
     "duration": 0.003285,
     "end_time": "2023-10-17T21:23:36.849473",
     "exception": false,
     "start_time": "2023-10-17T21:23:36.846188",
     "status": "completed"
    },
    "tags": []
   },
   "source": [
    "# Homepage"
   ]
  },
  {
   "cell_type": "code",
   "execution_count": null,
   "id": "6219d5ad-8370-4013-a038-cb003d9428dc",
   "metadata": {
    "papermill": {
     "duration": 0.002566,
     "end_time": "2023-10-17T21:23:36.854966",
     "exception": false,
     "start_time": "2023-10-17T21:23:36.852400",
     "status": "completed"
    },
    "tags": [
     "parameters"
    ]
   },
   "outputs": [],
   "source": []
  },
  {
   "cell_type": "code",
   "execution_count": 1,
   "id": "88f6b7f0",
   "metadata": {
    "execution": {
     "iopub.execute_input": "2023-10-17T21:23:36.859988Z",
     "iopub.status.busy": "2023-10-17T21:23:36.859797Z",
     "iopub.status.idle": "2023-10-17T21:23:36.865002Z",
     "shell.execute_reply": "2023-10-17T21:23:36.864579Z"
    },
    "papermill": {
     "duration": 0.012444,
     "end_time": "2023-10-17T21:23:36.868273",
     "exception": false,
     "start_time": "2023-10-17T21:23:36.855829",
     "status": "completed"
    },
    "tags": [
     "injected-parameters"
    ]
   },
   "outputs": [],
   "source": [
    "# Parameters\n",
    "sname = \"placeholder-sname\"\n",
    "subset_kwargs = {}\n",
    "product = \"/glade/u/home/eromashkova/codes/mom6-tools/docs/source/examples/computed_notebooks/placeholder-sname/index.ipynb\"\n"
   ]
  }
 ],
 "metadata": {
  "kernelspec": {
   "display_name": "Python 3 (ipykernel)",
   "language": "python",
   "name": "mom6-diagnostics"
  },
  "language_info": {
   "codemirror_mode": {
    "name": "ipython",
    "version": 3
   },
   "file_extension": ".py",
   "mimetype": "text/x-python",
   "name": "python",
   "nbconvert_exporter": "python",
   "pygments_lexer": "ipython3",
   "version": "3.11.5"
  },
  "papermill": {
   "duration": 6.960963,
   "end_time": "2023-10-17T21:23:38.119516",
   "exception": null,
   "input_path": "/glade/scratch/eromashkova/tmp/tmpy4bwsx9t.ipynb",
   "output_path": "/glade/u/home/eromashkova/codes/mom6-tools/docs/source/examples/computed_notebooks/placeholder-sname/index.ipynb",
   "parameters": {
    "product": "/glade/u/home/eromashkova/codes/mom6-tools/docs/source/examples/computed_notebooks/placeholder-sname/index.ipynb",
    "sname": "placeholder-sname",
    "subset_kwargs": {}
   },
   "start_time": "2023-10-17T21:23:31.158553"
  }
 },
 "nbformat": 4,
 "nbformat_minor": 5
}