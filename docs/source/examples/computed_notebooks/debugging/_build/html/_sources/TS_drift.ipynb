{
 "cells": [
  {
   "cell_type": "markdown",
   "id": "ea0a29bd",
   "metadata": {
    "tags": [
     "papermill-error-cell-tag"
    ]
   },
   "source": [
    "<span style=\"color:red; font-family:Helvetica Neue, Helvetica, Arial, sans-serif; font-size:2em;\">An Exception was encountered at '<a href=\"#papermill-error-cell\">In [13]</a>'.</span>"
   ]
  },
  {
   "cell_type": "markdown",
   "id": "984777d6",
   "metadata": {
    "papermill": {
     "duration": 0.004899,
     "end_time": "2023-10-17T21:23:41.562823",
     "exception": false,
     "start_time": "2023-10-17T21:23:41.557924",
     "status": "completed"
    },
    "tags": []
   },
   "source": [
    "# Horizontal Mean difference and RMS: model versus observations\n",
    "\n",
    "`mom6_tools.horizontalMean` collection of functions for computing horizontal mean of **difference** and **rms** (model versus obs). This notebook servers as an example on how to compute the following operations:\n",
    "\n",
    "\n",
    "$$diff(t,z)= A_{TOT}(z)^{-1}\\sum_{i=1}^n (y_i(z) - \\hat{y_i(x,y,z)}) A_i(z),$$\n",
    "\n",
    "$$rms(t,z)= [A_{TOT}(z)^{-1}\\sum_{i=1}^n (y_i(z) - \\hat{y_i}(x,y,z))^2 A_i(z)]^{1/2},$$\n",
    "\n",
    "where $y$(z) is the model output at point $i$ and level $z$, $\\hat{y}(z)$ is the observation at point $i$ and level $z$, $n$ is the total number of grid points in the horizontal (i.e., NX x NY), $A_{i}(z)$ is the area of grid cell $i$ at level $z$, and $A_{TOT}(z) = \\sum_{i=1}^n A_i(z)$ is the total ocean area at level z. \n",
    "\n",
    "**Important**:\n",
    "\n",
    "With the porpuses of calculating T and S changes at specific regions, $A_{i}(z)$ is multiplied by basin masks generated via ``mom6_tools.m6toolbox.genBasinMasks``. See [notebook](https://mom6-tools.readthedocs.io/en/latest/examples/region_masks.html) showing how to generate these masks. "
   ]
  },
  {
   "cell_type": "code",
   "execution_count": 1,
   "id": "56ac302d",
   "metadata": {
    "execution": {
     "iopub.execute_input": "2023-10-17T21:23:41.603928Z",
     "iopub.status.busy": "2023-10-17T21:23:41.603735Z",
     "iopub.status.idle": "2023-10-17T21:23:41.703223Z",
     "shell.execute_reply": "2023-10-17T21:23:41.695690Z"
    },
    "papermill": {
     "duration": 0.13803,
     "end_time": "2023-10-17T21:23:41.704587",
     "exception": false,
     "start_time": "2023-10-17T21:23:41.566557",
     "status": "completed"
    },
    "tags": []
   },
   "outputs": [],
   "source": [
    "%load_ext autoreload\n",
    "%autoreload 2"
   ]
  },
  {
   "cell_type": "code",
   "execution_count": 2,
   "id": "39b20e69",
   "metadata": {
    "execution": {
     "iopub.execute_input": "2023-10-17T21:23:41.726466Z",
     "iopub.status.busy": "2023-10-17T21:23:41.726282Z",
     "iopub.status.idle": "2023-10-17T21:23:54.593917Z",
     "shell.execute_reply": "2023-10-17T21:23:54.574678Z"
    },
    "papermill": {
     "duration": 12.883904,
     "end_time": "2023-10-17T21:23:54.595767",
     "exception": false,
     "start_time": "2023-10-17T21:23:41.711863",
     "status": "completed"
    },
    "tags": []
   },
   "outputs": [
    {
     "name": "stdout",
     "output_type": "stream",
     "text": [
      "Basemap module not found. Some regional plots may not function properly\n"
     ]
    }
   ],
   "source": [
    "from mom6_tools.DiagsCase import DiagsCase\n",
    "from mom6_tools.MOM6grid import MOM6grid\n",
    "from mom6_tools.drift import HorizontalMeanDiff_da, HorizontalMeanRmse_da \n",
    "from mom6_tools.m6plot import ztplot\n",
    "from ncar_jobqueue import NCARCluster\n",
    "from dask.distributed import Client\n",
    "from mom6_tools.m6toolbox import genBasinMasks, request_workers, \\\n",
    "                                 weighted_temporal_mean, add_global_attrs\n",
    "from IPython.display import display, Markdown, Latex\n",
    "import yaml, intake, os\n",
    "import xarray as xr\n",
    "import matplotlib\n",
    "import numpy as np\n",
    "%matplotlib inline"
   ]
  },
  {
   "cell_type": "code",
   "execution_count": 3,
   "id": "b010296f",
   "metadata": {
    "execution": {
     "iopub.execute_input": "2023-10-17T21:23:54.641957Z",
     "iopub.status.busy": "2023-10-17T21:23:54.641749Z",
     "iopub.status.idle": "2023-10-17T21:23:57.252861Z",
     "shell.execute_reply": "2023-10-17T21:23:57.247368Z"
    },
    "papermill": {
     "duration": 2.632002,
     "end_time": "2023-10-17T21:23:57.254508",
     "exception": false,
     "start_time": "2023-10-17T21:23:54.622506",
     "status": "completed"
    },
    "tags": []
   },
   "outputs": [
    {
     "name": "stdout",
     "output_type": "stream",
     "text": [
      "Output directory is: /glade/scratch/gmarques/archive/g.e23_b15.GJRAv4.TL319_t232_zstar_N65.baseline.001/ocn/hist/\n",
      "Casename is: g.e23_b15.GJRAv4.TL319_t232_zstar_N65.baseline.001\n"
     ]
    }
   ],
   "source": [
    "# Read in the yaml file\n",
    "diag_config_yml_path = \"diag_config.yml\"\n",
    "diag_config_yml = yaml.load(open(diag_config_yml_path,'r'), Loader=yaml.Loader)\n",
    "\n",
    "# load avg dates\n",
    "avg = diag_config_yml['Avg']\n",
    "\n",
    "# Create the case instance\n",
    "dcase = DiagsCase(diag_config_yml['Case'])\n",
    "DOUT_S = dcase.get_value('DOUT_S')\n",
    "if DOUT_S:\n",
    "  OUTDIR = dcase.get_value('DOUT_S_ROOT')+'/ocn/hist/'\n",
    "else:\n",
    "  OUTDIR = dcase.get_value('RUNDIR')\n",
    "\n",
    "print('Output directory is:', OUTDIR)\n",
    "print('Casename is:', dcase.casename)"
   ]
  },
  {
   "cell_type": "code",
   "execution_count": 4,
   "id": "8eaceaae",
   "metadata": {
    "execution": {
     "iopub.execute_input": "2023-10-17T21:23:57.264935Z",
     "iopub.status.busy": "2023-10-17T21:23:57.264727Z",
     "iopub.status.idle": "2023-10-17T21:23:57.650775Z",
     "shell.execute_reply": "2023-10-17T21:23:57.650230Z"
    },
    "papermill": {
     "duration": 0.392689,
     "end_time": "2023-10-17T21:23:57.652427",
     "exception": false,
     "start_time": "2023-10-17T21:23:57.259738",
     "status": "completed"
    },
    "tags": [
     "parameters"
    ]
   },
   "outputs": [],
   "source": [
    "# The following parameters must be set accordingly\n",
    "######################################################\n",
    "\n",
    "# create an empty class object\n",
    "class args:\n",
    "  pass\n",
    "\n",
    "args.start_date = avg['start_date']\n",
    "args.end_date = avg['end_date']\n",
    "args.casename = dcase.casename\n",
    "args.obs = \"woa-2018-tx2_3v2-annual-all\"\n",
    "args.z = dcase.casename+diag_config_yml['Fnames']['z']\n",
    "args.static = dcase.casename+diag_config_yml['Fnames']['static']\n",
    "args.savefigs = False\n",
    "args.nw = 6 # requesting 6 workers"
   ]
  },
  {
   "cell_type": "code",
   "execution_count": 5,
   "id": "d6bb0e2d",
   "metadata": {
    "execution": {
     "iopub.execute_input": "2023-10-17T21:23:57.676931Z",
     "iopub.status.busy": "2023-10-17T21:23:57.676728Z",
     "iopub.status.idle": "2023-10-17T21:23:58.050280Z",
     "shell.execute_reply": "2023-10-17T21:23:58.049820Z"
    },
    "papermill": {
     "duration": 0.385362,
     "end_time": "2023-10-17T21:23:58.051976",
     "exception": false,
     "start_time": "2023-10-17T21:23:57.666614",
     "status": "completed"
    },
    "tags": [
     "injected-parameters"
    ]
   },
   "outputs": [],
   "source": [
    "# Parameters\n",
    "sname = \"placeholder-sname\"\n",
    "subset_kwargs = {}\n",
    "product = \"/glade/u/home/eromashkova/codes/mom6-tools/docs/source/examples/computed_notebooks/placeholder-sname/TS_drift.ipynb\"\n"
   ]
  },
  {
   "cell_type": "code",
   "execution_count": 6,
   "id": "72c48222",
   "metadata": {
    "execution": {
     "iopub.execute_input": "2023-10-17T21:23:58.076846Z",
     "iopub.status.busy": "2023-10-17T21:23:58.076632Z",
     "iopub.status.idle": "2023-10-17T21:23:59.565343Z",
     "shell.execute_reply": "2023-10-17T21:23:59.564793Z"
    },
    "papermill": {
     "duration": 1.510623,
     "end_time": "2023-10-17T21:23:59.566885",
     "exception": false,
     "start_time": "2023-10-17T21:23:58.056262",
     "status": "completed"
    },
    "tags": []
   },
   "outputs": [
    {
     "name": "stdout",
     "output_type": "stream",
     "text": [
      "MOM6 grid successfully loaded... \n",
      "\n"
     ]
    }
   ],
   "source": [
    "# read grid info\n",
    "grd = MOM6grid(OUTDIR+'/'+args.static, xrformat=True)\n",
    "try:\n",
    "  depth = grd.depth_ocean.values\n",
    "except:\n",
    "  depth = grd.deptho.values\n",
    "\n",
    "try:\n",
    "  area = grd.area_t.where(grd.wet > 0)\n",
    "except:\n",
    "  area = grd.areacello.where(grd.wet > 0)"
   ]
  },
  {
   "cell_type": "code",
   "execution_count": 7,
   "id": "53e857a9",
   "metadata": {
    "execution": {
     "iopub.execute_input": "2023-10-17T21:23:59.579574Z",
     "iopub.status.busy": "2023-10-17T21:23:59.579380Z",
     "iopub.status.idle": "2023-10-17T21:24:10.935567Z",
     "shell.execute_reply": "2023-10-17T21:24:10.934865Z"
    },
    "papermill": {
     "duration": 11.362627,
     "end_time": "2023-10-17T21:24:10.937258",
     "exception": false,
     "start_time": "2023-10-17T21:23:59.574631",
     "status": "completed"
    },
    "tags": []
   },
   "outputs": [],
   "source": [
    "# remote Nan's, otherwise genBasinMasks won't work\n",
    "depth[np.isnan(depth)] = 0.0\n",
    "basin_code = genBasinMasks(grd.geolon.values, grd.geolat.values, depth, xda=True)"
   ]
  },
  {
   "cell_type": "code",
   "execution_count": 8,
   "id": "8d90fc4d",
   "metadata": {
    "execution": {
     "iopub.execute_input": "2023-10-17T21:24:10.963100Z",
     "iopub.status.busy": "2023-10-17T21:24:10.962875Z",
     "iopub.status.idle": "2023-10-17T21:24:17.434773Z",
     "shell.execute_reply": "2023-10-17T21:24:17.431480Z"
    },
    "papermill": {
     "duration": 6.483802,
     "end_time": "2023-10-17T21:24:17.436380",
     "exception": false,
     "start_time": "2023-10-17T21:24:10.952578",
     "status": "completed"
    },
    "tags": []
   },
   "outputs": [
    {
     "data": {
      "text/html": [
       "<div>\n",
       "    <div style=\"width: 24px; height: 24px; background-color: #e1e1e1; border: 3px solid #9D9D9D; border-radius: 5px; position: absolute;\"> </div>\n",
       "    <div style=\"margin-left: 48px;\">\n",
       "        <h3 style=\"margin-bottom: 0px;\">Client</h3>\n",
       "        <p style=\"color: #9D9D9D; margin-bottom: 0px;\">Client-85a1e465-6d33-11ee-9a90-3cecef1b11e4</p>\n",
       "        <table style=\"width: 100%; text-align: left;\">\n",
       "\n",
       "        <tr>\n",
       "        \n",
       "            <td style=\"text-align: left;\"><strong>Connection method:</strong> Cluster object</td>\n",
       "            <td style=\"text-align: left;\"><strong>Cluster type:</strong> dask_jobqueue.PBSCluster</td>\n",
       "        \n",
       "        </tr>\n",
       "\n",
       "        \n",
       "            <tr>\n",
       "                <td style=\"text-align: left;\">\n",
       "                    <strong>Dashboard: </strong> <a href=\"/proxy/45807/status\" target=\"_blank\">/proxy/45807/status</a>\n",
       "                </td>\n",
       "                <td style=\"text-align: left;\"></td>\n",
       "            </tr>\n",
       "        \n",
       "\n",
       "        </table>\n",
       "\n",
       "        \n",
       "            <button style=\"margin-bottom: 12px;\" data-commandlinker-command=\"dask:populate-and-launch-layout\" data-commandlinker-args='{\"url\": \"/proxy/45807/status\" }'>\n",
       "                Launch dashboard in JupyterLab\n",
       "            </button>\n",
       "        \n",
       "\n",
       "        \n",
       "            <details>\n",
       "            <summary style=\"margin-bottom: 20px;\"><h3 style=\"display: inline;\">Cluster Info</h3></summary>\n",
       "            <div class=\"jp-RenderedHTMLCommon jp-RenderedHTML jp-mod-trusted jp-OutputArea-output\">\n",
       "    <div style=\"width: 24px; height: 24px; background-color: #e1e1e1; border: 3px solid #9D9D9D; border-radius: 5px; position: absolute;\">\n",
       "    </div>\n",
       "    <div style=\"margin-left: 48px;\">\n",
       "        <h3 style=\"margin-bottom: 0px; margin-top: 0px;\">PBSCluster</h3>\n",
       "        <p style=\"color: #9D9D9D; margin-bottom: 0px;\">4f9a4271</p>\n",
       "        <table style=\"width: 100%; text-align: left;\">\n",
       "            <tr>\n",
       "                <td style=\"text-align: left;\">\n",
       "                    <strong>Dashboard:</strong> <a href=\"/proxy/45807/status\" target=\"_blank\">/proxy/45807/status</a>\n",
       "                </td>\n",
       "                <td style=\"text-align: left;\">\n",
       "                    <strong>Workers:</strong> 0\n",
       "                </td>\n",
       "            </tr>\n",
       "            <tr>\n",
       "                <td style=\"text-align: left;\">\n",
       "                    <strong>Total threads:</strong> 0\n",
       "                </td>\n",
       "                <td style=\"text-align: left;\">\n",
       "                    <strong>Total memory:</strong> 0 B\n",
       "                </td>\n",
       "            </tr>\n",
       "            \n",
       "        </table>\n",
       "\n",
       "        <details>\n",
       "            <summary style=\"margin-bottom: 20px;\">\n",
       "                <h3 style=\"display: inline;\">Scheduler Info</h3>\n",
       "            </summary>\n",
       "\n",
       "            <div style=\"\">\n",
       "    <div>\n",
       "        <div style=\"width: 24px; height: 24px; background-color: #FFF7E5; border: 3px solid #FF6132; border-radius: 5px; position: absolute;\"> </div>\n",
       "        <div style=\"margin-left: 48px;\">\n",
       "            <h3 style=\"margin-bottom: 0px;\">Scheduler</h3>\n",
       "            <p style=\"color: #9D9D9D; margin-bottom: 0px;\">Scheduler-0ff14f15-dc6b-4945-bb5e-29d1580dd837</p>\n",
       "            <table style=\"width: 100%; text-align: left;\">\n",
       "                <tr>\n",
       "                    <td style=\"text-align: left;\">\n",
       "                        <strong>Comm:</strong> tcp://10.12.206.57:42319\n",
       "                    </td>\n",
       "                    <td style=\"text-align: left;\">\n",
       "                        <strong>Workers:</strong> 0\n",
       "                    </td>\n",
       "                </tr>\n",
       "                <tr>\n",
       "                    <td style=\"text-align: left;\">\n",
       "                        <strong>Dashboard:</strong> <a href=\"/proxy/45807/status\" target=\"_blank\">/proxy/45807/status</a>\n",
       "                    </td>\n",
       "                    <td style=\"text-align: left;\">\n",
       "                        <strong>Total threads:</strong> 0\n",
       "                    </td>\n",
       "                </tr>\n",
       "                <tr>\n",
       "                    <td style=\"text-align: left;\">\n",
       "                        <strong>Started:</strong> Just now\n",
       "                    </td>\n",
       "                    <td style=\"text-align: left;\">\n",
       "                        <strong>Total memory:</strong> 0 B\n",
       "                    </td>\n",
       "                </tr>\n",
       "            </table>\n",
       "        </div>\n",
       "    </div>\n",
       "\n",
       "    <details style=\"margin-left: 48px;\">\n",
       "        <summary style=\"margin-bottom: 20px;\">\n",
       "            <h3 style=\"display: inline;\">Workers</h3>\n",
       "        </summary>\n",
       "\n",
       "        \n",
       "\n",
       "    </details>\n",
       "</div>\n",
       "\n",
       "        </details>\n",
       "    </div>\n",
       "</div>\n",
       "            </details>\n",
       "        \n",
       "\n",
       "    </div>\n",
       "</div>"
      ],
      "text/plain": [
       "<Client: 'tcp://10.12.206.57:42319' processes=0 threads=0, memory=0 B>"
      ]
     },
     "execution_count": 8,
     "metadata": {},
     "output_type": "execute_result"
    }
   ],
   "source": [
    "cluster = NCARCluster()\n",
    "cluster.scale(args.nw)\n",
    "client = Client(cluster)\n",
    "client"
   ]
  },
  {
   "cell_type": "code",
   "execution_count": 9,
   "id": "1cc62785",
   "metadata": {
    "execution": {
     "iopub.execute_input": "2023-10-17T21:24:17.467851Z",
     "iopub.status.busy": "2023-10-17T21:24:17.467635Z",
     "iopub.status.idle": "2023-10-17T21:24:17.707925Z",
     "shell.execute_reply": "2023-10-17T21:24:17.684685Z"
    },
    "papermill": {
     "duration": 0.24836,
     "end_time": "2023-10-17T21:24:17.709301",
     "exception": false,
     "start_time": "2023-10-17T21:24:17.460941",
     "status": "completed"
    },
    "tags": []
   },
   "outputs": [],
   "source": [
    "def preprocess(ds):\n",
    "    if 'thetao' not in ds.variables:\n",
    "        ds[\"thetao\"] = xr.zeros_like(ds.h)\n",
    "    if 'so' not in ds.variables:\n",
    "        ds[\"so\"] = xr.zeros_like(ds.h)\n",
    "\n",
    "    return ds"
   ]
  },
  {
   "cell_type": "code",
   "execution_count": 10,
   "id": "4e7bbc6b",
   "metadata": {
    "execution": {
     "iopub.execute_input": "2023-10-17T21:24:17.724200Z",
     "iopub.status.busy": "2023-10-17T21:24:17.723999Z",
     "iopub.status.idle": "2023-10-17T21:25:19.596833Z",
     "shell.execute_reply": "2023-10-17T21:25:19.576203Z"
    },
    "papermill": {
     "duration": 61.882968,
     "end_time": "2023-10-17T21:25:19.598238",
     "exception": false,
     "start_time": "2023-10-17T21:24:17.715270",
     "status": "completed"
    },
    "tags": []
   },
   "outputs": [],
   "source": [
    "# read dataset\n",
    "ds = xr.open_mfdataset(OUTDIR+'/'+args.z,\n",
    "    parallel=True,\n",
    "    combine=\"nested\", # concatenate in order of files\n",
    "    concat_dim=\"time\", # concatenate along time\n",
    "    preprocess=preprocess,\n",
    "    ).chunk({\"time\": 12})"
   ]
  },
  {
   "cell_type": "code",
   "execution_count": 11,
   "id": "a426215f",
   "metadata": {
    "execution": {
     "iopub.execute_input": "2023-10-17T21:25:19.609782Z",
     "iopub.status.busy": "2023-10-17T21:25:19.609582Z",
     "iopub.status.idle": "2023-10-17T21:25:24.433527Z",
     "shell.execute_reply": "2023-10-17T21:25:24.413586Z"
    },
    "papermill": {
     "duration": 4.830866,
     "end_time": "2023-10-17T21:25:24.434920",
     "exception": false,
     "start_time": "2023-10-17T21:25:19.604054",
     "status": "completed"
    },
    "tags": []
   },
   "outputs": [],
   "source": [
    "# Compute thetao climatologies\n",
    "var = 'thetao'\n",
    "attrs =  {\n",
    "         'description': 'Annual mean climatology for '+var,\n",
    "         'start_date': args.start_date,\n",
    "         'end_date': args.end_date,\n",
    "         'reduction_method': 'annual mean weighted by days in each month',\n",
    "         'casename': dcase.casename\n",
    "         }\n",
    "\n",
    "thetao_model = weighted_temporal_mean(ds,var)\n",
    "thetao_model.attrs = attrs"
   ]
  },
  {
   "cell_type": "code",
   "execution_count": 12,
   "id": "6a27f47a",
   "metadata": {
    "execution": {
     "iopub.execute_input": "2023-10-17T21:25:24.450573Z",
     "iopub.status.busy": "2023-10-17T21:25:24.450386Z",
     "iopub.status.idle": "2023-10-17T21:25:29.078877Z",
     "shell.execute_reply": "2023-10-17T21:25:29.078065Z"
    },
    "papermill": {
     "duration": 4.638053,
     "end_time": "2023-10-17T21:25:29.080203",
     "exception": false,
     "start_time": "2023-10-17T21:25:24.442150",
     "status": "completed"
    },
    "tags": []
   },
   "outputs": [],
   "source": [
    "# Compute thetao climatologies\n",
    "var = 'so'\n",
    "attrs =  {\n",
    "         'description': 'Annual mean climatology for '+var,\n",
    "         'start_date': args.start_date,\n",
    "         'end_date': args.end_date,\n",
    "         'reduction_method': 'annual mean weighted by days in each month',\n",
    "         'casename': dcase.casename\n",
    "         }\n",
    "\n",
    "salt_model = weighted_temporal_mean(ds,var)\n",
    "salt_model.attrs = attrs"
   ]
  },
  {
   "cell_type": "markdown",
   "id": "f1328b45",
   "metadata": {
    "tags": [
     "papermill-error-cell-tag"
    ]
   },
   "source": [
    "<span id=\"papermill-error-cell\" style=\"color:red; font-family:Helvetica Neue, Helvetica, Arial, sans-serif; font-size:2em;\">Execution using papermill encountered an exception here and stopped:</span>"
   ]
  },
  {
   "cell_type": "code",
   "execution_count": 13,
   "id": "e322de1b",
   "metadata": {
    "execution": {
     "iopub.execute_input": "2023-10-17T21:25:29.093468Z",
     "iopub.status.busy": "2023-10-17T21:25:29.093292Z",
     "iopub.status.idle": "2023-10-17T21:25:32.654870Z",
     "shell.execute_reply": "2023-10-17T21:25:32.629303Z"
    },
    "papermill": {
     "duration": 3.56968,
     "end_time": "2023-10-17T21:25:32.656063",
     "exception": true,
     "start_time": "2023-10-17T21:25:29.086383",
     "status": "failed"
    },
    "tags": []
   },
   "outputs": [
    {
     "ename": "IndexError",
     "evalue": "list index out of range",
     "output_type": "error",
     "traceback": [
      "\u001b[0;31m---------------------------------------------------------------------------\u001b[0m",
      "\u001b[0;31mIndexError\u001b[0m                                Traceback (most recent call last)",
      "Cell \u001b[0;32mIn[13], line 3\u001b[0m\n\u001b[1;32m      1\u001b[0m \u001b[38;5;66;03m# load obs\u001b[39;00m\n\u001b[1;32m      2\u001b[0m catalog \u001b[38;5;241m=\u001b[39m intake\u001b[38;5;241m.\u001b[39mopen_catalog(diag_config_yml[\u001b[38;5;124m'\u001b[39m\u001b[38;5;124moce_cat\u001b[39m\u001b[38;5;124m'\u001b[39m])\n\u001b[0;32m----> 3\u001b[0m obs \u001b[38;5;241m=\u001b[39m \u001b[43mcatalog\u001b[49m\u001b[43m[\u001b[49m\u001b[43margs\u001b[49m\u001b[38;5;241;43m.\u001b[39;49m\u001b[43mobs\u001b[49m\u001b[43m]\u001b[49m\u001b[38;5;241;43m.\u001b[39;49m\u001b[43mto_dask\u001b[49m\u001b[43m(\u001b[49m\u001b[43m)\u001b[49m\n",
      "File \u001b[0;32m/glade/work/eromashkova/miniconda3/envs/mom6-diagnostics/lib/python3.11/site-packages/intake_xarray/base.py:69\u001b[0m, in \u001b[0;36mDataSourceMixin.to_dask\u001b[0;34m(self)\u001b[0m\n\u001b[1;32m     67\u001b[0m \u001b[38;5;28;01mdef\u001b[39;00m \u001b[38;5;21mto_dask\u001b[39m(\u001b[38;5;28mself\u001b[39m):\n\u001b[1;32m     68\u001b[0m \u001b[38;5;250m    \u001b[39m\u001b[38;5;124;03m\"\"\"Return xarray object where variables are dask arrays\"\"\"\u001b[39;00m\n\u001b[0;32m---> 69\u001b[0m     \u001b[38;5;28;01mreturn\u001b[39;00m \u001b[38;5;28;43mself\u001b[39;49m\u001b[38;5;241;43m.\u001b[39;49m\u001b[43mread_chunked\u001b[49m\u001b[43m(\u001b[49m\u001b[43m)\u001b[49m\n",
      "File \u001b[0;32m/glade/work/eromashkova/miniconda3/envs/mom6-diagnostics/lib/python3.11/site-packages/intake_xarray/base.py:44\u001b[0m, in \u001b[0;36mDataSourceMixin.read_chunked\u001b[0;34m(self)\u001b[0m\n\u001b[1;32m     42\u001b[0m \u001b[38;5;28;01mdef\u001b[39;00m \u001b[38;5;21mread_chunked\u001b[39m(\u001b[38;5;28mself\u001b[39m):\n\u001b[1;32m     43\u001b[0m \u001b[38;5;250m    \u001b[39m\u001b[38;5;124;03m\"\"\"Return xarray object (which will have chunks)\"\"\"\u001b[39;00m\n\u001b[0;32m---> 44\u001b[0m     \u001b[38;5;28;43mself\u001b[39;49m\u001b[38;5;241;43m.\u001b[39;49m\u001b[43m_load_metadata\u001b[49m\u001b[43m(\u001b[49m\u001b[43m)\u001b[49m\n\u001b[1;32m     45\u001b[0m     \u001b[38;5;28;01mreturn\u001b[39;00m \u001b[38;5;28mself\u001b[39m\u001b[38;5;241m.\u001b[39m_ds\n",
      "File \u001b[0;32m/glade/work/eromashkova/miniconda3/envs/mom6-diagnostics/lib/python3.11/site-packages/intake/source/base.py:283\u001b[0m, in \u001b[0;36mDataSourceBase._load_metadata\u001b[0;34m(self)\u001b[0m\n\u001b[1;32m    281\u001b[0m \u001b[38;5;250m\u001b[39m\u001b[38;5;124;03m\"\"\"load metadata only if needed\"\"\"\u001b[39;00m\n\u001b[1;32m    282\u001b[0m \u001b[38;5;28;01mif\u001b[39;00m \u001b[38;5;28mself\u001b[39m\u001b[38;5;241m.\u001b[39m_schema \u001b[38;5;129;01mis\u001b[39;00m \u001b[38;5;28;01mNone\u001b[39;00m:\n\u001b[0;32m--> 283\u001b[0m     \u001b[38;5;28mself\u001b[39m\u001b[38;5;241m.\u001b[39m_schema \u001b[38;5;241m=\u001b[39m \u001b[38;5;28;43mself\u001b[39;49m\u001b[38;5;241;43m.\u001b[39;49m\u001b[43m_get_schema\u001b[49m\u001b[43m(\u001b[49m\u001b[43m)\u001b[49m\n\u001b[1;32m    284\u001b[0m     \u001b[38;5;28mself\u001b[39m\u001b[38;5;241m.\u001b[39mdtype \u001b[38;5;241m=\u001b[39m \u001b[38;5;28mself\u001b[39m\u001b[38;5;241m.\u001b[39m_schema\u001b[38;5;241m.\u001b[39mdtype\n\u001b[1;32m    285\u001b[0m     \u001b[38;5;28mself\u001b[39m\u001b[38;5;241m.\u001b[39mshape \u001b[38;5;241m=\u001b[39m \u001b[38;5;28mself\u001b[39m\u001b[38;5;241m.\u001b[39m_schema\u001b[38;5;241m.\u001b[39mshape\n",
      "File \u001b[0;32m/glade/work/eromashkova/miniconda3/envs/mom6-diagnostics/lib/python3.11/site-packages/intake_xarray/base.py:18\u001b[0m, in \u001b[0;36mDataSourceMixin._get_schema\u001b[0;34m(self)\u001b[0m\n\u001b[1;32m     15\u001b[0m \u001b[38;5;28mself\u001b[39m\u001b[38;5;241m.\u001b[39murlpath \u001b[38;5;241m=\u001b[39m \u001b[38;5;28mself\u001b[39m\u001b[38;5;241m.\u001b[39m_get_cache(\u001b[38;5;28mself\u001b[39m\u001b[38;5;241m.\u001b[39murlpath)[\u001b[38;5;241m0\u001b[39m]\n\u001b[1;32m     17\u001b[0m \u001b[38;5;28;01mif\u001b[39;00m \u001b[38;5;28mself\u001b[39m\u001b[38;5;241m.\u001b[39m_ds \u001b[38;5;129;01mis\u001b[39;00m \u001b[38;5;28;01mNone\u001b[39;00m:\n\u001b[0;32m---> 18\u001b[0m     \u001b[38;5;28;43mself\u001b[39;49m\u001b[38;5;241;43m.\u001b[39;49m\u001b[43m_open_dataset\u001b[49m\u001b[43m(\u001b[49m\u001b[43m)\u001b[49m\n\u001b[1;32m     20\u001b[0m     metadata \u001b[38;5;241m=\u001b[39m {\n\u001b[1;32m     21\u001b[0m         \u001b[38;5;124m'\u001b[39m\u001b[38;5;124mdims\u001b[39m\u001b[38;5;124m'\u001b[39m: \u001b[38;5;28mdict\u001b[39m(\u001b[38;5;28mself\u001b[39m\u001b[38;5;241m.\u001b[39m_ds\u001b[38;5;241m.\u001b[39mdims),\n\u001b[1;32m     22\u001b[0m         \u001b[38;5;124m'\u001b[39m\u001b[38;5;124mdata_vars\u001b[39m\u001b[38;5;124m'\u001b[39m: {k: \u001b[38;5;28mlist\u001b[39m(\u001b[38;5;28mself\u001b[39m\u001b[38;5;241m.\u001b[39m_ds[k]\u001b[38;5;241m.\u001b[39mcoords)\n\u001b[1;32m     23\u001b[0m                       \u001b[38;5;28;01mfor\u001b[39;00m k \u001b[38;5;129;01min\u001b[39;00m \u001b[38;5;28mself\u001b[39m\u001b[38;5;241m.\u001b[39m_ds\u001b[38;5;241m.\u001b[39mdata_vars\u001b[38;5;241m.\u001b[39mkeys()},\n\u001b[1;32m     24\u001b[0m         \u001b[38;5;124m'\u001b[39m\u001b[38;5;124mcoords\u001b[39m\u001b[38;5;124m'\u001b[39m: \u001b[38;5;28mtuple\u001b[39m(\u001b[38;5;28mself\u001b[39m\u001b[38;5;241m.\u001b[39m_ds\u001b[38;5;241m.\u001b[39mcoords\u001b[38;5;241m.\u001b[39mkeys()),\n\u001b[1;32m     25\u001b[0m     }\n\u001b[1;32m     26\u001b[0m     \u001b[38;5;28;01mif\u001b[39;00m \u001b[38;5;28mgetattr\u001b[39m(\u001b[38;5;28mself\u001b[39m, \u001b[38;5;124m'\u001b[39m\u001b[38;5;124mon_server\u001b[39m\u001b[38;5;124m'\u001b[39m, \u001b[38;5;28;01mFalse\u001b[39;00m):\n",
      "File \u001b[0;32m/glade/work/eromashkova/miniconda3/envs/mom6-diagnostics/lib/python3.11/site-packages/intake_xarray/netcdf.py:87\u001b[0m, in \u001b[0;36mNetCDFSource._open_dataset\u001b[0;34m(self)\u001b[0m\n\u001b[1;32m     84\u001b[0m     _open_dataset \u001b[38;5;241m=\u001b[39m xr\u001b[38;5;241m.\u001b[39mopen_dataset\n\u001b[1;32m     86\u001b[0m \u001b[38;5;28;01mif\u001b[39;00m \u001b[38;5;28mself\u001b[39m\u001b[38;5;241m.\u001b[39m_can_be_local:\n\u001b[0;32m---> 87\u001b[0m     url \u001b[38;5;241m=\u001b[39m \u001b[43mfsspec\u001b[49m\u001b[38;5;241;43m.\u001b[39;49m\u001b[43mopen_local\u001b[49m\u001b[43m(\u001b[49m\u001b[38;5;28;43mself\u001b[39;49m\u001b[38;5;241;43m.\u001b[39;49m\u001b[43murlpath\u001b[49m\u001b[43m,\u001b[49m\u001b[43m \u001b[49m\u001b[38;5;241;43m*\u001b[39;49m\u001b[38;5;241;43m*\u001b[39;49m\u001b[38;5;28;43mself\u001b[39;49m\u001b[38;5;241;43m.\u001b[39;49m\u001b[43mstorage_options\u001b[49m\u001b[43m)\u001b[49m\n\u001b[1;32m     88\u001b[0m \u001b[38;5;28;01melse\u001b[39;00m:\n\u001b[1;32m     89\u001b[0m     \u001b[38;5;66;03m# https://github.com/intake/filesystem_spec/issues/476#issuecomment-732372918\u001b[39;00m\n\u001b[1;32m     90\u001b[0m     url \u001b[38;5;241m=\u001b[39m fsspec\u001b[38;5;241m.\u001b[39mopen(\u001b[38;5;28mself\u001b[39m\u001b[38;5;241m.\u001b[39murlpath, \u001b[38;5;241m*\u001b[39m\u001b[38;5;241m*\u001b[39m\u001b[38;5;28mself\u001b[39m\u001b[38;5;241m.\u001b[39mstorage_options)\u001b[38;5;241m.\u001b[39mopen()\n",
      "File \u001b[0;32m/glade/work/eromashkova/miniconda3/envs/mom6-diagnostics/lib/python3.11/site-packages/fsspec/core.py:472\u001b[0m, in \u001b[0;36mopen_local\u001b[0;34m(url, mode, **storage_options)\u001b[0m\n\u001b[1;32m    470\u001b[0m     \u001b[38;5;28;01mraise\u001b[39;00m \u001b[38;5;167;01mValueError\u001b[39;00m(\u001b[38;5;124m\"\u001b[39m\u001b[38;5;124mCan only ensure local files when reading\u001b[39m\u001b[38;5;124m\"\u001b[39m)\n\u001b[1;32m    471\u001b[0m of \u001b[38;5;241m=\u001b[39m open_files(url, mode\u001b[38;5;241m=\u001b[39mmode, \u001b[38;5;241m*\u001b[39m\u001b[38;5;241m*\u001b[39mstorage_options)\n\u001b[0;32m--> 472\u001b[0m \u001b[38;5;28;01mif\u001b[39;00m \u001b[38;5;129;01mnot\u001b[39;00m \u001b[38;5;28mgetattr\u001b[39m(\u001b[43mof\u001b[49m\u001b[43m[\u001b[49m\u001b[38;5;241;43m0\u001b[39;49m\u001b[43m]\u001b[49m\u001b[38;5;241m.\u001b[39mfs, \u001b[38;5;124m\"\u001b[39m\u001b[38;5;124mlocal_file\u001b[39m\u001b[38;5;124m\"\u001b[39m, \u001b[38;5;28;01mFalse\u001b[39;00m):\n\u001b[1;32m    473\u001b[0m     \u001b[38;5;28;01mraise\u001b[39;00m \u001b[38;5;167;01mValueError\u001b[39;00m(\n\u001b[1;32m    474\u001b[0m         \u001b[38;5;124m\"\u001b[39m\u001b[38;5;124mopen_local can only be used on a filesystem which\u001b[39m\u001b[38;5;124m\"\u001b[39m\n\u001b[1;32m    475\u001b[0m         \u001b[38;5;124m\"\u001b[39m\u001b[38;5;124m has attribute local_file=True\u001b[39m\u001b[38;5;124m\"\u001b[39m\n\u001b[1;32m    476\u001b[0m     )\n\u001b[1;32m    477\u001b[0m \u001b[38;5;28;01mwith\u001b[39;00m of \u001b[38;5;28;01mas\u001b[39;00m files:\n",
      "File \u001b[0;32m/glade/work/eromashkova/miniconda3/envs/mom6-diagnostics/lib/python3.11/site-packages/fsspec/core.py:194\u001b[0m, in \u001b[0;36mOpenFiles.__getitem__\u001b[0;34m(self, item)\u001b[0m\n\u001b[1;32m    193\u001b[0m \u001b[38;5;28;01mdef\u001b[39;00m \u001b[38;5;21m__getitem__\u001b[39m(\u001b[38;5;28mself\u001b[39m, item):\n\u001b[0;32m--> 194\u001b[0m     out \u001b[38;5;241m=\u001b[39m \u001b[38;5;28;43msuper\u001b[39;49m\u001b[43m(\u001b[49m\u001b[43m)\u001b[49m\u001b[38;5;241;43m.\u001b[39;49m\u001b[38;5;21;43m__getitem__\u001b[39;49m\u001b[43m(\u001b[49m\u001b[43mitem\u001b[49m\u001b[43m)\u001b[49m\n\u001b[1;32m    195\u001b[0m     \u001b[38;5;28;01mif\u001b[39;00m \u001b[38;5;28misinstance\u001b[39m(item, \u001b[38;5;28mslice\u001b[39m):\n\u001b[1;32m    196\u001b[0m         \u001b[38;5;28;01mreturn\u001b[39;00m OpenFiles(out, mode\u001b[38;5;241m=\u001b[39m\u001b[38;5;28mself\u001b[39m\u001b[38;5;241m.\u001b[39mmode, fs\u001b[38;5;241m=\u001b[39m\u001b[38;5;28mself\u001b[39m\u001b[38;5;241m.\u001b[39mfs)\n",
      "\u001b[0;31mIndexError\u001b[0m: list index out of range"
     ]
    }
   ],
   "source": [
    "# load obs\n",
    "catalog = intake.open_catalog(diag_config_yml['oce_cat'])\n",
    "obs = catalog[args.obs].to_dask()"
   ]
  },
  {
   "cell_type": "code",
   "execution_count": null,
   "id": "cbe72b55",
   "metadata": {
    "papermill": {
     "duration": null,
     "end_time": null,
     "exception": null,
     "start_time": null,
     "status": "pending"
    },
    "tags": []
   },
   "outputs": [],
   "source": [
    "temp_diff = thetao_model - obs.thetao\n",
    "salt_diff = salt_model - obs.so"
   ]
  },
  {
   "cell_type": "markdown",
   "id": "adaaa092",
   "metadata": {
    "papermill": {
     "duration": null,
     "end_time": null,
     "exception": null,
     "start_time": null,
     "status": "pending"
    },
    "tags": []
   },
   "source": [
    "## Construct a 3D area with land values masked"
   ]
  },
  {
   "cell_type": "code",
   "execution_count": null,
   "id": "b7b5642b",
   "metadata": {
    "papermill": {
     "duration": null,
     "end_time": null,
     "exception": null,
     "start_time": null,
     "status": "pending"
    },
    "tags": []
   },
   "outputs": [],
   "source": [
    "area3d = np.repeat(area.values[np.newaxis, :, :], len(temp_diff.z_l), axis=0)\n",
    "mask3d = xr.DataArray(area3d, dims=(temp_diff.dims[1:4]), coords= {temp_diff.dims[1]: temp_diff.z_l,\n",
    "                                                                   temp_diff.dims[2]: temp_diff.yh,\n",
    "                                                                   temp_diff.dims[3]: temp_diff.xh})\n",
    "area3d_masked = mask3d.where(temp_diff[0,:] == temp_diff[0,:])"
   ]
  },
  {
   "cell_type": "markdown",
   "id": "4226d219",
   "metadata": {
    "papermill": {
     "duration": null,
     "end_time": null,
     "exception": null,
     "start_time": null,
     "status": "pending"
    },
    "tags": []
   },
   "source": [
    "## Horizontal Mean difference (model - obs)"
   ]
  },
  {
   "cell_type": "code",
   "execution_count": null,
   "id": "d11ed2f3",
   "metadata": {
    "papermill": {
     "duration": null,
     "end_time": null,
     "exception": null,
     "start_time": null,
     "status": "pending"
    },
    "tags": []
   },
   "outputs": [],
   "source": [
    "%%time\n",
    "temp_bias = HorizontalMeanDiff_da(temp_diff,weights=area3d_masked, basins=basin_code)"
   ]
  },
  {
   "cell_type": "code",
   "execution_count": null,
   "id": "e7553879",
   "metadata": {
    "papermill": {
     "duration": null,
     "end_time": null,
     "exception": null,
     "start_time": null,
     "status": "pending"
    },
    "tags": []
   },
   "outputs": [],
   "source": [
    "print('Saving temp_bias...\\n')\n",
    "if not os.path.isdir('ncfiles'):\n",
    "      os.system('mkdir -p ncfiles')\n",
    " \n",
    "var = 'thetao'\n",
    "attrs = {'casename': dcase.casename,\n",
    "         'description': 'Annual mean bias for '+var,\n",
    "         'obs': args.obs\n",
    "        }\n",
    "\n",
    "add_global_attrs(temp_bias,attrs)\n",
    "temp_bias.to_netcdf('ncfiles/'+str(dcase.casename)+'_{}_drift.nc'.format(var))"
   ]
  },
  {
   "cell_type": "markdown",
   "id": "ad8d3821",
   "metadata": {
    "papermill": {
     "duration": null,
     "end_time": null,
     "exception": null,
     "start_time": null,
     "status": "pending"
    },
    "tags": []
   },
   "source": [
    "## Temperature"
   ]
  },
  {
   "cell_type": "code",
   "execution_count": null,
   "id": "73082741",
   "metadata": {
    "papermill": {
     "duration": null,
     "end_time": null,
     "exception": null,
     "start_time": null,
     "status": "pending"
    },
    "tags": []
   },
   "outputs": [],
   "source": [
    "for reg in temp_bias.region:\n",
    "    # remove Nan's\n",
    "    diff_reg = temp_bias.sel(region=reg).dropna('z_l')\n",
    "    if diff_reg.z_l.max() <= 500.0:\n",
    "      splitscale = None\n",
    "    else:\n",
    "      splitscale =  [0., -500., -diff_reg.z_l.max()]\n",
    "\n",
    "    ztplot(diff_reg.values, diff_reg.time.values, diff_reg.z_l.values*-1, ignore=np.nan, splitscale=splitscale, \n",
    "           suptitle=dcase._casename, contour=True,\n",
    "           title= str(reg.values) + ', Potential Temperature [C], (model - obs)', \n",
    "           extend='both', colormap='dunnePM', autocenter=True, tunits='Year', show=True) "
   ]
  },
  {
   "cell_type": "code",
   "execution_count": null,
   "id": "2e44081c",
   "metadata": {
    "papermill": {
     "duration": null,
     "end_time": null,
     "exception": null,
     "start_time": null,
     "status": "pending"
    },
    "tags": []
   },
   "outputs": [],
   "source": [
    "%%time\n",
    "salt_bias = HorizontalMeanDiff_da(salt_diff,weights=area3d_masked, basins=basin_code)"
   ]
  },
  {
   "cell_type": "code",
   "execution_count": null,
   "id": "5af876c2",
   "metadata": {
    "papermill": {
     "duration": null,
     "end_time": null,
     "exception": null,
     "start_time": null,
     "status": "pending"
    },
    "tags": []
   },
   "outputs": [],
   "source": [
    "print('Saving salt_bias...\\n')\n",
    "if not os.path.isdir('ncfiles'):\n",
    "      os.system('mkdir -p ncfiles')\n",
    " \n",
    "var = 'so'\n",
    "attrs = {'casename': dcase.casename,\n",
    "         'description': 'Annual mean bias for '+var,\n",
    "         'obs': args.obs\n",
    "        }\n",
    "\n",
    "add_global_attrs(salt_bias,attrs)\n",
    "salt_bias.to_netcdf('ncfiles/'+str(dcase.casename)+'_{}_drift.nc'.format(var))"
   ]
  },
  {
   "cell_type": "markdown",
   "id": "3a2d7aa0",
   "metadata": {
    "papermill": {
     "duration": null,
     "end_time": null,
     "exception": null,
     "start_time": null,
     "status": "pending"
    },
    "tags": []
   },
   "source": [
    "## Salinity"
   ]
  },
  {
   "cell_type": "code",
   "execution_count": null,
   "id": "353a40c8",
   "metadata": {
    "papermill": {
     "duration": null,
     "end_time": null,
     "exception": null,
     "start_time": null,
     "status": "pending"
    },
    "tags": []
   },
   "outputs": [],
   "source": [
    "for reg in salt_bias.region:\n",
    "    # remove Nan's\n",
    "    diff_reg = salt_bias.sel(region=reg).dropna('z_l')\n",
    "    if diff_reg.z_l.max() <= 500.0:\n",
    "      splitscale = None\n",
    "    else:\n",
    "      splitscale =  [0., -500., -diff_reg.z_l.max()]\n",
    "\n",
    "    ztplot(diff_reg.values, diff_reg.time.values, diff_reg.z_l.values*-1, ignore=np.nan, splitscale=splitscale, \n",
    "           suptitle=dcase._casename, contour=True,\n",
    "           title= str(reg.values) + ', Salinity [psu], (model - obs)', \n",
    "           extend='both', colormap='dunnePM', autocenter=True, tunits='Year', show=True)"
   ]
  },
  {
   "cell_type": "markdown",
   "id": "d215ee11",
   "metadata": {
    "papermill": {
     "duration": null,
     "end_time": null,
     "exception": null,
     "start_time": null,
     "status": "pending"
    },
    "tags": []
   },
   "source": [
    "## Horizontal Mean RMSe (model - obs)"
   ]
  },
  {
   "cell_type": "code",
   "execution_count": null,
   "id": "0eabc5f3",
   "metadata": {
    "papermill": {
     "duration": null,
     "end_time": null,
     "exception": null,
     "start_time": null,
     "status": "pending"
    },
    "tags": []
   },
   "outputs": [],
   "source": [
    "# TODO\n",
    "temp_rms = HorizontalMeanDiff_da(temp_diff,weights=area3d_masked, basins=basin_code)"
   ]
  },
  {
   "cell_type": "markdown",
   "id": "7f373dc4",
   "metadata": {
    "papermill": {
     "duration": null,
     "end_time": null,
     "exception": null,
     "start_time": null,
     "status": "pending"
    },
    "tags": []
   },
   "source": [
    "## Temperature"
   ]
  },
  {
   "cell_type": "code",
   "execution_count": null,
   "id": "1d615739",
   "metadata": {
    "papermill": {
     "duration": null,
     "end_time": null,
     "exception": null,
     "start_time": null,
     "status": "pending"
    },
    "tags": []
   },
   "outputs": [],
   "source": [
    "for reg in temp_rms.region:\n",
    "    # remove Nan's\n",
    "    diff_reg = temp_rms.sel(region=reg).dropna('z_l')\n",
    "    if diff_reg.z_l.max() <= 500.0:\n",
    "      splitscale = None\n",
    "    else:\n",
    "      splitscale =  [0., -500., -diff_reg.z_l.max()]\n",
    "\n",
    "    ztplot(diff_reg.values, diff_reg.time.values, diff_reg.z_l.values*-1, ignore=np.nan, splitscale=splitscale, \n",
    "           suptitle=dcase._casename, contour=True,\n",
    "           title= str(reg.values) + ', Potential Temperature [C], RMSe', \n",
    "           extend='both', colormap='dunnePM', autocenter=False, tunits='Year', show=True)"
   ]
  },
  {
   "cell_type": "code",
   "execution_count": null,
   "id": "3f23b259",
   "metadata": {
    "papermill": {
     "duration": null,
     "end_time": null,
     "exception": null,
     "start_time": null,
     "status": "pending"
    },
    "tags": []
   },
   "outputs": [],
   "source": [
    "# TODO\n",
    "salt_rms = HorizontalMeanRmse_da(salt_diff,weights=area3d_masked, basins=basin_code)"
   ]
  },
  {
   "cell_type": "markdown",
   "id": "e3c3dd54",
   "metadata": {
    "papermill": {
     "duration": null,
     "end_time": null,
     "exception": null,
     "start_time": null,
     "status": "pending"
    },
    "tags": []
   },
   "source": [
    "## Salinity"
   ]
  },
  {
   "cell_type": "code",
   "execution_count": null,
   "id": "02877d4b",
   "metadata": {
    "papermill": {
     "duration": null,
     "end_time": null,
     "exception": null,
     "start_time": null,
     "status": "pending"
    },
    "tags": []
   },
   "outputs": [],
   "source": [
    "for reg in salt_rms.region:\n",
    "    # remove Nan's\n",
    "    diff_reg = salt_rms.sel(region=reg).dropna('z_l')\n",
    "    if diff_reg.z_l.max() <= 500.0:\n",
    "      splitscale = None\n",
    "    else:\n",
    "      splitscale =  [0., -500., -diff_reg.z_l.max()]\n",
    "\n",
    "    ztplot(diff_reg.values, diff_reg.time.values, diff_reg.z_l.values*-1, ignore=np.nan, \n",
    "           splitscale=splitscale, suptitle=dcase._casename, contour=True,\n",
    "           title= str(reg.values) + ', Salinity [psu], RMSe', extend='both', \n",
    "           colormap='dunnePM', autocenter=False, tunits='Year', show=True); "
   ]
  }
 ],
 "metadata": {
  "kernelspec": {
   "display_name": "Python 3 (ipykernel)",
   "language": "python",
   "name": "mom6-diagnostics"
  },
  "language_info": {
   "codemirror_mode": {
    "name": "ipython",
    "version": 3
   },
   "file_extension": ".py",
   "mimetype": "text/x-python",
   "name": "python",
   "nbconvert_exporter": "python",
   "pygments_lexer": "ipython3",
   "version": "3.11.5"
  },
  "papermill": {
   "duration": 120.374176,
   "end_time": "2023-10-17T21:25:35.504182",
   "exception": true,
   "input_path": "/glade/scratch/eromashkova/tmp/tmp6l90k1sp.ipynb",
   "output_path": "/glade/u/home/eromashkova/codes/mom6-tools/docs/source/examples/computed_notebooks/placeholder-sname/TS_drift.ipynb",
   "parameters": {
    "product": "/glade/u/home/eromashkova/codes/mom6-tools/docs/source/examples/computed_notebooks/placeholder-sname/TS_drift.ipynb",
    "sname": "placeholder-sname",
    "subset_kwargs": {}
   },
   "start_time": "2023-10-17T21:23:35.130006"
  },
  "varInspector": {
   "cols": {
    "lenName": 16,
    "lenType": 16,
    "lenVar": 40
   },
   "kernels_config": {
    "python": {
     "delete_cmd_postfix": "",
     "delete_cmd_prefix": "del ",
     "library": "var_list.py",
     "varRefreshCmd": "print(var_dic_list())"
    },
    "r": {
     "delete_cmd_postfix": ") ",
     "delete_cmd_prefix": "rm(",
     "library": "var_list.r",
     "varRefreshCmd": "cat(var_dic_list()) "
    }
   },
   "types_to_exclude": [
    "module",
    "function",
    "builtin_function_or_method",
    "instance",
    "_Feature"
   ],
   "window_display": false
  }
 },
 "nbformat": 4,
 "nbformat_minor": 5
}