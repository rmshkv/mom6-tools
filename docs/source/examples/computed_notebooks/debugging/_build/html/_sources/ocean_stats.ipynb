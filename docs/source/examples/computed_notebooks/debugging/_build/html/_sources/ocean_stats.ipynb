{
 "cells": [
  {
   "cell_type": "markdown",
   "id": "3aa94bee",
   "metadata": {
    "tags": [
     "papermill-error-cell-tag"
    ]
   },
   "source": [
    "<span style=\"color:red; font-family:Helvetica Neue, Helvetica, Arial, sans-serif; font-size:2em;\">An Exception was encountered at '<a href=\"#papermill-error-cell\">In [10]</a>'.</span>"
   ]
  },
  {
   "cell_type": "markdown",
   "id": "6f6f250a-c4cc-46ac-8860-07a01a48d3c6",
   "metadata": {
    "papermill": {
     "duration": 0.005829,
     "end_time": "2023-10-17T21:23:38.537400",
     "exception": false,
     "start_time": "2023-10-17T21:23:38.531571",
     "status": "completed"
    },
    "tags": []
   },
   "source": [
    "## Ocean Stats"
   ]
  },
  {
   "cell_type": "code",
   "execution_count": 1,
   "id": "c3c7cdcd-d405-4a72-9c46-08827ed97f79",
   "metadata": {
    "execution": {
     "iopub.execute_input": "2023-10-17T21:23:38.617869Z",
     "iopub.status.busy": "2023-10-17T21:23:38.617675Z",
     "iopub.status.idle": "2023-10-17T21:23:38.677016Z",
     "shell.execute_reply": "2023-10-17T21:23:38.676574Z"
    },
    "papermill": {
     "duration": 0.118179,
     "end_time": "2023-10-17T21:23:38.678351",
     "exception": false,
     "start_time": "2023-10-17T21:23:38.560172",
     "status": "completed"
    },
    "tags": []
   },
   "outputs": [],
   "source": [
    "%load_ext autoreload\n",
    "%autoreload 2"
   ]
  },
  {
   "cell_type": "code",
   "execution_count": 2,
   "id": "9ed03aef-028f-491f-90a3-51480da6d837",
   "metadata": {
    "execution": {
     "iopub.execute_input": "2023-10-17T21:23:38.740849Z",
     "iopub.status.busy": "2023-10-17T21:23:38.740650Z",
     "iopub.status.idle": "2023-10-17T21:23:50.772500Z",
     "shell.execute_reply": "2023-10-17T21:23:50.763983Z"
    },
    "papermill": {
     "duration": 12.062017,
     "end_time": "2023-10-17T21:23:50.773997",
     "exception": false,
     "start_time": "2023-10-17T21:23:38.711980",
     "status": "completed"
    },
    "tags": []
   },
   "outputs": [
    {
     "name": "stdout",
     "output_type": "stream",
     "text": [
      "Basemap module not found. Some regional plots may not function properly\n"
     ]
    }
   ],
   "source": [
    "import pandas as pd\n",
    "import numpy as np\n",
    "import matplotlib.pyplot as plt\n",
    "import warnings, yaml, os\n",
    "from datetime import datetime\n",
    "import getpass\n",
    "import xarray as xr\n",
    "from mom6_tools.stats import extract_time_series\n",
    "warnings.filterwarnings(\"ignore\")\n",
    "from mom6_tools.DiagsCase import DiagsCase"
   ]
  },
  {
   "cell_type": "code",
   "execution_count": 3,
   "id": "a092244c-959e-4c6a-a7e1-743b7a32cf31",
   "metadata": {
    "execution": {
     "iopub.execute_input": "2023-10-17T21:23:50.797713Z",
     "iopub.status.busy": "2023-10-17T21:23:50.797495Z",
     "iopub.status.idle": "2023-10-17T21:23:51.146546Z",
     "shell.execute_reply": "2023-10-17T21:23:51.126473Z"
    },
    "papermill": {
     "duration": 0.357274,
     "end_time": "2023-10-17T21:23:51.148172",
     "exception": false,
     "start_time": "2023-10-17T21:23:50.790898",
     "status": "completed"
    },
    "tags": []
   },
   "outputs": [],
   "source": [
    "# Make the graphs a bit prettier, and bigger\n",
    "plt.style.use('ggplot')\n",
    "pd.set_option('display.width', 5000) \n",
    "pd.set_option('display.max_columns', 60)\n",
    "plt.rcParams['figure.figsize'] = (15, 5)\n",
    "plt.rcParams.update({'font.size': 18})"
   ]
  },
  {
   "cell_type": "code",
   "execution_count": 4,
   "id": "63f5b5fb-31cd-4470-9a23-a09e0f4d690f",
   "metadata": {
    "execution": {
     "iopub.execute_input": "2023-10-17T21:23:51.178234Z",
     "iopub.status.busy": "2023-10-17T21:23:51.178018Z",
     "iopub.status.idle": "2023-10-17T21:23:51.540140Z",
     "shell.execute_reply": "2023-10-17T21:23:51.532200Z"
    },
    "papermill": {
     "duration": 0.377515,
     "end_time": "2023-10-17T21:23:51.541656",
     "exception": false,
     "start_time": "2023-10-17T21:23:51.164141",
     "status": "completed"
    },
    "tags": []
   },
   "outputs": [],
   "source": [
    "# Read in the yaml file\n",
    "diag_config_yml_path = \"diag_config.yml\"\n",
    "diag_config_yml = yaml.load(open(diag_config_yml_path,'r'), Loader=yaml.Loader)\n",
    "dcase = DiagsCase(diag_config_yml['Case'])"
   ]
  },
  {
   "cell_type": "code",
   "execution_count": 5,
   "id": "34ad055b-18d7-46cf-88be-635bb555cd64",
   "metadata": {
    "execution": {
     "iopub.execute_input": "2023-10-17T21:23:51.594418Z",
     "iopub.status.busy": "2023-10-17T21:23:51.594212Z",
     "iopub.status.idle": "2023-10-17T21:23:51.903943Z",
     "shell.execute_reply": "2023-10-17T21:23:51.903343Z"
    },
    "papermill": {
     "duration": 0.347937,
     "end_time": "2023-10-17T21:23:51.905573",
     "exception": false,
     "start_time": "2023-10-17T21:23:51.557636",
     "status": "completed"
    },
    "tags": [
     "parameters"
    ]
   },
   "outputs": [],
   "source": [
    "CASEROOT = dcase.get_value('CASEROOT')"
   ]
  },
  {
   "cell_type": "code",
   "execution_count": 6,
   "id": "283f133b",
   "metadata": {
    "execution": {
     "iopub.execute_input": "2023-10-17T21:23:51.938353Z",
     "iopub.status.busy": "2023-10-17T21:23:51.938142Z",
     "iopub.status.idle": "2023-10-17T21:23:52.239040Z",
     "shell.execute_reply": "2023-10-17T21:23:52.218707Z"
    },
    "papermill": {
     "duration": 0.31909,
     "end_time": "2023-10-17T21:23:52.240621",
     "exception": false,
     "start_time": "2023-10-17T21:23:51.921531",
     "status": "completed"
    },
    "tags": [
     "injected-parameters"
    ]
   },
   "outputs": [],
   "source": [
    "# Parameters\n",
    "sname = \"placeholder-sname\"\n",
    "subset_kwargs = {}\n",
    "product = \"/glade/u/home/eromashkova/codes/mom6-tools/docs/source/examples/computed_notebooks/placeholder-sname/ocean_stats.ipynb\"\n"
   ]
  },
  {
   "cell_type": "code",
   "execution_count": 7,
   "id": "fba418d7-5418-4df1-b072-78cd435c7cd9",
   "metadata": {
    "execution": {
     "iopub.execute_input": "2023-10-17T21:23:52.296410Z",
     "iopub.status.busy": "2023-10-17T21:23:52.296208Z",
     "iopub.status.idle": "2023-10-17T21:23:54.979237Z",
     "shell.execute_reply": "2023-10-17T21:23:54.978784Z"
    },
    "papermill": {
     "duration": 2.724181,
     "end_time": "2023-10-17T21:23:54.980816",
     "exception": false,
     "start_time": "2023-10-17T21:23:52.256635",
     "status": "completed"
    },
    "tags": []
   },
   "outputs": [],
   "source": [
    "rundir = dcase.get_value('RUNDIR')"
   ]
  },
  {
   "cell_type": "code",
   "execution_count": 8,
   "id": "8c72e1bd-e149-48fd-8bb1-00d631100065",
   "metadata": {
    "execution": {
     "iopub.execute_input": "2023-10-17T21:23:55.026747Z",
     "iopub.status.busy": "2023-10-17T21:23:55.026525Z",
     "iopub.status.idle": "2023-10-17T21:23:55.246047Z",
     "shell.execute_reply": "2023-10-17T21:23:55.234703Z"
    },
    "papermill": {
     "duration": 0.247807,
     "end_time": "2023-10-17T21:23:55.247909",
     "exception": false,
     "start_time": "2023-10-17T21:23:55.000102",
     "status": "completed"
    },
    "tags": []
   },
   "outputs": [],
   "source": [
    "DOUT_S = dcase.get_value('DOUT_S')"
   ]
  },
  {
   "cell_type": "code",
   "execution_count": 9,
   "id": "85f46ce4-143d-4dff-8d2a-9948b57d8015",
   "metadata": {
    "execution": {
     "iopub.execute_input": "2023-10-17T21:23:55.276060Z",
     "iopub.status.busy": "2023-10-17T21:23:55.275853Z",
     "iopub.status.idle": "2023-10-17T21:23:55.604360Z",
     "shell.execute_reply": "2023-10-17T21:23:55.603722Z"
    },
    "papermill": {
     "duration": 0.342218,
     "end_time": "2023-10-17T21:23:55.606219",
     "exception": false,
     "start_time": "2023-10-17T21:23:55.264001",
     "status": "completed"
    },
    "tags": []
   },
   "outputs": [
    {
     "name": "stdout",
     "output_type": "stream",
     "text": [
      "Output directory is: /glade/scratch/gmarques/archive/g.e23_b15.GJRAv4.TL319_t232_zstar_N65.baseline.001/ocn/hist/\n",
      "Casename is: g.e23_b15.GJRAv4.TL319_t232_zstar_N65.baseline.001\n"
     ]
    }
   ],
   "source": [
    "if DOUT_S:\n",
    "  OUTDIR = dcase.get_value('DOUT_S_ROOT')+'/ocn/hist/'\n",
    "else:\n",
    "  OUTDIR = dcase.get_value('RUNDIR')\n",
    "\n",
    "print('Output directory is:', OUTDIR)\n",
    "print('Casename is:', dcase.casename)"
   ]
  },
  {
   "cell_type": "markdown",
   "id": "13c39092",
   "metadata": {
    "tags": [
     "papermill-error-cell-tag"
    ]
   },
   "source": [
    "<span id=\"papermill-error-cell\" style=\"color:red; font-family:Helvetica Neue, Helvetica, Arial, sans-serif; font-size:2em;\">Execution using papermill encountered an exception here and stopped:</span>"
   ]
  },
  {
   "cell_type": "code",
   "execution_count": 10,
   "id": "18f7aa0b-0498-476f-8b1b-4135d7e0832b",
   "metadata": {
    "execution": {
     "iopub.execute_input": "2023-10-17T21:23:55.650577Z",
     "iopub.status.busy": "2023-10-17T21:23:55.650385Z",
     "iopub.status.idle": "2023-10-17T21:23:59.354142Z",
     "shell.execute_reply": "2023-10-17T21:23:59.352552Z"
    },
    "papermill": {
     "duration": 3.722379,
     "end_time": "2023-10-17T21:23:59.355073",
     "exception": true,
     "start_time": "2023-10-17T21:23:55.632694",
     "status": "failed"
    },
    "tags": []
   },
   "outputs": [
    {
     "ename": "TypeError",
     "evalue": "extract_time_series() missing 1 required positional argument: 'OUTDIR'",
     "output_type": "error",
     "traceback": [
      "\u001b[0;31m---------------------------------------------------------------------------\u001b[0m",
      "\u001b[0;31mTypeError\u001b[0m                                 Traceback (most recent call last)",
      "Cell \u001b[0;32mIn[10], line 8\u001b[0m\n\u001b[1;32m      6\u001b[0m native \u001b[38;5;241m=\u001b[39m dcase\u001b[38;5;241m.\u001b[39mcasename\u001b[38;5;241m+\u001b[39mdiag_config_yml[\u001b[38;5;124m'\u001b[39m\u001b[38;5;124mFnames\u001b[39m\u001b[38;5;124m'\u001b[39m][\u001b[38;5;124m'\u001b[39m\u001b[38;5;124mnative\u001b[39m\u001b[38;5;124m'\u001b[39m]\n\u001b[1;32m      7\u001b[0m variables \u001b[38;5;241m=\u001b[39m [\u001b[38;5;124m'\u001b[39m\u001b[38;5;124mthetaoga\u001b[39m\u001b[38;5;124m'\u001b[39m,\u001b[38;5;124m'\u001b[39m\u001b[38;5;124msoga\u001b[39m\u001b[38;5;124m'\u001b[39m]\n\u001b[0;32m----> 8\u001b[0m \u001b[43mextract_time_series\u001b[49m\u001b[43m(\u001b[49m\u001b[43mnative\u001b[49m\u001b[43m,\u001b[49m\u001b[43m \u001b[49m\u001b[43mvariables\u001b[49m\u001b[43m,\u001b[49m\u001b[43m \u001b[49m\u001b[43mdcase\u001b[49m\u001b[43m,\u001b[49m\u001b[43m \u001b[49m\u001b[43margs\u001b[49m\u001b[43m,\u001b[49m\u001b[43m \u001b[49m\u001b[43mOUTDIR\u001b[49m\u001b[43m)\u001b[49m\n",
      "\u001b[0;31mTypeError\u001b[0m: extract_time_series() missing 1 required positional argument: 'OUTDIR'"
     ]
    }
   ],
   "source": [
    "# create an empty class object\n",
    "class args:\n",
    "  pass\n",
    "\n",
    "args.nw = 6 # requesting 6 workers\n",
    "native = dcase.casename+diag_config_yml['Fnames']['native']\n",
    "variables = ['thetaoga','soga']\n",
    "extract_time_series(native, variables, dcase, args, OUTDIR)"
   ]
  },
  {
   "cell_type": "code",
   "execution_count": null,
   "id": "ceb21ee1-2556-4db4-bf2b-898a12251aff",
   "metadata": {
    "papermill": {
     "duration": null,
     "end_time": null,
     "exception": null,
     "start_time": null,
     "status": "pending"
    },
    "tags": []
   },
   "outputs": [],
   "source": [
    "header = [\"Step\", \"Day\",\"Truncs\", \"Energy/Mass\",      \n",
    "          \"Maximum CFL\", \"Mean Sea Level\", \n",
    "          \"Total Mass\", \"Mean Salin\", \"Mean Temp\",\n",
    "         \"Frac Mass Err\", \"Salin Err\", \"Temp Err\"]\n",
    "df = pd.read_csv(rundir+'/ocean.stats',  delimiter=',', \n",
    "                 usecols=(0,1,2,3,4,5,6,7,8,9,10,11),skiprows=(0,1),\n",
    "                 names=header)#, skiprows=1) #, \n",
    "                # index_col=0,\n",
    "                # dtype='unicode',\n",
    "                # encoding = 'unicode_escape')"
   ]
  },
  {
   "cell_type": "code",
   "execution_count": null,
   "id": "5a17d4cd-f0d9-4678-9450-f27ea8ed89ff",
   "metadata": {
    "papermill": {
     "duration": null,
     "end_time": null,
     "exception": null,
     "start_time": null,
     "status": "pending"
    },
    "tags": []
   },
   "outputs": [],
   "source": [
    "df.head()"
   ]
  },
  {
   "cell_type": "code",
   "execution_count": null,
   "id": "15e0d3be-78f9-48b6-9661-a95d42c904a2",
   "metadata": {
    "papermill": {
     "duration": null,
     "end_time": null,
     "exception": null,
     "start_time": null,
     "status": "pending"
    },
    "tags": []
   },
   "outputs": [],
   "source": [
    "# remove characters from each coloumn\n",
    "for var in header[3::]:\n",
    "    print(var)\n",
    "    df[var] = df[var].str.replace(r'[^0-9.]+', '').astype(float)\n",
    "\n",
    "df.head()"
   ]
  },
  {
   "cell_type": "code",
   "execution_count": null,
   "id": "96245dd2-c6d1-40ab-8338-bd91b24ce8a2",
   "metadata": {
    "papermill": {
     "duration": null,
     "end_time": null,
     "exception": null,
     "start_time": null,
     "status": "pending"
    },
    "tags": []
   },
   "outputs": [],
   "source": [
    "# rename columns\n",
    "new_header = [\"Step\", \"Day\",\"Truncs\", \"EnergyMass\",      \n",
    "          \"MaximumCFL\", \"MeanSeaLevel\", \n",
    "          \"TotalMass\", \"MeanSalin\", \"MeanTemp\",\n",
    "         \"FracMassErr\", \"SalinErr\", \"TempErr\"]\n",
    "for old, new in zip(header, new_header):\n",
    "  df = df.rename(columns={old:new})"
   ]
  },
  {
   "cell_type": "code",
   "execution_count": null,
   "id": "b2d1d1d8-5113-41cd-b740-6db9f309f362",
   "metadata": {
    "papermill": {
     "duration": null,
     "end_time": null,
     "exception": null,
     "start_time": null,
     "status": "pending"
    },
    "tags": []
   },
   "outputs": [],
   "source": [
    "df.head()"
   ]
  },
  {
   "cell_type": "code",
   "execution_count": null,
   "id": "b98cff0a-906c-49ee-9225-01099b607cd1",
   "metadata": {
    "papermill": {
     "duration": null,
     "end_time": null,
     "exception": null,
     "start_time": null,
     "status": "pending"
    },
    "tags": []
   },
   "outputs": [],
   "source": [
    "units = ['nondim', 'days', 'nondim', 'm2 s-2',' nondim',\n",
    "         'm', 'kg', 'PSU' , 'degC', 'nondim', 'PSU', 'degC']\n",
    "\n",
    "data_vars = {}\n",
    "for var, unit in zip(new_header, units):\n",
    "  data_vars.update({var:(('time'), df[var], {\"units\" : unit})})"
   ]
  },
  {
   "cell_type": "code",
   "execution_count": null,
   "id": "6875c1f1-8d21-48ec-bd61-0abdc11391ba",
   "metadata": {
    "papermill": {
     "duration": null,
     "end_time": null,
     "exception": null,
     "start_time": null,
     "status": "pending"
    },
    "tags": []
   },
   "outputs": [],
   "source": [
    "ds = xr.open_dataset(rundir+\"/ocean.stats.nc\",use_cftime=False).rename({\"Time\" : \"time\"})"
   ]
  },
  {
   "cell_type": "code",
   "execution_count": null,
   "id": "59c6f2ca-681b-471a-bb93-f89d92ba1d62",
   "metadata": {
    "papermill": {
     "duration": null,
     "end_time": null,
     "exception": null,
     "start_time": null,
     "status": "pending"
    },
    "tags": []
   },
   "outputs": [],
   "source": [
    "variables = [\n",
    "    'En',\n",
    "    'Ntrunc',\n",
    "    'Mass',\n",
    "    'Mass_chg',\n",
    "    'Mass_anom',\n",
    "    'max_CFL_trans',\n",
    "    'max_CFL_lin',\n",
    "    'Salt',\n",
    "    'Salt_chg',\n",
    "    'Salt_anom',    \n",
    "    'Heat',\n",
    "    'Heat_chg',\n",
    "    'Heat_anom',\n",
    "    'age'\n",
    "    \n",
    "]\n",
    "\n",
    "for v in variables:\n",
    "  data_vars.update({v:(('time'), ds[v].values, {\"units\" : ds[v].units})})"
   ]
  },
  {
   "cell_type": "code",
   "execution_count": null,
   "id": "5bb6da1a-c3a2-414a-a3a4-274ba084e175",
   "metadata": {
    "papermill": {
     "duration": null,
     "end_time": null,
     "exception": null,
     "start_time": null,
     "status": "pending"
    },
    "tags": []
   },
   "outputs": [],
   "source": [
    "data_vars.update({\"APE\":((\"time\", \"Interface\"), \n",
    "                         ds.APE.values, {\"units\" : ds.APE.units})})\n",
    "data_vars.update({\"H0\":((\"time\", \"Interface\"), \n",
    "                        ds.H0.values, {\"units\" : ds.H0.units})})\n",
    "data_vars.update({\"KE\":((\"time\", \"Layer\"), \n",
    "                        ds.KE.values, {\"units\" : ds.KE.units})})\n",
    "data_vars.update({\"Mass_lay\":((\"time\", \"Layer\"), \n",
    "                              ds.Mass_lay.values, {\"units\" : ds.Mass_lay.units})})"
   ]
  },
  {
   "cell_type": "code",
   "execution_count": null,
   "id": "d3f1d07c-a72d-4764-9c3e-35a1aeaf8b64",
   "metadata": {
    "papermill": {
     "duration": null,
     "end_time": null,
     "exception": null,
     "start_time": null,
     "status": "pending"
    },
    "tags": []
   },
   "outputs": [],
   "source": [
    "#data_vars\n",
    "time_units = \"days since {}\".format(dcase.get_value('RUN_STARTDATE')) \n",
    "attrs = {\"units\": time_units, \"calendar\" : \"noleap\"}\n",
    "coords={\"time\": (\"time\", df[\"Day\"], attrs),\n",
    "        \"Layer\" : (\"Layer\", ds.Layer.values),\n",
    "        \"Interface\" : (\"Interface\", ds.Interface.values)}"
   ]
  },
  {
   "cell_type": "code",
   "execution_count": null,
   "id": "e2b8a3ab-fd9a-403c-b585-b2c1b1987594",
   "metadata": {
    "papermill": {
     "duration": null,
     "end_time": null,
     "exception": null,
     "start_time": null,
     "status": "pending"
    },
    "tags": []
   },
   "outputs": [],
   "source": [
    "# create dataset to store results\n",
    "msg = \" can be found at https://github.com/NCAR/mom6-tools\"\n",
    "attrs = {\"description\": \"ocean stats time-series derived from ocean.stats\",\n",
    "         \"casename\" : dcase.casename,\n",
    "         \"caseroot\" : CASEROOT,\n",
    "         \"author\" : getpass.getuser(),\n",
    "         \"date\" : datetime.now().isoformat(),\n",
    "         \"created_using\" : \"file.txt\"}\n",
    "stats = xr.decode_cf(xr.Dataset(data_vars=data_vars,\n",
    "                   coords=coords,\n",
    "                 attrs = attrs,\n",
    "                ))"
   ]
  },
  {
   "cell_type": "code",
   "execution_count": null,
   "id": "212af1dd-477f-4a54-942e-c666b6225d84",
   "metadata": {
    "papermill": {
     "duration": null,
     "end_time": null,
     "exception": null,
     "start_time": null,
     "status": "pending"
    },
    "tags": []
   },
   "outputs": [],
   "source": [
    "if not os.path.isdir('ncfiles'):\n",
    "      os.system('mkdir -p ncfiles')\n",
    "                \n",
    "stats.to_netcdf('ncfiles/{}_ocean.stats.nc'.format(dcase.casename))"
   ]
  },
  {
   "cell_type": "code",
   "execution_count": null,
   "id": "54f7b4eb-3586-4240-8101-07755e35d8d7",
   "metadata": {
    "papermill": {
     "duration": null,
     "end_time": null,
     "exception": null,
     "start_time": null,
     "status": "pending"
    },
    "tags": []
   },
   "outputs": [],
   "source": [
    "stats.time.plot()"
   ]
  },
  {
   "cell_type": "markdown",
   "id": "9667bb33-664f-47bb-aa31-60ee9b8e17e8",
   "metadata": {
    "papermill": {
     "duration": null,
     "end_time": null,
     "exception": null,
     "start_time": null,
     "status": "pending"
    },
    "tags": []
   },
   "source": [
    "### Truncations"
   ]
  },
  {
   "cell_type": "code",
   "execution_count": null,
   "id": "363b40c0-249f-44f1-be6c-fea6feda2fc8",
   "metadata": {
    "papermill": {
     "duration": null,
     "end_time": null,
     "exception": null,
     "start_time": null,
     "status": "pending"
    },
    "tags": []
   },
   "outputs": [],
   "source": [
    "%matplotlib inline\n",
    "stats.Truncs.plot();"
   ]
  },
  {
   "cell_type": "markdown",
   "id": "4ada70fe-d17b-4ac0-875d-b1dfdbd92d56",
   "metadata": {
    "papermill": {
     "duration": null,
     "end_time": null,
     "exception": null,
     "start_time": null,
     "status": "pending"
    },
    "tags": []
   },
   "source": [
    "### Maximum finite-volume CFL"
   ]
  },
  {
   "cell_type": "code",
   "execution_count": null,
   "id": "a2829add-bd71-40b3-984b-9b496fc15716",
   "metadata": {
    "papermill": {
     "duration": null,
     "end_time": null,
     "exception": null,
     "start_time": null,
     "status": "pending"
    },
    "tags": []
   },
   "outputs": [],
   "source": [
    "stats.max_CFL_trans.plot();"
   ]
  },
  {
   "cell_type": "markdown",
   "id": "fd5500d0-64c7-48e6-bd90-7156f22f383b",
   "metadata": {
    "papermill": {
     "duration": null,
     "end_time": null,
     "exception": null,
     "start_time": null,
     "status": "pending"
    },
    "tags": []
   },
   "source": [
    "### Maximum finite-difference CFL"
   ]
  },
  {
   "cell_type": "code",
   "execution_count": null,
   "id": "f24534bd-8f8e-4104-8ac5-18031588695f",
   "metadata": {
    "papermill": {
     "duration": null,
     "end_time": null,
     "exception": null,
     "start_time": null,
     "status": "pending"
    },
    "tags": []
   },
   "outputs": [],
   "source": [
    "stats.max_CFL_lin.plot();"
   ]
  },
  {
   "cell_type": "markdown",
   "id": "ccac432a-3464-4b88-8f4e-1544e1527715",
   "metadata": {
    "papermill": {
     "duration": null,
     "end_time": null,
     "exception": null,
     "start_time": null,
     "status": "pending"
    },
    "tags": []
   },
   "source": [
    "### Maximum CFL"
   ]
  },
  {
   "cell_type": "code",
   "execution_count": null,
   "id": "ee49239e-793e-4e78-82cf-935bea89db06",
   "metadata": {
    "papermill": {
     "duration": null,
     "end_time": null,
     "exception": null,
     "start_time": null,
     "status": "pending"
    },
    "tags": []
   },
   "outputs": [],
   "source": [
    "stats.MaximumCFL.plot();"
   ]
  },
  {
   "cell_type": "markdown",
   "id": "f0751640-df28-48b1-9c9b-a2676d23f1a3",
   "metadata": {
    "papermill": {
     "duration": null,
     "end_time": null,
     "exception": null,
     "start_time": null,
     "status": "pending"
    },
    "tags": []
   },
   "source": [
    "### Energy/Mass"
   ]
  },
  {
   "cell_type": "code",
   "execution_count": null,
   "id": "98228ec5-c357-40d4-ac5f-bbee971d6c04",
   "metadata": {
    "papermill": {
     "duration": null,
     "end_time": null,
     "exception": null,
     "start_time": null,
     "status": "pending"
    },
    "tags": []
   },
   "outputs": [],
   "source": [
    "stats.EnergyMass.plot()"
   ]
  },
  {
   "cell_type": "markdown",
   "id": "4e154b64-da54-4d94-92d5-e72c152737d2",
   "metadata": {
    "papermill": {
     "duration": null,
     "end_time": null,
     "exception": null,
     "start_time": null,
     "status": "pending"
    },
    "tags": []
   },
   "source": [
    "### Mean Sea Level"
   ]
  },
  {
   "cell_type": "code",
   "execution_count": null,
   "id": "e4243054-d327-4a70-bbea-a46cbb099f48",
   "metadata": {
    "papermill": {
     "duration": null,
     "end_time": null,
     "exception": null,
     "start_time": null,
     "status": "pending"
    },
    "tags": []
   },
   "outputs": [],
   "source": [
    "stats.MeanSeaLevel.plot(); "
   ]
  },
  {
   "cell_type": "markdown",
   "id": "32e81871-03af-4a71-9b94-8b872793f837",
   "metadata": {
    "papermill": {
     "duration": null,
     "end_time": null,
     "exception": null,
     "start_time": null,
     "status": "pending"
    },
    "tags": []
   },
   "source": [
    "### Total Mass"
   ]
  },
  {
   "cell_type": "code",
   "execution_count": null,
   "id": "fab5b910-6367-4afe-abd8-be1194e213b1",
   "metadata": {
    "papermill": {
     "duration": null,
     "end_time": null,
     "exception": null,
     "start_time": null,
     "status": "pending"
    },
    "tags": []
   },
   "outputs": [],
   "source": [
    "stats.TotalMass.plot(); "
   ]
  },
  {
   "cell_type": "markdown",
   "id": "5527dec8-b032-4268-b7b0-b3540ff81a56",
   "metadata": {
    "papermill": {
     "duration": null,
     "end_time": null,
     "exception": null,
     "start_time": null,
     "status": "pending"
    },
    "tags": []
   },
   "source": [
    "### Mean Salinity"
   ]
  },
  {
   "cell_type": "code",
   "execution_count": null,
   "id": "8883aa96-dc89-4884-ad8d-47bc1a2c080b",
   "metadata": {
    "papermill": {
     "duration": null,
     "end_time": null,
     "exception": null,
     "start_time": null,
     "status": "pending"
    },
    "tags": []
   },
   "outputs": [],
   "source": [
    "stats.MeanSalin.plot(); "
   ]
  },
  {
   "cell_type": "markdown",
   "id": "76879b53-501b-46e1-94e6-1de79e51a4b1",
   "metadata": {
    "papermill": {
     "duration": null,
     "end_time": null,
     "exception": null,
     "start_time": null,
     "status": "pending"
    },
    "tags": []
   },
   "source": [
    "### Mean Temperature"
   ]
  },
  {
   "cell_type": "code",
   "execution_count": null,
   "id": "b79b3738-f3d4-4500-bb8b-41c4172122fc",
   "metadata": {
    "papermill": {
     "duration": null,
     "end_time": null,
     "exception": null,
     "start_time": null,
     "status": "pending"
    },
    "tags": []
   },
   "outputs": [],
   "source": [
    "stats.MeanTemp.plot(); "
   ]
  },
  {
   "cell_type": "markdown",
   "id": "1bb2fbcf-e57b-46db-a73c-b109f4102d8d",
   "metadata": {
    "papermill": {
     "duration": null,
     "end_time": null,
     "exception": null,
     "start_time": null,
     "status": "pending"
    },
    "tags": []
   },
   "source": [
    "### Total Energy"
   ]
  },
  {
   "cell_type": "code",
   "execution_count": null,
   "id": "24759365-442d-4d72-a4f8-e7e9cf89224b",
   "metadata": {
    "papermill": {
     "duration": null,
     "end_time": null,
     "exception": null,
     "start_time": null,
     "status": "pending"
    },
    "tags": []
   },
   "outputs": [],
   "source": [
    "stats.En.plot(); "
   ]
  },
  {
   "cell_type": "markdown",
   "id": "4677a428-8c77-42e4-ba37-8576ec07988e",
   "metadata": {
    "papermill": {
     "duration": null,
     "end_time": null,
     "exception": null,
     "start_time": null,
     "status": "pending"
    },
    "tags": []
   },
   "source": [
    "### Available Potential Energy"
   ]
  },
  {
   "cell_type": "code",
   "execution_count": null,
   "id": "71c4cb75-bc61-4554-bf98-cbdee603fdb4",
   "metadata": {
    "papermill": {
     "duration": null,
     "end_time": null,
     "exception": null,
     "start_time": null,
     "status": "pending"
    },
    "tags": []
   },
   "outputs": [],
   "source": [
    "stats.APE.sum(axis=1,keep_attrs=True).plot(); "
   ]
  },
  {
   "cell_type": "markdown",
   "id": "e0d2e4af-966c-4d6a-98f4-aad286d0ca3f",
   "metadata": {
    "papermill": {
     "duration": null,
     "end_time": null,
     "exception": null,
     "start_time": null,
     "status": "pending"
    },
    "tags": []
   },
   "source": [
    "### Total Salt"
   ]
  },
  {
   "cell_type": "code",
   "execution_count": null,
   "id": "c3a917f9-94e3-42f7-bab1-5ba2fec69b26",
   "metadata": {
    "papermill": {
     "duration": null,
     "end_time": null,
     "exception": null,
     "start_time": null,
     "status": "pending"
    },
    "tags": []
   },
   "outputs": [],
   "source": [
    "stats.Salt.plot(); "
   ]
  },
  {
   "cell_type": "markdown",
   "id": "ac3084a8-3ed9-45fd-b384-500b92a57be0",
   "metadata": {
    "papermill": {
     "duration": null,
     "end_time": null,
     "exception": null,
     "start_time": null,
     "status": "pending"
    },
    "tags": []
   },
   "source": [
    "### Total Salt Change between Entries"
   ]
  },
  {
   "cell_type": "code",
   "execution_count": null,
   "id": "082646f3-1208-4373-b779-adf8039638ab",
   "metadata": {
    "papermill": {
     "duration": null,
     "end_time": null,
     "exception": null,
     "start_time": null,
     "status": "pending"
    },
    "tags": []
   },
   "outputs": [],
   "source": [
    "stats.Salt_chg.plot(); "
   ]
  },
  {
   "cell_type": "markdown",
   "id": "4b0e7bfd-5acc-44a3-b957-311ea0f62841",
   "metadata": {
    "papermill": {
     "duration": null,
     "end_time": null,
     "exception": null,
     "start_time": null,
     "status": "pending"
    },
    "tags": []
   },
   "source": [
    "### Anomalous Total Salt Change"
   ]
  },
  {
   "cell_type": "code",
   "execution_count": null,
   "id": "e0c11fd8-f8d3-441b-9cbe-e2e89548deae",
   "metadata": {
    "papermill": {
     "duration": null,
     "end_time": null,
     "exception": null,
     "start_time": null,
     "status": "pending"
    },
    "tags": []
   },
   "outputs": [],
   "source": [
    "stats.Salt_anom.plot(); "
   ]
  },
  {
   "cell_type": "markdown",
   "id": "37be35b6-faf6-494b-8f3e-1389c3f0b6b4",
   "metadata": {
    "papermill": {
     "duration": null,
     "end_time": null,
     "exception": null,
     "start_time": null,
     "status": "pending"
    },
    "tags": []
   },
   "source": [
    "### Total Heat"
   ]
  },
  {
   "cell_type": "code",
   "execution_count": null,
   "id": "5bbb7162-b26c-470a-81fd-8de58b448389",
   "metadata": {
    "papermill": {
     "duration": null,
     "end_time": null,
     "exception": null,
     "start_time": null,
     "status": "pending"
    },
    "tags": []
   },
   "outputs": [],
   "source": [
    "stats.Heat.plot(); "
   ]
  },
  {
   "cell_type": "markdown",
   "id": "1e9cc14a-666c-4800-b265-2d830a01bf4a",
   "metadata": {
    "papermill": {
     "duration": null,
     "end_time": null,
     "exception": null,
     "start_time": null,
     "status": "pending"
    },
    "tags": []
   },
   "source": [
    "### Total Heat Change between Entries"
   ]
  },
  {
   "cell_type": "code",
   "execution_count": null,
   "id": "deb250c3-8b8a-42d7-9270-62236c45d4a5",
   "metadata": {
    "papermill": {
     "duration": null,
     "end_time": null,
     "exception": null,
     "start_time": null,
     "status": "pending"
    },
    "tags": []
   },
   "outputs": [],
   "source": [
    "stats.Heat_chg.plot(); "
   ]
  },
  {
   "cell_type": "markdown",
   "id": "92df566e-4496-4275-a50d-c98c40df038c",
   "metadata": {
    "papermill": {
     "duration": null,
     "end_time": null,
     "exception": null,
     "start_time": null,
     "status": "pending"
    },
    "tags": []
   },
   "source": [
    "### Anomalous Total Heat Change"
   ]
  },
  {
   "cell_type": "code",
   "execution_count": null,
   "id": "44bb9529-ccde-4eec-9198-58c5ed8a8e2f",
   "metadata": {
    "papermill": {
     "duration": null,
     "end_time": null,
     "exception": null,
     "start_time": null,
     "status": "pending"
    },
    "tags": []
   },
   "outputs": [],
   "source": [
    "stats.Heat_anom.plot(); "
   ]
  },
  {
   "cell_type": "markdown",
   "id": "3f9d1ec0-b283-47a1-93a9-c3314ff889d7",
   "metadata": {
    "papermill": {
     "duration": null,
     "end_time": null,
     "exception": null,
     "start_time": null,
     "status": "pending"
    },
    "tags": []
   },
   "source": [
    "### Age"
   ]
  },
  {
   "cell_type": "code",
   "execution_count": null,
   "id": "fada90f8-34b2-46bf-a88b-9534c0fa4aed",
   "metadata": {
    "papermill": {
     "duration": null,
     "end_time": null,
     "exception": null,
     "start_time": null,
     "status": "pending"
    },
    "tags": []
   },
   "outputs": [],
   "source": [
    "stats.age.plot(); "
   ]
  }
 ],
 "metadata": {
  "kernelspec": {
   "display_name": "Python 3 (ipykernel)",
   "language": "python",
   "name": "mom6-diagnostics"
  },
  "language_info": {
   "codemirror_mode": {
    "name": "ipython",
    "version": 3
   },
   "file_extension": ".py",
   "mimetype": "text/x-python",
   "name": "python",
   "nbconvert_exporter": "python",
   "pygments_lexer": "ipython3",
   "version": "3.11.5"
  },
  "papermill": {
   "duration": 30.436139,
   "end_time": "2023-10-17T21:24:02.623135",
   "exception": true,
   "input_path": "/glade/scratch/eromashkova/tmp/tmpamgw50ac.ipynb",
   "output_path": "/glade/u/home/eromashkova/codes/mom6-tools/docs/source/examples/computed_notebooks/placeholder-sname/ocean_stats.ipynb",
   "parameters": {
    "product": "/glade/u/home/eromashkova/codes/mom6-tools/docs/source/examples/computed_notebooks/placeholder-sname/ocean_stats.ipynb",
    "sname": "placeholder-sname",
    "subset_kwargs": {}
   },
   "start_time": "2023-10-17T21:23:32.186996"
  }
 },
 "nbformat": 4,
 "nbformat_minor": 5
}