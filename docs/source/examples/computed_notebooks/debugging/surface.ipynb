{
 "cells": [
  {
   "cell_type": "markdown",
   "id": "d11b246d",
   "metadata": {
    "tags": [
     "papermill-error-cell-tag"
    ]
   },
   "source": [
    "<span style=\"color:red; font-family:Helvetica Neue, Helvetica, Arial, sans-serif; font-size:2em;\">An Exception was encountered at '<a href=\"#papermill-error-cell\">In [12]</a>'.</span>"
   ]
  },
  {
   "cell_type": "markdown",
   "id": "16df7d29",
   "metadata": {
    "papermill": {
     "duration": 0.006257,
     "end_time": "2023-10-17T21:23:40.542557",
     "exception": false,
     "start_time": "2023-10-17T21:23:40.536300",
     "status": "completed"
    },
    "tags": []
   },
   "source": [
    "# Analysis of Surface Fields\n",
    "\n",
    "`mom6_tools.MOM6grid` returns an object with MOM6 grid data.\n",
    "\n",
    "`mom6_tools.latlon_analysis` has a collection of tools used to perform spatial analysis  (e.g., time averages and spatial mean).\n",
    "\n",
    "The goal of this notebook is the following:\n",
    "\n",
    "1) server as an example of how to post-process CESM/MOM6 output;\n",
    "\n",
    "2) create time averages of surface fields;\n",
    "\n",
    "3) create time-series of globally-averaged surface fields;"
   ]
  },
  {
   "cell_type": "code",
   "execution_count": 1,
   "id": "9cf51df2",
   "metadata": {
    "execution": {
     "iopub.execute_input": "2023-10-17T21:23:40.553527Z",
     "iopub.status.busy": "2023-10-17T21:23:40.553329Z",
     "iopub.status.idle": "2023-10-17T21:23:40.675911Z",
     "shell.execute_reply": "2023-10-17T21:23:40.675224Z"
    },
    "papermill": {
     "duration": 0.130852,
     "end_time": "2023-10-17T21:23:40.677415",
     "exception": false,
     "start_time": "2023-10-17T21:23:40.546563",
     "status": "completed"
    },
    "tags": []
   },
   "outputs": [],
   "source": [
    "%load_ext autoreload\n",
    "%autoreload 2"
   ]
  },
  {
   "cell_type": "code",
   "execution_count": 2,
   "id": "81555be4",
   "metadata": {
    "execution": {
     "iopub.execute_input": "2023-10-17T21:23:40.700821Z",
     "iopub.status.busy": "2023-10-17T21:23:40.700620Z",
     "iopub.status.idle": "2023-10-17T21:23:53.497163Z",
     "shell.execute_reply": "2023-10-17T21:23:53.490764Z"
    },
    "papermill": {
     "duration": 12.808451,
     "end_time": "2023-10-17T21:23:53.498773",
     "exception": false,
     "start_time": "2023-10-17T21:23:40.690322",
     "status": "completed"
    },
    "tags": []
   },
   "outputs": [
    {
     "name": "stdout",
     "output_type": "stream",
     "text": [
      "Basemap module not found. Some regional plots may not function properly\n"
     ]
    }
   ],
   "source": [
    "import xarray as xr\n",
    "import numpy as np\n",
    "import matplotlib.pyplot as plt\n",
    "import warnings, os, yaml, argparse\n",
    "import pandas as pd\n",
    "import dask, intake\n",
    "from datetime import datetime, date\n",
    "from ncar_jobqueue import NCARCluster\n",
    "from dask.distributed import Client\n",
    "from mom6_tools.DiagsCase import DiagsCase\n",
    "from mom6_tools.m6toolbox import add_global_attrs\n",
    "from mom6_tools.m6plot import xycompare, xyplot\n",
    "from mom6_tools.MOM6grid import MOM6grid\n",
    "from mom6_tools.surface import get_SSH, get_MLD, get_BLD\n",
    "\n",
    "warnings.filterwarnings(\"ignore\")"
   ]
  },
  {
   "cell_type": "code",
   "execution_count": 3,
   "id": "6c8bf9f7",
   "metadata": {
    "execution": {
     "iopub.execute_input": "2023-10-17T21:23:53.517392Z",
     "iopub.status.busy": "2023-10-17T21:23:53.516927Z",
     "iopub.status.idle": "2023-10-17T21:23:56.058148Z",
     "shell.execute_reply": "2023-10-17T21:23:56.057676Z"
    },
    "papermill": {
     "duration": 2.551534,
     "end_time": "2023-10-17T21:23:56.059568",
     "exception": false,
     "start_time": "2023-10-17T21:23:53.508034",
     "status": "completed"
    },
    "tags": []
   },
   "outputs": [
    {
     "name": "stdout",
     "output_type": "stream",
     "text": [
      "Output directory is: /glade/scratch/gmarques/archive/g.e23_b15.GJRAv4.TL319_t232_zstar_N65.baseline.001/ocn/hist/\n",
      "Casename is: g.e23_b15.GJRAv4.TL319_t232_zstar_N65.baseline.001\n"
     ]
    }
   ],
   "source": [
    "# Read in the yaml file\n",
    "diag_config_yml_path = \"diag_config.yml\"\n",
    "diag_config_yml = yaml.load(open(diag_config_yml_path,'r'), Loader=yaml.Loader)\n",
    "\n",
    "# load avg dates\n",
    "avg = diag_config_yml['Avg']\n",
    "\n",
    "# Create the case instance\n",
    "dcase = DiagsCase(diag_config_yml['Case'])\n",
    "DOUT_S = dcase.get_value('DOUT_S')\n",
    "if DOUT_S:\n",
    "  OUTDIR = dcase.get_value('DOUT_S_ROOT')+'/ocn/hist/'\n",
    "else:\n",
    "  OUTDIR = dcase.get_value('RUNDIR')+'/'\n",
    "\n",
    "print('Output directory is:', OUTDIR)\n",
    "print('Casename is:', dcase.casename)"
   ]
  },
  {
   "cell_type": "code",
   "execution_count": 4,
   "id": "a9716c8a",
   "metadata": {
    "execution": {
     "iopub.execute_input": "2023-10-17T21:23:56.069702Z",
     "iopub.status.busy": "2023-10-17T21:23:56.069511Z",
     "iopub.status.idle": "2023-10-17T21:23:56.399259Z",
     "shell.execute_reply": "2023-10-17T21:23:56.398749Z"
    },
    "papermill": {
     "duration": 0.334892,
     "end_time": "2023-10-17T21:23:56.400853",
     "exception": false,
     "start_time": "2023-10-17T21:23:56.065961",
     "status": "completed"
    },
    "tags": [
     "parameters"
    ]
   },
   "outputs": [],
   "source": [
    "# The following parameters must be set accordingly\n",
    "######################################################\n",
    "\n",
    "# create an empty class object\n",
    "class args:\n",
    "  pass\n",
    "\n",
    "args.start_date = avg['start_date']\n",
    "args.end_date = avg['end_date']\n",
    "args.casename = dcase.casename\n",
    "args.native = dcase.casename+diag_config_yml['Fnames']['native']\n",
    "args.static = dcase.casename+diag_config_yml['Fnames']['static']\n",
    "args.mld_obs = \"mld-deboyer-tx2_3v2\"\n",
    "args.savefigs = False\n",
    "args.nw = 6 # requesting 6 workers"
   ]
  },
  {
   "cell_type": "code",
   "execution_count": 5,
   "id": "7ad71d72",
   "metadata": {
    "execution": {
     "iopub.execute_input": "2023-10-17T21:23:56.407872Z",
     "iopub.status.busy": "2023-10-17T21:23:56.407677Z",
     "iopub.status.idle": "2023-10-17T21:23:56.740524Z",
     "shell.execute_reply": "2023-10-17T21:23:56.712076Z"
    },
    "papermill": {
     "duration": 0.338044,
     "end_time": "2023-10-17T21:23:56.742136",
     "exception": false,
     "start_time": "2023-10-17T21:23:56.404092",
     "status": "completed"
    },
    "tags": [
     "injected-parameters"
    ]
   },
   "outputs": [],
   "source": [
    "# Parameters\n",
    "sname = \"placeholder-sname\"\n",
    "subset_kwargs = {}\n",
    "product = \"/glade/u/home/eromashkova/codes/mom6-tools/docs/source/examples/computed_notebooks/placeholder-sname/surface.ipynb\"\n"
   ]
  },
  {
   "cell_type": "code",
   "execution_count": 6,
   "id": "8fbd2b84",
   "metadata": {
    "execution": {
     "iopub.execute_input": "2023-10-17T21:23:56.774769Z",
     "iopub.status.busy": "2023-10-17T21:23:56.774537Z",
     "iopub.status.idle": "2023-10-17T21:23:57.086089Z",
     "shell.execute_reply": "2023-10-17T21:23:57.081028Z"
    },
    "papermill": {
     "duration": 0.32335,
     "end_time": "2023-10-17T21:23:57.087713",
     "exception": false,
     "start_time": "2023-10-17T21:23:56.764363",
     "status": "completed"
    },
    "tags": []
   },
   "outputs": [],
   "source": [
    "if not os.path.isdir('PNG/BLD'):\n",
    "  print('Creating a directory to place figures (PNG/BLD)... \\n')\n",
    "  os.system('mkdir -p PNG/BLD')\n",
    "if not os.path.isdir('PNG/MLD'):\n",
    "  print('Creating a directory to place figures (PNG/MLD)... \\n')\n",
    "  os.system('mkdir -p PNG/MLD')\n",
    "if not os.path.isdir('ncfiles'):\n",
    "  print('Creating a directory to place netcdf files (ncfiles)... \\n')\n",
    "  os.system('mkdir ncfiles')    "
   ]
  },
  {
   "cell_type": "code",
   "execution_count": 7,
   "id": "40d021a5",
   "metadata": {
    "execution": {
     "iopub.execute_input": "2023-10-17T21:23:57.106739Z",
     "iopub.status.busy": "2023-10-17T21:23:57.106516Z",
     "iopub.status.idle": "2023-10-17T21:24:09.916595Z",
     "shell.execute_reply": "2023-10-17T21:24:09.916175Z"
    },
    "papermill": {
     "duration": 12.816649,
     "end_time": "2023-10-17T21:24:09.918160",
     "exception": false,
     "start_time": "2023-10-17T21:23:57.101511",
     "status": "completed"
    },
    "tags": []
   },
   "outputs": [],
   "source": [
    "parallel = False\n",
    "if args.nw > 1:\n",
    "  parallel = True\n",
    "  cluster = NCARCluster()\n",
    "  cluster.scale(args.nw)\n",
    "  client = Client(cluster)\n",
    "  client"
   ]
  },
  {
   "cell_type": "code",
   "execution_count": 8,
   "id": "1d69dd15",
   "metadata": {
    "execution": {
     "iopub.execute_input": "2023-10-17T21:24:09.926504Z",
     "iopub.status.busy": "2023-10-17T21:24:09.926330Z",
     "iopub.status.idle": "2023-10-17T21:24:10.420888Z",
     "shell.execute_reply": "2023-10-17T21:24:10.420399Z"
    },
    "papermill": {
     "duration": 0.500108,
     "end_time": "2023-10-17T21:24:10.422447",
     "exception": false,
     "start_time": "2023-10-17T21:24:09.922339",
     "status": "completed"
    },
    "tags": []
   },
   "outputs": [
    {
     "data": {
      "text/html": [
       "<div>\n",
       "    <div style=\"width: 24px; height: 24px; background-color: #e1e1e1; border: 3px solid #9D9D9D; border-radius: 5px; position: absolute;\"> </div>\n",
       "    <div style=\"margin-left: 48px;\">\n",
       "        <h3 style=\"margin-bottom: 0px;\">Client</h3>\n",
       "        <p style=\"color: #9D9D9D; margin-bottom: 0px;\">Client-7e8fcae5-6d33-11ee-9a88-3cecef1b11e4</p>\n",
       "        <table style=\"width: 100%; text-align: left;\">\n",
       "\n",
       "        <tr>\n",
       "        \n",
       "            <td style=\"text-align: left;\"><strong>Connection method:</strong> Cluster object</td>\n",
       "            <td style=\"text-align: left;\"><strong>Cluster type:</strong> dask_jobqueue.PBSCluster</td>\n",
       "        \n",
       "        </tr>\n",
       "\n",
       "        \n",
       "            <tr>\n",
       "                <td style=\"text-align: left;\">\n",
       "                    <strong>Dashboard: </strong> <a href=\"/proxy/45264/status\" target=\"_blank\">/proxy/45264/status</a>\n",
       "                </td>\n",
       "                <td style=\"text-align: left;\"></td>\n",
       "            </tr>\n",
       "        \n",
       "\n",
       "        </table>\n",
       "\n",
       "        \n",
       "            <button style=\"margin-bottom: 12px;\" data-commandlinker-command=\"dask:populate-and-launch-layout\" data-commandlinker-args='{\"url\": \"/proxy/45264/status\" }'>\n",
       "                Launch dashboard in JupyterLab\n",
       "            </button>\n",
       "        \n",
       "\n",
       "        \n",
       "            <details>\n",
       "            <summary style=\"margin-bottom: 20px;\"><h3 style=\"display: inline;\">Cluster Info</h3></summary>\n",
       "            <div class=\"jp-RenderedHTMLCommon jp-RenderedHTML jp-mod-trusted jp-OutputArea-output\">\n",
       "    <div style=\"width: 24px; height: 24px; background-color: #e1e1e1; border: 3px solid #9D9D9D; border-radius: 5px; position: absolute;\">\n",
       "    </div>\n",
       "    <div style=\"margin-left: 48px;\">\n",
       "        <h3 style=\"margin-bottom: 0px; margin-top: 0px;\">PBSCluster</h3>\n",
       "        <p style=\"color: #9D9D9D; margin-bottom: 0px;\">95b8d1e3</p>\n",
       "        <table style=\"width: 100%; text-align: left;\">\n",
       "            <tr>\n",
       "                <td style=\"text-align: left;\">\n",
       "                    <strong>Dashboard:</strong> <a href=\"/proxy/45264/status\" target=\"_blank\">/proxy/45264/status</a>\n",
       "                </td>\n",
       "                <td style=\"text-align: left;\">\n",
       "                    <strong>Workers:</strong> 0\n",
       "                </td>\n",
       "            </tr>\n",
       "            <tr>\n",
       "                <td style=\"text-align: left;\">\n",
       "                    <strong>Total threads:</strong> 0\n",
       "                </td>\n",
       "                <td style=\"text-align: left;\">\n",
       "                    <strong>Total memory:</strong> 0 B\n",
       "                </td>\n",
       "            </tr>\n",
       "            \n",
       "        </table>\n",
       "\n",
       "        <details>\n",
       "            <summary style=\"margin-bottom: 20px;\">\n",
       "                <h3 style=\"display: inline;\">Scheduler Info</h3>\n",
       "            </summary>\n",
       "\n",
       "            <div style=\"\">\n",
       "    <div>\n",
       "        <div style=\"width: 24px; height: 24px; background-color: #FFF7E5; border: 3px solid #FF6132; border-radius: 5px; position: absolute;\"> </div>\n",
       "        <div style=\"margin-left: 48px;\">\n",
       "            <h3 style=\"margin-bottom: 0px;\">Scheduler</h3>\n",
       "            <p style=\"color: #9D9D9D; margin-bottom: 0px;\">Scheduler-bfa75415-c923-44a2-be50-74b2c389f63f</p>\n",
       "            <table style=\"width: 100%; text-align: left;\">\n",
       "                <tr>\n",
       "                    <td style=\"text-align: left;\">\n",
       "                        <strong>Comm:</strong> tcp://10.12.206.57:37626\n",
       "                    </td>\n",
       "                    <td style=\"text-align: left;\">\n",
       "                        <strong>Workers:</strong> 0\n",
       "                    </td>\n",
       "                </tr>\n",
       "                <tr>\n",
       "                    <td style=\"text-align: left;\">\n",
       "                        <strong>Dashboard:</strong> <a href=\"/proxy/45264/status\" target=\"_blank\">/proxy/45264/status</a>\n",
       "                    </td>\n",
       "                    <td style=\"text-align: left;\">\n",
       "                        <strong>Total threads:</strong> 0\n",
       "                    </td>\n",
       "                </tr>\n",
       "                <tr>\n",
       "                    <td style=\"text-align: left;\">\n",
       "                        <strong>Started:</strong> Just now\n",
       "                    </td>\n",
       "                    <td style=\"text-align: left;\">\n",
       "                        <strong>Total memory:</strong> 0 B\n",
       "                    </td>\n",
       "                </tr>\n",
       "            </table>\n",
       "        </div>\n",
       "    </div>\n",
       "\n",
       "    <details style=\"margin-left: 48px;\">\n",
       "        <summary style=\"margin-bottom: 20px;\">\n",
       "            <h3 style=\"display: inline;\">Workers</h3>\n",
       "        </summary>\n",
       "\n",
       "        \n",
       "\n",
       "    </details>\n",
       "</div>\n",
       "\n",
       "        </details>\n",
       "    </div>\n",
       "</div>\n",
       "            </details>\n",
       "        \n",
       "\n",
       "    </div>\n",
       "</div>"
      ],
      "text/plain": [
       "<Client: 'tcp://10.12.206.57:37626' processes=0 threads=0, memory=0 B>"
      ]
     },
     "execution_count": 8,
     "metadata": {},
     "output_type": "execute_result"
    }
   ],
   "source": [
    "client"
   ]
  },
  {
   "cell_type": "code",
   "execution_count": 9,
   "id": "f9c4f8e9",
   "metadata": {
    "execution": {
     "iopub.execute_input": "2023-10-17T21:24:10.430677Z",
     "iopub.status.busy": "2023-10-17T21:24:10.430481Z",
     "iopub.status.idle": "2023-10-17T21:24:11.999880Z",
     "shell.execute_reply": "2023-10-17T21:24:11.996029Z"
    },
    "papermill": {
     "duration": 1.574731,
     "end_time": "2023-10-17T21:24:12.001439",
     "exception": false,
     "start_time": "2023-10-17T21:24:10.426708",
     "status": "completed"
    },
    "tags": []
   },
   "outputs": [
    {
     "name": "stdout",
     "output_type": "stream",
     "text": [
      "MOM6 grid successfully loaded... \n",
      "\n",
      "MOM6 grid successfully loaded... \n",
      "\n"
     ]
    }
   ],
   "source": [
    "# load mom6 grid\n",
    "grd = MOM6grid(OUTDIR+args.static)\n",
    "grd_xr = MOM6grid(OUTDIR+args.static, xrformat=True)"
   ]
  },
  {
   "cell_type": "code",
   "execution_count": 10,
   "id": "7ab28863",
   "metadata": {
    "execution": {
     "iopub.execute_input": "2023-10-17T21:24:12.025113Z",
     "iopub.status.busy": "2023-10-17T21:24:12.024911Z",
     "iopub.status.idle": "2023-10-17T21:26:32.260481Z",
     "shell.execute_reply": "2023-10-17T21:26:32.260035Z"
    },
    "papermill": {
     "duration": 140.247121,
     "end_time": "2023-10-17T21:26:32.261954",
     "exception": false,
     "start_time": "2023-10-17T21:24:12.014833",
     "status": "completed"
    },
    "tags": []
   },
   "outputs": [
    {
     "name": "stdout",
     "output_type": "stream",
     "text": [
      "Reading native dataset...\n"
     ]
    },
    {
     "name": "stdout",
     "output_type": "stream",
     "text": [
      "Time elasped:  0:02:19.881149\n"
     ]
    }
   ],
   "source": [
    "print('Reading native dataset...')\n",
    "startTime = datetime.now()\n",
    "\n",
    "def preprocess(ds):\n",
    "  ''' Compute montly averages and return the dataset with variables'''\n",
    "  variables = ['oml','mlotst','tos','SSH', 'SSU', 'SSV', 'speed', 'time_bnds']\n",
    "  for v in variables:\n",
    "    if v not in ds.variables:\n",
    "      ds[v] = xr.zeros_like(ds.SSH)\n",
    "  return ds[variables]\n",
    "\n",
    "ds1 = xr.open_mfdataset(OUTDIR+args.native, parallel=parallel)\n",
    "ds = preprocess(ds1)\n",
    "\n",
    "print('Time elasped: ', datetime.now() - startTime)"
   ]
  },
  {
   "cell_type": "code",
   "execution_count": 11,
   "id": "e3561197",
   "metadata": {
    "execution": {
     "iopub.execute_input": "2023-10-17T21:26:32.269801Z",
     "iopub.status.busy": "2023-10-17T21:26:32.269619Z",
     "iopub.status.idle": "2023-10-17T21:26:41.836269Z",
     "shell.execute_reply": "2023-10-17T21:26:41.835770Z"
    },
    "papermill": {
     "duration": 9.572367,
     "end_time": "2023-10-17T21:26:41.837767",
     "exception": false,
     "start_time": "2023-10-17T21:26:32.265400",
     "status": "completed"
    },
    "tags": []
   },
   "outputs": [
    {
     "name": "stdout",
     "output_type": "stream",
     "text": [
      "Selecting data between 0031-01-01 and 0062-01-01...\n"
     ]
    }
   ],
   "source": [
    "print('Selecting data between {} and {}...'.format(args.start_date, args.end_date))\n",
    "ds_sel = ds.sel(time=slice(args.start_date, args.end_date))"
   ]
  },
  {
   "cell_type": "markdown",
   "id": "4bdfc092",
   "metadata": {
    "tags": [
     "papermill-error-cell-tag"
    ]
   },
   "source": [
    "<span id=\"papermill-error-cell\" style=\"color:red; font-family:Helvetica Neue, Helvetica, Arial, sans-serif; font-size:2em;\">Execution using papermill encountered an exception here and stopped:</span>"
   ]
  },
  {
   "cell_type": "code",
   "execution_count": 12,
   "id": "25beb0e5",
   "metadata": {
    "execution": {
     "iopub.execute_input": "2023-10-17T21:26:41.862033Z",
     "iopub.status.busy": "2023-10-17T21:26:41.861828Z",
     "iopub.status.idle": "2023-10-17T21:26:44.878127Z",
     "shell.execute_reply": "2023-10-17T21:26:44.876670Z"
    },
    "papermill": {
     "duration": 3.027479,
     "end_time": "2023-10-17T21:26:44.879025",
     "exception": true,
     "start_time": "2023-10-17T21:26:41.851546",
     "status": "failed"
    },
    "tags": []
   },
   "outputs": [
    {
     "ename": "PermissionError",
     "evalue": "[Errno 13] Permission denied: '/glade/campaign/cgd/oce/datasets/cesm/tx2_3/mld/deBoyer2004/deBoyer04_MLD_remapped_to_tx2_3.nc'",
     "output_type": "error",
     "traceback": [
      "\u001b[0;31m---------------------------------------------------------------------------\u001b[0m",
      "\u001b[0;31mPermissionError\u001b[0m                           Traceback (most recent call last)",
      "Cell \u001b[0;32mIn[12], line 2\u001b[0m\n\u001b[1;32m      1\u001b[0m catalog \u001b[38;5;241m=\u001b[39m intake\u001b[38;5;241m.\u001b[39mopen_catalog(diag_config_yml[\u001b[38;5;124m'\u001b[39m\u001b[38;5;124moce_cat\u001b[39m\u001b[38;5;124m'\u001b[39m])\n\u001b[0;32m----> 2\u001b[0m mld_obs \u001b[38;5;241m=\u001b[39m \u001b[43mcatalog\u001b[49m\u001b[43m[\u001b[49m\u001b[43margs\u001b[49m\u001b[38;5;241;43m.\u001b[39;49m\u001b[43mmld_obs\u001b[49m\u001b[43m]\u001b[49m\u001b[38;5;241;43m.\u001b[39;49m\u001b[43mto_dask\u001b[49m\u001b[43m(\u001b[49m\u001b[43m)\u001b[49m\n\u001b[1;32m      3\u001b[0m \u001b[38;5;66;03m# uncomment to list all datasets available\u001b[39;00m\n\u001b[1;32m      4\u001b[0m \u001b[38;5;66;03m#list(catalog)\u001b[39;00m\n",
      "File \u001b[0;32m/glade/work/eromashkova/miniconda3/envs/mom6-diagnostics/lib/python3.11/site-packages/intake_xarray/base.py:69\u001b[0m, in \u001b[0;36mDataSourceMixin.to_dask\u001b[0;34m(self)\u001b[0m\n\u001b[1;32m     67\u001b[0m \u001b[38;5;28;01mdef\u001b[39;00m \u001b[38;5;21mto_dask\u001b[39m(\u001b[38;5;28mself\u001b[39m):\n\u001b[1;32m     68\u001b[0m \u001b[38;5;250m    \u001b[39m\u001b[38;5;124;03m\"\"\"Return xarray object where variables are dask arrays\"\"\"\u001b[39;00m\n\u001b[0;32m---> 69\u001b[0m     \u001b[38;5;28;01mreturn\u001b[39;00m \u001b[38;5;28;43mself\u001b[39;49m\u001b[38;5;241;43m.\u001b[39;49m\u001b[43mread_chunked\u001b[49m\u001b[43m(\u001b[49m\u001b[43m)\u001b[49m\n",
      "File \u001b[0;32m/glade/work/eromashkova/miniconda3/envs/mom6-diagnostics/lib/python3.11/site-packages/intake_xarray/base.py:44\u001b[0m, in \u001b[0;36mDataSourceMixin.read_chunked\u001b[0;34m(self)\u001b[0m\n\u001b[1;32m     42\u001b[0m \u001b[38;5;28;01mdef\u001b[39;00m \u001b[38;5;21mread_chunked\u001b[39m(\u001b[38;5;28mself\u001b[39m):\n\u001b[1;32m     43\u001b[0m \u001b[38;5;250m    \u001b[39m\u001b[38;5;124;03m\"\"\"Return xarray object (which will have chunks)\"\"\"\u001b[39;00m\n\u001b[0;32m---> 44\u001b[0m     \u001b[38;5;28;43mself\u001b[39;49m\u001b[38;5;241;43m.\u001b[39;49m\u001b[43m_load_metadata\u001b[49m\u001b[43m(\u001b[49m\u001b[43m)\u001b[49m\n\u001b[1;32m     45\u001b[0m     \u001b[38;5;28;01mreturn\u001b[39;00m \u001b[38;5;28mself\u001b[39m\u001b[38;5;241m.\u001b[39m_ds\n",
      "File \u001b[0;32m/glade/work/eromashkova/miniconda3/envs/mom6-diagnostics/lib/python3.11/site-packages/intake/source/base.py:283\u001b[0m, in \u001b[0;36mDataSourceBase._load_metadata\u001b[0;34m(self)\u001b[0m\n\u001b[1;32m    281\u001b[0m \u001b[38;5;250m\u001b[39m\u001b[38;5;124;03m\"\"\"load metadata only if needed\"\"\"\u001b[39;00m\n\u001b[1;32m    282\u001b[0m \u001b[38;5;28;01mif\u001b[39;00m \u001b[38;5;28mself\u001b[39m\u001b[38;5;241m.\u001b[39m_schema \u001b[38;5;129;01mis\u001b[39;00m \u001b[38;5;28;01mNone\u001b[39;00m:\n\u001b[0;32m--> 283\u001b[0m     \u001b[38;5;28mself\u001b[39m\u001b[38;5;241m.\u001b[39m_schema \u001b[38;5;241m=\u001b[39m \u001b[38;5;28;43mself\u001b[39;49m\u001b[38;5;241;43m.\u001b[39;49m\u001b[43m_get_schema\u001b[49m\u001b[43m(\u001b[49m\u001b[43m)\u001b[49m\n\u001b[1;32m    284\u001b[0m     \u001b[38;5;28mself\u001b[39m\u001b[38;5;241m.\u001b[39mdtype \u001b[38;5;241m=\u001b[39m \u001b[38;5;28mself\u001b[39m\u001b[38;5;241m.\u001b[39m_schema\u001b[38;5;241m.\u001b[39mdtype\n\u001b[1;32m    285\u001b[0m     \u001b[38;5;28mself\u001b[39m\u001b[38;5;241m.\u001b[39mshape \u001b[38;5;241m=\u001b[39m \u001b[38;5;28mself\u001b[39m\u001b[38;5;241m.\u001b[39m_schema\u001b[38;5;241m.\u001b[39mshape\n",
      "File \u001b[0;32m/glade/work/eromashkova/miniconda3/envs/mom6-diagnostics/lib/python3.11/site-packages/intake_xarray/base.py:18\u001b[0m, in \u001b[0;36mDataSourceMixin._get_schema\u001b[0;34m(self)\u001b[0m\n\u001b[1;32m     15\u001b[0m \u001b[38;5;28mself\u001b[39m\u001b[38;5;241m.\u001b[39murlpath \u001b[38;5;241m=\u001b[39m \u001b[38;5;28mself\u001b[39m\u001b[38;5;241m.\u001b[39m_get_cache(\u001b[38;5;28mself\u001b[39m\u001b[38;5;241m.\u001b[39murlpath)[\u001b[38;5;241m0\u001b[39m]\n\u001b[1;32m     17\u001b[0m \u001b[38;5;28;01mif\u001b[39;00m \u001b[38;5;28mself\u001b[39m\u001b[38;5;241m.\u001b[39m_ds \u001b[38;5;129;01mis\u001b[39;00m \u001b[38;5;28;01mNone\u001b[39;00m:\n\u001b[0;32m---> 18\u001b[0m     \u001b[38;5;28;43mself\u001b[39;49m\u001b[38;5;241;43m.\u001b[39;49m\u001b[43m_open_dataset\u001b[49m\u001b[43m(\u001b[49m\u001b[43m)\u001b[49m\n\u001b[1;32m     20\u001b[0m     metadata \u001b[38;5;241m=\u001b[39m {\n\u001b[1;32m     21\u001b[0m         \u001b[38;5;124m'\u001b[39m\u001b[38;5;124mdims\u001b[39m\u001b[38;5;124m'\u001b[39m: \u001b[38;5;28mdict\u001b[39m(\u001b[38;5;28mself\u001b[39m\u001b[38;5;241m.\u001b[39m_ds\u001b[38;5;241m.\u001b[39mdims),\n\u001b[1;32m     22\u001b[0m         \u001b[38;5;124m'\u001b[39m\u001b[38;5;124mdata_vars\u001b[39m\u001b[38;5;124m'\u001b[39m: {k: \u001b[38;5;28mlist\u001b[39m(\u001b[38;5;28mself\u001b[39m\u001b[38;5;241m.\u001b[39m_ds[k]\u001b[38;5;241m.\u001b[39mcoords)\n\u001b[1;32m     23\u001b[0m                       \u001b[38;5;28;01mfor\u001b[39;00m k \u001b[38;5;129;01min\u001b[39;00m \u001b[38;5;28mself\u001b[39m\u001b[38;5;241m.\u001b[39m_ds\u001b[38;5;241m.\u001b[39mdata_vars\u001b[38;5;241m.\u001b[39mkeys()},\n\u001b[1;32m     24\u001b[0m         \u001b[38;5;124m'\u001b[39m\u001b[38;5;124mcoords\u001b[39m\u001b[38;5;124m'\u001b[39m: \u001b[38;5;28mtuple\u001b[39m(\u001b[38;5;28mself\u001b[39m\u001b[38;5;241m.\u001b[39m_ds\u001b[38;5;241m.\u001b[39mcoords\u001b[38;5;241m.\u001b[39mkeys()),\n\u001b[1;32m     25\u001b[0m     }\n\u001b[1;32m     26\u001b[0m     \u001b[38;5;28;01mif\u001b[39;00m \u001b[38;5;28mgetattr\u001b[39m(\u001b[38;5;28mself\u001b[39m, \u001b[38;5;124m'\u001b[39m\u001b[38;5;124mon_server\u001b[39m\u001b[38;5;124m'\u001b[39m, \u001b[38;5;28;01mFalse\u001b[39;00m):\n",
      "File \u001b[0;32m/glade/work/eromashkova/miniconda3/envs/mom6-diagnostics/lib/python3.11/site-packages/intake_xarray/netcdf.py:87\u001b[0m, in \u001b[0;36mNetCDFSource._open_dataset\u001b[0;34m(self)\u001b[0m\n\u001b[1;32m     84\u001b[0m     _open_dataset \u001b[38;5;241m=\u001b[39m xr\u001b[38;5;241m.\u001b[39mopen_dataset\n\u001b[1;32m     86\u001b[0m \u001b[38;5;28;01mif\u001b[39;00m \u001b[38;5;28mself\u001b[39m\u001b[38;5;241m.\u001b[39m_can_be_local:\n\u001b[0;32m---> 87\u001b[0m     url \u001b[38;5;241m=\u001b[39m \u001b[43mfsspec\u001b[49m\u001b[38;5;241;43m.\u001b[39;49m\u001b[43mopen_local\u001b[49m\u001b[43m(\u001b[49m\u001b[38;5;28;43mself\u001b[39;49m\u001b[38;5;241;43m.\u001b[39;49m\u001b[43murlpath\u001b[49m\u001b[43m,\u001b[49m\u001b[43m \u001b[49m\u001b[38;5;241;43m*\u001b[39;49m\u001b[38;5;241;43m*\u001b[39;49m\u001b[38;5;28;43mself\u001b[39;49m\u001b[38;5;241;43m.\u001b[39;49m\u001b[43mstorage_options\u001b[49m\u001b[43m)\u001b[49m\n\u001b[1;32m     88\u001b[0m \u001b[38;5;28;01melse\u001b[39;00m:\n\u001b[1;32m     89\u001b[0m     \u001b[38;5;66;03m# https://github.com/intake/filesystem_spec/issues/476#issuecomment-732372918\u001b[39;00m\n\u001b[1;32m     90\u001b[0m     url \u001b[38;5;241m=\u001b[39m fsspec\u001b[38;5;241m.\u001b[39mopen(\u001b[38;5;28mself\u001b[39m\u001b[38;5;241m.\u001b[39murlpath, \u001b[38;5;241m*\u001b[39m\u001b[38;5;241m*\u001b[39m\u001b[38;5;28mself\u001b[39m\u001b[38;5;241m.\u001b[39mstorage_options)\u001b[38;5;241m.\u001b[39mopen()\n",
      "File \u001b[0;32m/glade/work/eromashkova/miniconda3/envs/mom6-diagnostics/lib/python3.11/site-packages/fsspec/core.py:477\u001b[0m, in \u001b[0;36mopen_local\u001b[0;34m(url, mode, **storage_options)\u001b[0m\n\u001b[1;32m    472\u001b[0m \u001b[38;5;28;01mif\u001b[39;00m \u001b[38;5;129;01mnot\u001b[39;00m \u001b[38;5;28mgetattr\u001b[39m(of[\u001b[38;5;241m0\u001b[39m]\u001b[38;5;241m.\u001b[39mfs, \u001b[38;5;124m\"\u001b[39m\u001b[38;5;124mlocal_file\u001b[39m\u001b[38;5;124m\"\u001b[39m, \u001b[38;5;28;01mFalse\u001b[39;00m):\n\u001b[1;32m    473\u001b[0m     \u001b[38;5;28;01mraise\u001b[39;00m \u001b[38;5;167;01mValueError\u001b[39;00m(\n\u001b[1;32m    474\u001b[0m         \u001b[38;5;124m\"\u001b[39m\u001b[38;5;124mopen_local can only be used on a filesystem which\u001b[39m\u001b[38;5;124m\"\u001b[39m\n\u001b[1;32m    475\u001b[0m         \u001b[38;5;124m\"\u001b[39m\u001b[38;5;124m has attribute local_file=True\u001b[39m\u001b[38;5;124m\"\u001b[39m\n\u001b[1;32m    476\u001b[0m     )\n\u001b[0;32m--> 477\u001b[0m \u001b[43m\u001b[49m\u001b[38;5;28;43;01mwith\u001b[39;49;00m\u001b[43m \u001b[49m\u001b[43mof\u001b[49m\u001b[43m \u001b[49m\u001b[38;5;28;43;01mas\u001b[39;49;00m\u001b[43m \u001b[49m\u001b[43mfiles\u001b[49m\u001b[43m:\u001b[49m\n\u001b[1;32m    478\u001b[0m \u001b[43m    \u001b[49m\u001b[43mpaths\u001b[49m\u001b[43m \u001b[49m\u001b[38;5;241;43m=\u001b[39;49m\u001b[43m \u001b[49m\u001b[43m[\u001b[49m\u001b[43mf\u001b[49m\u001b[38;5;241;43m.\u001b[39;49m\u001b[43mname\u001b[49m\u001b[43m \u001b[49m\u001b[38;5;28;43;01mfor\u001b[39;49;00m\u001b[43m \u001b[49m\u001b[43mf\u001b[49m\u001b[43m \u001b[49m\u001b[38;5;129;43;01min\u001b[39;49;00m\u001b[43m \u001b[49m\u001b[43mfiles\u001b[49m\u001b[43m]\u001b[49m\n\u001b[1;32m    479\u001b[0m \u001b[38;5;28;01mif\u001b[39;00m \u001b[38;5;28misinstance\u001b[39m(url, \u001b[38;5;28mstr\u001b[39m) \u001b[38;5;129;01mand\u001b[39;00m \u001b[38;5;129;01mnot\u001b[39;00m has_magic(url):\n",
      "File \u001b[0;32m/glade/work/eromashkova/miniconda3/envs/mom6-diagnostics/lib/python3.11/site-packages/fsspec/core.py:177\u001b[0m, in \u001b[0;36mOpenFiles.__enter__\u001b[0;34m(self)\u001b[0m\n\u001b[1;32m    175\u001b[0m     \u001b[38;5;28;01melse\u001b[39;00m:\n\u001b[1;32m    176\u001b[0m         \u001b[38;5;28;01mbreak\u001b[39;00m\n\u001b[0;32m--> 177\u001b[0m \u001b[38;5;28;01mreturn\u001b[39;00m \u001b[43m[\u001b[49m\u001b[43ms\u001b[49m\u001b[38;5;241;43m.\u001b[39;49m\u001b[38;5;21;43m__enter__\u001b[39;49m\u001b[43m(\u001b[49m\u001b[43m)\u001b[49m\u001b[43m \u001b[49m\u001b[38;5;28;43;01mfor\u001b[39;49;00m\u001b[43m \u001b[49m\u001b[43ms\u001b[49m\u001b[43m \u001b[49m\u001b[38;5;129;43;01min\u001b[39;49;00m\u001b[43m \u001b[49m\u001b[38;5;28;43mself\u001b[39;49m\u001b[43m]\u001b[49m\n",
      "File \u001b[0;32m/glade/work/eromashkova/miniconda3/envs/mom6-diagnostics/lib/python3.11/site-packages/fsspec/core.py:177\u001b[0m, in \u001b[0;36m<listcomp>\u001b[0;34m(.0)\u001b[0m\n\u001b[1;32m    175\u001b[0m     \u001b[38;5;28;01melse\u001b[39;00m:\n\u001b[1;32m    176\u001b[0m         \u001b[38;5;28;01mbreak\u001b[39;00m\n\u001b[0;32m--> 177\u001b[0m \u001b[38;5;28;01mreturn\u001b[39;00m [\u001b[43ms\u001b[49m\u001b[38;5;241;43m.\u001b[39;49m\u001b[38;5;21;43m__enter__\u001b[39;49m\u001b[43m(\u001b[49m\u001b[43m)\u001b[49m \u001b[38;5;28;01mfor\u001b[39;00m s \u001b[38;5;129;01min\u001b[39;00m \u001b[38;5;28mself\u001b[39m]\n",
      "File \u001b[0;32m/glade/work/eromashkova/miniconda3/envs/mom6-diagnostics/lib/python3.11/site-packages/fsspec/core.py:102\u001b[0m, in \u001b[0;36mOpenFile.__enter__\u001b[0;34m(self)\u001b[0m\n\u001b[1;32m     99\u001b[0m \u001b[38;5;28;01mdef\u001b[39;00m \u001b[38;5;21m__enter__\u001b[39m(\u001b[38;5;28mself\u001b[39m):\n\u001b[1;32m    100\u001b[0m     mode \u001b[38;5;241m=\u001b[39m \u001b[38;5;28mself\u001b[39m\u001b[38;5;241m.\u001b[39mmode\u001b[38;5;241m.\u001b[39mreplace(\u001b[38;5;124m\"\u001b[39m\u001b[38;5;124mt\u001b[39m\u001b[38;5;124m\"\u001b[39m, \u001b[38;5;124m\"\u001b[39m\u001b[38;5;124m\"\u001b[39m)\u001b[38;5;241m.\u001b[39mreplace(\u001b[38;5;124m\"\u001b[39m\u001b[38;5;124mb\u001b[39m\u001b[38;5;124m\"\u001b[39m, \u001b[38;5;124m\"\u001b[39m\u001b[38;5;124m\"\u001b[39m) \u001b[38;5;241m+\u001b[39m \u001b[38;5;124m\"\u001b[39m\u001b[38;5;124mb\u001b[39m\u001b[38;5;124m\"\u001b[39m\n\u001b[0;32m--> 102\u001b[0m     f \u001b[38;5;241m=\u001b[39m \u001b[38;5;28;43mself\u001b[39;49m\u001b[38;5;241;43m.\u001b[39;49m\u001b[43mfs\u001b[49m\u001b[38;5;241;43m.\u001b[39;49m\u001b[43mopen\u001b[49m\u001b[43m(\u001b[49m\u001b[38;5;28;43mself\u001b[39;49m\u001b[38;5;241;43m.\u001b[39;49m\u001b[43mpath\u001b[49m\u001b[43m,\u001b[49m\u001b[43m \u001b[49m\u001b[43mmode\u001b[49m\u001b[38;5;241;43m=\u001b[39;49m\u001b[43mmode\u001b[49m\u001b[43m)\u001b[49m\n\u001b[1;32m    104\u001b[0m     \u001b[38;5;28mself\u001b[39m\u001b[38;5;241m.\u001b[39mfobjects \u001b[38;5;241m=\u001b[39m [f]\n\u001b[1;32m    106\u001b[0m     \u001b[38;5;28;01mif\u001b[39;00m \u001b[38;5;28mself\u001b[39m\u001b[38;5;241m.\u001b[39mcompression \u001b[38;5;129;01mis\u001b[39;00m \u001b[38;5;129;01mnot\u001b[39;00m \u001b[38;5;28;01mNone\u001b[39;00m:\n",
      "File \u001b[0;32m/glade/work/eromashkova/miniconda3/envs/mom6-diagnostics/lib/python3.11/site-packages/fsspec/spec.py:1241\u001b[0m, in \u001b[0;36mAbstractFileSystem.open\u001b[0;34m(self, path, mode, block_size, cache_options, compression, **kwargs)\u001b[0m\n\u001b[1;32m   1239\u001b[0m \u001b[38;5;28;01melse\u001b[39;00m:\n\u001b[1;32m   1240\u001b[0m     ac \u001b[38;5;241m=\u001b[39m kwargs\u001b[38;5;241m.\u001b[39mpop(\u001b[38;5;124m\"\u001b[39m\u001b[38;5;124mautocommit\u001b[39m\u001b[38;5;124m\"\u001b[39m, \u001b[38;5;129;01mnot\u001b[39;00m \u001b[38;5;28mself\u001b[39m\u001b[38;5;241m.\u001b[39m_intrans)\n\u001b[0;32m-> 1241\u001b[0m     f \u001b[38;5;241m=\u001b[39m \u001b[38;5;28;43mself\u001b[39;49m\u001b[38;5;241;43m.\u001b[39;49m\u001b[43m_open\u001b[49m\u001b[43m(\u001b[49m\n\u001b[1;32m   1242\u001b[0m \u001b[43m        \u001b[49m\u001b[43mpath\u001b[49m\u001b[43m,\u001b[49m\n\u001b[1;32m   1243\u001b[0m \u001b[43m        \u001b[49m\u001b[43mmode\u001b[49m\u001b[38;5;241;43m=\u001b[39;49m\u001b[43mmode\u001b[49m\u001b[43m,\u001b[49m\n\u001b[1;32m   1244\u001b[0m \u001b[43m        \u001b[49m\u001b[43mblock_size\u001b[49m\u001b[38;5;241;43m=\u001b[39;49m\u001b[43mblock_size\u001b[49m\u001b[43m,\u001b[49m\n\u001b[1;32m   1245\u001b[0m \u001b[43m        \u001b[49m\u001b[43mautocommit\u001b[49m\u001b[38;5;241;43m=\u001b[39;49m\u001b[43mac\u001b[49m\u001b[43m,\u001b[49m\n\u001b[1;32m   1246\u001b[0m \u001b[43m        \u001b[49m\u001b[43mcache_options\u001b[49m\u001b[38;5;241;43m=\u001b[39;49m\u001b[43mcache_options\u001b[49m\u001b[43m,\u001b[49m\n\u001b[1;32m   1247\u001b[0m \u001b[43m        \u001b[49m\u001b[38;5;241;43m*\u001b[39;49m\u001b[38;5;241;43m*\u001b[39;49m\u001b[43mkwargs\u001b[49m\u001b[43m,\u001b[49m\n\u001b[1;32m   1248\u001b[0m \u001b[43m    \u001b[49m\u001b[43m)\u001b[49m\n\u001b[1;32m   1249\u001b[0m     \u001b[38;5;28;01mif\u001b[39;00m compression \u001b[38;5;129;01mis\u001b[39;00m \u001b[38;5;129;01mnot\u001b[39;00m \u001b[38;5;28;01mNone\u001b[39;00m:\n\u001b[1;32m   1250\u001b[0m         \u001b[38;5;28;01mfrom\u001b[39;00m \u001b[38;5;21;01mfsspec\u001b[39;00m\u001b[38;5;21;01m.\u001b[39;00m\u001b[38;5;21;01mcompression\u001b[39;00m \u001b[38;5;28;01mimport\u001b[39;00m compr\n",
      "File \u001b[0;32m/glade/work/eromashkova/miniconda3/envs/mom6-diagnostics/lib/python3.11/site-packages/fsspec/implementations/local.py:184\u001b[0m, in \u001b[0;36mLocalFileSystem._open\u001b[0;34m(self, path, mode, block_size, **kwargs)\u001b[0m\n\u001b[1;32m    182\u001b[0m \u001b[38;5;28;01mif\u001b[39;00m \u001b[38;5;28mself\u001b[39m\u001b[38;5;241m.\u001b[39mauto_mkdir \u001b[38;5;129;01mand\u001b[39;00m \u001b[38;5;124m\"\u001b[39m\u001b[38;5;124mw\u001b[39m\u001b[38;5;124m\"\u001b[39m \u001b[38;5;129;01min\u001b[39;00m mode:\n\u001b[1;32m    183\u001b[0m     \u001b[38;5;28mself\u001b[39m\u001b[38;5;241m.\u001b[39mmakedirs(\u001b[38;5;28mself\u001b[39m\u001b[38;5;241m.\u001b[39m_parent(path), exist_ok\u001b[38;5;241m=\u001b[39m\u001b[38;5;28;01mTrue\u001b[39;00m)\n\u001b[0;32m--> 184\u001b[0m \u001b[38;5;28;01mreturn\u001b[39;00m \u001b[43mLocalFileOpener\u001b[49m\u001b[43m(\u001b[49m\u001b[43mpath\u001b[49m\u001b[43m,\u001b[49m\u001b[43m \u001b[49m\u001b[43mmode\u001b[49m\u001b[43m,\u001b[49m\u001b[43m \u001b[49m\u001b[43mfs\u001b[49m\u001b[38;5;241;43m=\u001b[39;49m\u001b[38;5;28;43mself\u001b[39;49m\u001b[43m,\u001b[49m\u001b[43m \u001b[49m\u001b[38;5;241;43m*\u001b[39;49m\u001b[38;5;241;43m*\u001b[39;49m\u001b[43mkwargs\u001b[49m\u001b[43m)\u001b[49m\n",
      "File \u001b[0;32m/glade/work/eromashkova/miniconda3/envs/mom6-diagnostics/lib/python3.11/site-packages/fsspec/implementations/local.py:315\u001b[0m, in \u001b[0;36mLocalFileOpener.__init__\u001b[0;34m(self, path, mode, autocommit, fs, compression, **kwargs)\u001b[0m\n\u001b[1;32m    313\u001b[0m \u001b[38;5;28mself\u001b[39m\u001b[38;5;241m.\u001b[39mcompression \u001b[38;5;241m=\u001b[39m get_compression(path, compression)\n\u001b[1;32m    314\u001b[0m \u001b[38;5;28mself\u001b[39m\u001b[38;5;241m.\u001b[39mblocksize \u001b[38;5;241m=\u001b[39m io\u001b[38;5;241m.\u001b[39mDEFAULT_BUFFER_SIZE\n\u001b[0;32m--> 315\u001b[0m \u001b[38;5;28;43mself\u001b[39;49m\u001b[38;5;241;43m.\u001b[39;49m\u001b[43m_open\u001b[49m\u001b[43m(\u001b[49m\u001b[43m)\u001b[49m\n",
      "File \u001b[0;32m/glade/work/eromashkova/miniconda3/envs/mom6-diagnostics/lib/python3.11/site-packages/fsspec/implementations/local.py:320\u001b[0m, in \u001b[0;36mLocalFileOpener._open\u001b[0;34m(self)\u001b[0m\n\u001b[1;32m    318\u001b[0m \u001b[38;5;28;01mif\u001b[39;00m \u001b[38;5;28mself\u001b[39m\u001b[38;5;241m.\u001b[39mf \u001b[38;5;129;01mis\u001b[39;00m \u001b[38;5;28;01mNone\u001b[39;00m \u001b[38;5;129;01mor\u001b[39;00m \u001b[38;5;28mself\u001b[39m\u001b[38;5;241m.\u001b[39mf\u001b[38;5;241m.\u001b[39mclosed:\n\u001b[1;32m    319\u001b[0m     \u001b[38;5;28;01mif\u001b[39;00m \u001b[38;5;28mself\u001b[39m\u001b[38;5;241m.\u001b[39mautocommit \u001b[38;5;129;01mor\u001b[39;00m \u001b[38;5;124m\"\u001b[39m\u001b[38;5;124mw\u001b[39m\u001b[38;5;124m\"\u001b[39m \u001b[38;5;129;01mnot\u001b[39;00m \u001b[38;5;129;01min\u001b[39;00m \u001b[38;5;28mself\u001b[39m\u001b[38;5;241m.\u001b[39mmode:\n\u001b[0;32m--> 320\u001b[0m         \u001b[38;5;28mself\u001b[39m\u001b[38;5;241m.\u001b[39mf \u001b[38;5;241m=\u001b[39m \u001b[38;5;28;43mopen\u001b[39;49m\u001b[43m(\u001b[49m\u001b[38;5;28;43mself\u001b[39;49m\u001b[38;5;241;43m.\u001b[39;49m\u001b[43mpath\u001b[49m\u001b[43m,\u001b[49m\u001b[43m \u001b[49m\u001b[43mmode\u001b[49m\u001b[38;5;241;43m=\u001b[39;49m\u001b[38;5;28;43mself\u001b[39;49m\u001b[38;5;241;43m.\u001b[39;49m\u001b[43mmode\u001b[49m\u001b[43m)\u001b[49m\n\u001b[1;32m    321\u001b[0m         \u001b[38;5;28;01mif\u001b[39;00m \u001b[38;5;28mself\u001b[39m\u001b[38;5;241m.\u001b[39mcompression:\n\u001b[1;32m    322\u001b[0m             compress \u001b[38;5;241m=\u001b[39m compr[\u001b[38;5;28mself\u001b[39m\u001b[38;5;241m.\u001b[39mcompression]\n",
      "\u001b[0;31mPermissionError\u001b[0m: [Errno 13] Permission denied: '/glade/campaign/cgd/oce/datasets/cesm/tx2_3/mld/deBoyer2004/deBoyer04_MLD_remapped_to_tx2_3.nc'"
     ]
    }
   ],
   "source": [
    "catalog = intake.open_catalog(diag_config_yml['oce_cat'])\n",
    "mld_obs = catalog[args.mld_obs].to_dask()\n",
    "# uncomment to list all datasets available\n",
    "#list(catalog)"
   ]
  },
  {
   "cell_type": "markdown",
   "id": "dd138fc7",
   "metadata": {
    "papermill": {
     "duration": null,
     "end_time": null,
     "exception": null,
     "start_time": null,
     "status": "pending"
    },
    "tags": []
   },
   "source": [
    "### Mixed layer depth"
   ]
  },
  {
   "cell_type": "code",
   "execution_count": null,
   "id": "a92059cd",
   "metadata": {
    "papermill": {
     "duration": null,
     "end_time": null,
     "exception": null,
     "start_time": null,
     "status": "pending"
    },
    "tags": []
   },
   "outputs": [],
   "source": [
    "%matplotlib inline\n",
    "# MLD\n",
    "get_MLD(ds,'mlotst', mld_obs, grd, args)"
   ]
  },
  {
   "cell_type": "markdown",
   "id": "7d1b222c",
   "metadata": {
    "papermill": {
     "duration": null,
     "end_time": null,
     "exception": null,
     "start_time": null,
     "status": "pending"
    },
    "tags": []
   },
   "source": [
    "### Boundary layer depth"
   ]
  },
  {
   "cell_type": "code",
   "execution_count": null,
   "id": "fb56db20",
   "metadata": {
    "papermill": {
     "duration": null,
     "end_time": null,
     "exception": null,
     "start_time": null,
     "status": "pending"
    },
    "tags": []
   },
   "outputs": [],
   "source": [
    "get_BLD(ds, 'oml', grd, args)"
   ]
  },
  {
   "cell_type": "code",
   "execution_count": null,
   "id": "2cde8e57",
   "metadata": {
    "papermill": {
     "duration": null,
     "end_time": null,
     "exception": null,
     "start_time": null,
     "status": "pending"
    },
    "tags": []
   },
   "outputs": [],
   "source": [
    "# SSH (not working)\n",
    "#get_SSH(ds, 'SSH', grd, args)"
   ]
  },
  {
   "cell_type": "code",
   "execution_count": null,
   "id": "ebe83371",
   "metadata": {
    "papermill": {
     "duration": null,
     "end_time": null,
     "exception": null,
     "start_time": null,
     "status": "pending"
    },
    "tags": []
   },
   "outputs": [],
   "source": [
    "if parallel:\n",
    "    print('\\n Releasing workers...')\n",
    "    client.close(); cluster.close()"
   ]
  }
 ],
 "metadata": {
  "kernelspec": {
   "display_name": "Python 3 (ipykernel)",
   "language": "python",
   "name": "mom6-diagnostics"
  },
  "language_info": {
   "codemirror_mode": {
    "name": "ipython",
    "version": 3
   },
   "file_extension": ".py",
   "mimetype": "text/x-python",
   "name": "python",
   "nbconvert_exporter": "python",
   "pygments_lexer": "ipython3",
   "version": "3.11.5"
  },
  "papermill": {
   "duration": 193.390862,
   "end_time": "2023-10-17T21:26:47.714993",
   "exception": true,
   "input_path": "/glade/scratch/eromashkova/tmp/tmp2bup1z1z.ipynb",
   "output_path": "/glade/u/home/eromashkova/codes/mom6-tools/docs/source/examples/computed_notebooks/placeholder-sname/surface.ipynb",
   "parameters": {
    "product": "/glade/u/home/eromashkova/codes/mom6-tools/docs/source/examples/computed_notebooks/placeholder-sname/surface.ipynb",
    "sname": "placeholder-sname",
    "subset_kwargs": {}
   },
   "start_time": "2023-10-17T21:23:34.324131"
  },
  "toc": {
   "base_numbering": 1,
   "nav_menu": {},
   "number_sections": true,
   "sideBar": true,
   "skip_h1_title": false,
   "title_cell": "Table of Contents",
   "title_sidebar": "Contents",
   "toc_cell": false,
   "toc_position": {},
   "toc_section_display": true,
   "toc_window_display": false
  },
  "varInspector": {
   "cols": {
    "lenName": 16,
    "lenType": 16,
    "lenVar": 40
   },
   "kernels_config": {
    "python": {
     "delete_cmd_postfix": "",
     "delete_cmd_prefix": "del ",
     "library": "var_list.py",
     "varRefreshCmd": "print(var_dic_list())"
    },
    "r": {
     "delete_cmd_postfix": ") ",
     "delete_cmd_prefix": "rm(",
     "library": "var_list.r",
     "varRefreshCmd": "cat(var_dic_list()) "
    }
   },
   "types_to_exclude": [
    "module",
    "function",
    "builtin_function_or_method",
    "instance",
    "_Feature"
   ],
   "window_display": false
  }
 },
 "nbformat": 4,
 "nbformat_minor": 5
}