{
 "cells": [
  {
   "cell_type": "markdown",
   "id": "d6ccef79",
   "metadata": {
    "tags": [
     "papermill-error-cell-tag"
    ]
   },
   "source": [
    "<span style=\"color:red; font-family:Helvetica Neue, Helvetica, Arial, sans-serif; font-size:2em;\">An Exception was encountered at '<a href=\"#papermill-error-cell\">In [13]</a>'.</span>"
   ]
  },
  {
   "cell_type": "markdown",
   "id": "ba1ee3b3",
   "metadata": {
    "papermill": {
     "duration": 0.009176,
     "end_time": "2023-10-17T21:23:42.410108",
     "exception": false,
     "start_time": "2023-10-17T21:23:42.400932",
     "status": "completed"
    },
    "tags": [],
    "toc-hr-collapsed": false
   },
   "source": [
    "# Temperature and Salinity at Depth Levels\n",
    "\n",
    "Goals of this notebook:\n",
    "\n",
    "1) serve as an example of how to post-process CESM/MOM6 output;\n",
    "\n",
    "2) create time averages of T/S fields at depth levels and compared agains observations (WOA18).\n",
    "\n",
    "Temprature and salinity comparisons (model vs obs) at selected depth levels are grouped into the following regions: Global, Antarctic, and Arctic."
   ]
  },
  {
   "cell_type": "code",
   "execution_count": 1,
   "id": "9438bd0d",
   "metadata": {
    "execution": {
     "iopub.execute_input": "2023-10-17T21:23:42.439249Z",
     "iopub.status.busy": "2023-10-17T21:23:42.439058Z",
     "iopub.status.idle": "2023-10-17T21:23:55.005448Z",
     "shell.execute_reply": "2023-10-17T21:23:54.999290Z"
    },
    "papermill": {
     "duration": 12.59366,
     "end_time": "2023-10-17T21:23:55.006943",
     "exception": false,
     "start_time": "2023-10-17T21:23:42.413283",
     "status": "completed"
    },
    "tags": []
   },
   "outputs": [
    {
     "name": "stdout",
     "output_type": "stream",
     "text": [
      "Basemap module not found. Some regional plots may not function properly\n"
     ]
    }
   ],
   "source": [
    "%matplotlib inline\n",
    "from mom6_tools.MOM6grid import MOM6grid\n",
    "from mom6_tools.m6plot import xycompare, polarcomparison\n",
    "from mom6_tools.DiagsCase import DiagsCase\n",
    "from mom6_tools import m6toolbox\n",
    "from ncar_jobqueue import NCARCluster\n",
    "from dask.distributed import Client\n",
    "import yaml, intake, os\n",
    "import matplotlib.pyplot as plt\n",
    "import numpy as np\n",
    "import xarray as xr\n",
    "from IPython.display import display, Markdown, Latex\n",
    "import warnings\n",
    "warnings.filterwarnings(\"ignore\")"
   ]
  },
  {
   "cell_type": "code",
   "execution_count": 2,
   "id": "d0c0fba3",
   "metadata": {
    "execution": {
     "iopub.execute_input": "2023-10-17T21:23:55.055210Z",
     "iopub.status.busy": "2023-10-17T21:23:55.054998Z",
     "iopub.status.idle": "2023-10-17T21:23:57.356719Z",
     "shell.execute_reply": "2023-10-17T21:23:57.356129Z"
    },
    "papermill": {
     "duration": 2.335074,
     "end_time": "2023-10-17T21:23:57.358345",
     "exception": false,
     "start_time": "2023-10-17T21:23:55.023271",
     "status": "completed"
    },
    "tags": []
   },
   "outputs": [
    {
     "name": "stdout",
     "output_type": "stream",
     "text": [
      "Output directory is: /glade/scratch/gmarques/archive/g.e23_b15.GJRAv4.TL319_t232_zstar_N65.baseline.001/ocn/hist/\n",
      "Casename is: g.e23_b15.GJRAv4.TL319_t232_zstar_N65.baseline.001\n"
     ]
    }
   ],
   "source": [
    "# Read in the yaml file\n",
    "diag_config_yml_path = \"diag_config.yml\"\n",
    "diag_config_yml = yaml.load(open(diag_config_yml_path,'r'), Loader=yaml.Loader)\n",
    "\n",
    "# load avg dates\n",
    "avg = diag_config_yml['Avg']\n",
    "\n",
    "# Create the case instance\n",
    "dcase = DiagsCase(diag_config_yml['Case'])\n",
    "DOUT_S = dcase.get_value('DOUT_S')\n",
    "if DOUT_S:\n",
    "  OUTDIR = dcase.get_value('DOUT_S_ROOT')+'/ocn/hist/'\n",
    "else:\n",
    "  OUTDIR = dcase.get_value('RUNDIR')\n",
    "\n",
    "print('Output directory is:', OUTDIR)\n",
    "print('Casename is:', dcase.casename)"
   ]
  },
  {
   "cell_type": "code",
   "execution_count": 3,
   "id": "52bb1d6d",
   "metadata": {
    "execution": {
     "iopub.execute_input": "2023-10-17T21:23:57.391236Z",
     "iopub.status.busy": "2023-10-17T21:23:57.391017Z",
     "iopub.status.idle": "2023-10-17T21:23:57.401009Z",
     "shell.execute_reply": "2023-10-17T21:23:57.400488Z"
    },
    "papermill": {
     "duration": 0.030872,
     "end_time": "2023-10-17T21:23:57.402431",
     "exception": false,
     "start_time": "2023-10-17T21:23:57.371559",
     "status": "completed"
    },
    "tags": [
     "parameters"
    ]
   },
   "outputs": [],
   "source": [
    "# The following parameters must be set accordingly\n",
    "######################################################\n",
    "\n",
    "# create an empty class object\n",
    "class args:\n",
    "  pass\n",
    "\n",
    "args.start_date = avg['start_date']\n",
    "args.end_date = avg['end_date']\n",
    "args.casename = dcase.casename\n",
    "args.obs = \"woa-2018-tx2_3v2-annual-all\"\n",
    "args.monthly = dcase.casename+diag_config_yml['Fnames']['z']\n",
    "args.static = dcase.casename+diag_config_yml['Fnames']['static']\n",
    "args.savefigs = False\n",
    "args.nw = 6 # requesting 6 workers"
   ]
  },
  {
   "cell_type": "code",
   "execution_count": 4,
   "id": "7bd3245c",
   "metadata": {
    "execution": {
     "iopub.execute_input": "2023-10-17T21:23:57.443059Z",
     "iopub.status.busy": "2023-10-17T21:23:57.442854Z",
     "iopub.status.idle": "2023-10-17T21:23:57.446162Z",
     "shell.execute_reply": "2023-10-17T21:23:57.445676Z"
    },
    "papermill": {
     "duration": 0.041832,
     "end_time": "2023-10-17T21:23:57.447420",
     "exception": false,
     "start_time": "2023-10-17T21:23:57.405588",
     "status": "completed"
    },
    "tags": [
     "injected-parameters"
    ]
   },
   "outputs": [],
   "source": [
    "# Parameters\n",
    "sname = \"placeholder-sname\"\n",
    "subset_kwargs = {}\n",
    "product = \"/glade/u/home/eromashkova/codes/mom6-tools/docs/source/examples/computed_notebooks/placeholder-sname/TS_levels.ipynb\"\n"
   ]
  },
  {
   "cell_type": "code",
   "execution_count": 5,
   "id": "8bcbbe3a",
   "metadata": {
    "execution": {
     "iopub.execute_input": "2023-10-17T21:23:57.518281Z",
     "iopub.status.busy": "2023-10-17T21:23:57.518071Z",
     "iopub.status.idle": "2023-10-17T21:23:59.138779Z",
     "shell.execute_reply": "2023-10-17T21:23:59.128847Z"
    },
    "papermill": {
     "duration": 1.63353,
     "end_time": "2023-10-17T21:23:59.140378",
     "exception": false,
     "start_time": "2023-10-17T21:23:57.506848",
     "status": "completed"
    },
    "tags": []
   },
   "outputs": [
    {
     "name": "stdout",
     "output_type": "stream",
     "text": [
      "MOM6 grid successfully loaded... \n",
      "\n",
      "MOM6 grid successfully loaded... \n",
      "\n"
     ]
    }
   ],
   "source": [
    "# load mom6 grid\n",
    "grd = MOM6grid(OUTDIR+args.static)\n",
    "grd_xr = MOM6grid(OUTDIR+args.static, xrformat=True)"
   ]
  },
  {
   "cell_type": "code",
   "execution_count": 6,
   "id": "c6837fc6",
   "metadata": {
    "execution": {
     "iopub.execute_input": "2023-10-17T21:23:59.160205Z",
     "iopub.status.busy": "2023-10-17T21:23:59.159991Z",
     "iopub.status.idle": "2023-10-17T21:24:10.070079Z",
     "shell.execute_reply": "2023-10-17T21:24:10.069640Z"
    },
    "papermill": {
     "duration": 10.922932,
     "end_time": "2023-10-17T21:24:10.071813",
     "exception": false,
     "start_time": "2023-10-17T21:23:59.148881",
     "status": "completed"
    },
    "tags": []
   },
   "outputs": [],
   "source": [
    "parallel = False\n",
    "if args.nw > 1:\n",
    "  parallel = True\n",
    "  cluster = NCARCluster()\n",
    "  cluster.scale(args.nw)\n",
    "  client = Client(cluster)\n",
    "  client"
   ]
  },
  {
   "cell_type": "code",
   "execution_count": 7,
   "id": "2a475271",
   "metadata": {
    "execution": {
     "iopub.execute_input": "2023-10-17T21:24:10.085330Z",
     "iopub.status.busy": "2023-10-17T21:24:10.085137Z",
     "iopub.status.idle": "2023-10-17T21:24:10.170396Z",
     "shell.execute_reply": "2023-10-17T21:24:10.169847Z"
    },
    "papermill": {
     "duration": 0.091219,
     "end_time": "2023-10-17T21:24:10.171780",
     "exception": false,
     "start_time": "2023-10-17T21:24:10.080561",
     "status": "completed"
    },
    "tags": []
   },
   "outputs": [
    {
     "data": {
      "text/html": [
       "<div>\n",
       "    <div style=\"width: 24px; height: 24px; background-color: #e1e1e1; border: 3px solid #9D9D9D; border-radius: 5px; position: absolute;\"> </div>\n",
       "    <div style=\"margin-left: 48px;\">\n",
       "        <h3 style=\"margin-bottom: 0px;\">Client</h3>\n",
       "        <p style=\"color: #9D9D9D; margin-bottom: 0px;\">Client-7f3f452c-6d33-11ee-9aa6-3cecef1b11e4</p>\n",
       "        <table style=\"width: 100%; text-align: left;\">\n",
       "\n",
       "        <tr>\n",
       "        \n",
       "            <td style=\"text-align: left;\"><strong>Connection method:</strong> Cluster object</td>\n",
       "            <td style=\"text-align: left;\"><strong>Cluster type:</strong> dask_jobqueue.PBSCluster</td>\n",
       "        \n",
       "        </tr>\n",
       "\n",
       "        \n",
       "            <tr>\n",
       "                <td style=\"text-align: left;\">\n",
       "                    <strong>Dashboard: </strong> <a href=\"/proxy/35754/status\" target=\"_blank\">/proxy/35754/status</a>\n",
       "                </td>\n",
       "                <td style=\"text-align: left;\"></td>\n",
       "            </tr>\n",
       "        \n",
       "\n",
       "        </table>\n",
       "\n",
       "        \n",
       "            <button style=\"margin-bottom: 12px;\" data-commandlinker-command=\"dask:populate-and-launch-layout\" data-commandlinker-args='{\"url\": \"/proxy/35754/status\" }'>\n",
       "                Launch dashboard in JupyterLab\n",
       "            </button>\n",
       "        \n",
       "\n",
       "        \n",
       "            <details>\n",
       "            <summary style=\"margin-bottom: 20px;\"><h3 style=\"display: inline;\">Cluster Info</h3></summary>\n",
       "            <div class=\"jp-RenderedHTMLCommon jp-RenderedHTML jp-mod-trusted jp-OutputArea-output\">\n",
       "    <div style=\"width: 24px; height: 24px; background-color: #e1e1e1; border: 3px solid #9D9D9D; border-radius: 5px; position: absolute;\">\n",
       "    </div>\n",
       "    <div style=\"margin-left: 48px;\">\n",
       "        <h3 style=\"margin-bottom: 0px; margin-top: 0px;\">PBSCluster</h3>\n",
       "        <p style=\"color: #9D9D9D; margin-bottom: 0px;\">561e03b0</p>\n",
       "        <table style=\"width: 100%; text-align: left;\">\n",
       "            <tr>\n",
       "                <td style=\"text-align: left;\">\n",
       "                    <strong>Dashboard:</strong> <a href=\"/proxy/35754/status\" target=\"_blank\">/proxy/35754/status</a>\n",
       "                </td>\n",
       "                <td style=\"text-align: left;\">\n",
       "                    <strong>Workers:</strong> 0\n",
       "                </td>\n",
       "            </tr>\n",
       "            <tr>\n",
       "                <td style=\"text-align: left;\">\n",
       "                    <strong>Total threads:</strong> 0\n",
       "                </td>\n",
       "                <td style=\"text-align: left;\">\n",
       "                    <strong>Total memory:</strong> 0 B\n",
       "                </td>\n",
       "            </tr>\n",
       "            \n",
       "        </table>\n",
       "\n",
       "        <details>\n",
       "            <summary style=\"margin-bottom: 20px;\">\n",
       "                <h3 style=\"display: inline;\">Scheduler Info</h3>\n",
       "            </summary>\n",
       "\n",
       "            <div style=\"\">\n",
       "    <div>\n",
       "        <div style=\"width: 24px; height: 24px; background-color: #FFF7E5; border: 3px solid #FF6132; border-radius: 5px; position: absolute;\"> </div>\n",
       "        <div style=\"margin-left: 48px;\">\n",
       "            <h3 style=\"margin-bottom: 0px;\">Scheduler</h3>\n",
       "            <p style=\"color: #9D9D9D; margin-bottom: 0px;\">Scheduler-910a975c-ee4c-48fd-9223-b35cd3a75331</p>\n",
       "            <table style=\"width: 100%; text-align: left;\">\n",
       "                <tr>\n",
       "                    <td style=\"text-align: left;\">\n",
       "                        <strong>Comm:</strong> tcp://10.12.206.57:42116\n",
       "                    </td>\n",
       "                    <td style=\"text-align: left;\">\n",
       "                        <strong>Workers:</strong> 0\n",
       "                    </td>\n",
       "                </tr>\n",
       "                <tr>\n",
       "                    <td style=\"text-align: left;\">\n",
       "                        <strong>Dashboard:</strong> <a href=\"/proxy/35754/status\" target=\"_blank\">/proxy/35754/status</a>\n",
       "                    </td>\n",
       "                    <td style=\"text-align: left;\">\n",
       "                        <strong>Total threads:</strong> 0\n",
       "                    </td>\n",
       "                </tr>\n",
       "                <tr>\n",
       "                    <td style=\"text-align: left;\">\n",
       "                        <strong>Started:</strong> Just now\n",
       "                    </td>\n",
       "                    <td style=\"text-align: left;\">\n",
       "                        <strong>Total memory:</strong> 0 B\n",
       "                    </td>\n",
       "                </tr>\n",
       "            </table>\n",
       "        </div>\n",
       "    </div>\n",
       "\n",
       "    <details style=\"margin-left: 48px;\">\n",
       "        <summary style=\"margin-bottom: 20px;\">\n",
       "            <h3 style=\"display: inline;\">Workers</h3>\n",
       "        </summary>\n",
       "\n",
       "        \n",
       "\n",
       "    </details>\n",
       "</div>\n",
       "\n",
       "        </details>\n",
       "    </div>\n",
       "</div>\n",
       "            </details>\n",
       "        \n",
       "\n",
       "    </div>\n",
       "</div>"
      ],
      "text/plain": [
       "<Client: 'tcp://10.12.206.57:42116' processes=0 threads=0, memory=0 B>"
      ]
     },
     "execution_count": 7,
     "metadata": {},
     "output_type": "execute_result"
    }
   ],
   "source": [
    "client"
   ]
  },
  {
   "cell_type": "code",
   "execution_count": 8,
   "id": "f1b33bf0",
   "metadata": {
    "execution": {
     "iopub.execute_input": "2023-10-17T21:24:10.196781Z",
     "iopub.status.busy": "2023-10-17T21:24:10.196556Z",
     "iopub.status.idle": "2023-10-17T21:24:35.363556Z",
     "shell.execute_reply": "2023-10-17T21:24:35.362892Z"
    },
    "papermill": {
     "duration": 25.179785,
     "end_time": "2023-10-17T21:24:35.365222",
     "exception": false,
     "start_time": "2023-10-17T21:24:10.185437",
     "status": "completed"
    },
    "tags": []
   },
   "outputs": [],
   "source": [
    "# load history files\n",
    "\n",
    "def preprocess(ds):\n",
    "    ''' Return a dataset desired variables'''\n",
    "    variables = ['thetao', 'so', 'time', 'time_bounds']\n",
    "    return ds[variables]\n",
    "\n",
    "ds = xr.open_mfdataset(OUTDIR+args.monthly, \\\n",
    "         parallel=True, data_vars='minimal', \\\n",
    "         coords='minimal', compat='override', preprocess=preprocess)"
   ]
  },
  {
   "cell_type": "code",
   "execution_count": 9,
   "id": "29071147",
   "metadata": {
    "execution": {
     "iopub.execute_input": "2023-10-17T21:24:35.396020Z",
     "iopub.status.busy": "2023-10-17T21:24:35.395811Z",
     "iopub.status.idle": "2023-10-17T21:24:35.466948Z",
     "shell.execute_reply": "2023-10-17T21:24:35.465388Z"
    },
    "papermill": {
     "duration": 0.090553,
     "end_time": "2023-10-17T21:24:35.468571",
     "exception": false,
     "start_time": "2023-10-17T21:24:35.378018",
     "status": "completed"
    },
    "tags": []
   },
   "outputs": [
    {
     "name": "stdout",
     "output_type": "stream",
     "text": [
      "CPU times: user 2 µs, sys: 0 ns, total: 2 µs\n",
      "Wall time: 6.44 µs\n"
     ]
    }
   ],
   "source": [
    "# Select data\n",
    "%time \n",
    "ds_sel = ds.sel(time=slice(args.start_date, args.end_date))"
   ]
  },
  {
   "cell_type": "code",
   "execution_count": 10,
   "id": "40876815",
   "metadata": {
    "execution": {
     "iopub.execute_input": "2023-10-17T21:24:35.476715Z",
     "iopub.status.busy": "2023-10-17T21:24:35.476515Z",
     "iopub.status.idle": "2023-10-17T21:24:47.437020Z",
     "shell.execute_reply": "2023-10-17T21:24:47.396244Z"
    },
    "papermill": {
     "duration": 11.966288,
     "end_time": "2023-10-17T21:24:47.438563",
     "exception": false,
     "start_time": "2023-10-17T21:24:35.472275",
     "status": "completed"
    },
    "tags": []
   },
   "outputs": [],
   "source": [
    "# compute annual mean and then average in time\n",
    "ds_ann = m6toolbox.weighted_temporal_mean_vars(ds_sel)"
   ]
  },
  {
   "cell_type": "code",
   "execution_count": 11,
   "id": "35a1dba9",
   "metadata": {
    "execution": {
     "iopub.execute_input": "2023-10-17T21:24:47.471481Z",
     "iopub.status.busy": "2023-10-17T21:24:47.471273Z",
     "iopub.status.idle": "2023-10-17T21:25:42.782607Z",
     "shell.execute_reply": "2023-10-17T21:25:42.782066Z"
    },
    "papermill": {
     "duration": 55.317862,
     "end_time": "2023-10-17T21:25:42.784178",
     "exception": false,
     "start_time": "2023-10-17T21:24:47.466316",
     "status": "completed"
    },
    "tags": []
   },
   "outputs": [],
   "source": [
    "thetao_mean = ds_ann.thetao.mean('time')\n",
    "temp = np.ma.masked_invalid(thetao_mean.values)"
   ]
  },
  {
   "cell_type": "code",
   "execution_count": 12,
   "id": "0484bade",
   "metadata": {
    "execution": {
     "iopub.execute_input": "2023-10-17T21:25:42.814168Z",
     "iopub.status.busy": "2023-10-17T21:25:42.813979Z",
     "iopub.status.idle": "2023-10-17T21:26:33.647293Z",
     "shell.execute_reply": "2023-10-17T21:26:33.646681Z"
    },
    "papermill": {
     "duration": 50.844867,
     "end_time": "2023-10-17T21:26:33.648883",
     "exception": false,
     "start_time": "2023-10-17T21:25:42.804016",
     "status": "completed"
    },
    "tags": []
   },
   "outputs": [],
   "source": [
    "so_mean = ds_ann.so.mean('time')\n",
    "salt = np.ma.masked_invalid(so_mean.values)"
   ]
  },
  {
   "cell_type": "markdown",
   "id": "900f4292",
   "metadata": {
    "tags": [
     "papermill-error-cell-tag"
    ]
   },
   "source": [
    "<span id=\"papermill-error-cell\" style=\"color:red; font-family:Helvetica Neue, Helvetica, Arial, sans-serif; font-size:2em;\">Execution using papermill encountered an exception here and stopped:</span>"
   ]
  },
  {
   "cell_type": "code",
   "execution_count": 13,
   "id": "a159d705",
   "metadata": {
    "execution": {
     "iopub.execute_input": "2023-10-17T21:26:33.675178Z",
     "iopub.status.busy": "2023-10-17T21:26:33.674975Z",
     "iopub.status.idle": "2023-10-17T21:26:37.810474Z",
     "shell.execute_reply": "2023-10-17T21:26:37.808690Z"
    },
    "papermill": {
     "duration": 4.147791,
     "end_time": "2023-10-17T21:26:37.811429",
     "exception": true,
     "start_time": "2023-10-17T21:26:33.663638",
     "status": "failed"
    },
    "tags": []
   },
   "outputs": [
    {
     "ename": "IndexError",
     "evalue": "list index out of range",
     "output_type": "error",
     "traceback": [
      "\u001b[0;31m---------------------------------------------------------------------------\u001b[0m",
      "\u001b[0;31mIndexError\u001b[0m                                Traceback (most recent call last)",
      "Cell \u001b[0;32mIn[13], line 3\u001b[0m\n\u001b[1;32m      1\u001b[0m \u001b[38;5;66;03m# load WOA18 data\u001b[39;00m\n\u001b[1;32m      2\u001b[0m catalog \u001b[38;5;241m=\u001b[39m intake\u001b[38;5;241m.\u001b[39mopen_catalog(diag_config_yml[\u001b[38;5;124m'\u001b[39m\u001b[38;5;124moce_cat\u001b[39m\u001b[38;5;124m'\u001b[39m])\n\u001b[0;32m----> 3\u001b[0m woa18 \u001b[38;5;241m=\u001b[39m \u001b[43mcatalog\u001b[49m\u001b[43m[\u001b[49m\u001b[43margs\u001b[49m\u001b[38;5;241;43m.\u001b[39;49m\u001b[43mobs\u001b[49m\u001b[43m]\u001b[49m\u001b[38;5;241;43m.\u001b[39;49m\u001b[43mto_dask\u001b[49m\u001b[43m(\u001b[49m\u001b[43m)\u001b[49m\n\u001b[1;32m      4\u001b[0m woa18 \u001b[38;5;241m=\u001b[39m woa18\u001b[38;5;241m.\u001b[39mrename({\u001b[38;5;124m'\u001b[39m\u001b[38;5;124mz_l\u001b[39m\u001b[38;5;124m'\u001b[39m : \u001b[38;5;124m'\u001b[39m\u001b[38;5;124mdepth\u001b[39m\u001b[38;5;124m'\u001b[39m});\n",
      "File \u001b[0;32m/glade/work/eromashkova/miniconda3/envs/mom6-diagnostics/lib/python3.11/site-packages/intake_xarray/base.py:69\u001b[0m, in \u001b[0;36mDataSourceMixin.to_dask\u001b[0;34m(self)\u001b[0m\n\u001b[1;32m     67\u001b[0m \u001b[38;5;28;01mdef\u001b[39;00m \u001b[38;5;21mto_dask\u001b[39m(\u001b[38;5;28mself\u001b[39m):\n\u001b[1;32m     68\u001b[0m \u001b[38;5;250m    \u001b[39m\u001b[38;5;124;03m\"\"\"Return xarray object where variables are dask arrays\"\"\"\u001b[39;00m\n\u001b[0;32m---> 69\u001b[0m     \u001b[38;5;28;01mreturn\u001b[39;00m \u001b[38;5;28;43mself\u001b[39;49m\u001b[38;5;241;43m.\u001b[39;49m\u001b[43mread_chunked\u001b[49m\u001b[43m(\u001b[49m\u001b[43m)\u001b[49m\n",
      "File \u001b[0;32m/glade/work/eromashkova/miniconda3/envs/mom6-diagnostics/lib/python3.11/site-packages/intake_xarray/base.py:44\u001b[0m, in \u001b[0;36mDataSourceMixin.read_chunked\u001b[0;34m(self)\u001b[0m\n\u001b[1;32m     42\u001b[0m \u001b[38;5;28;01mdef\u001b[39;00m \u001b[38;5;21mread_chunked\u001b[39m(\u001b[38;5;28mself\u001b[39m):\n\u001b[1;32m     43\u001b[0m \u001b[38;5;250m    \u001b[39m\u001b[38;5;124;03m\"\"\"Return xarray object (which will have chunks)\"\"\"\u001b[39;00m\n\u001b[0;32m---> 44\u001b[0m     \u001b[38;5;28;43mself\u001b[39;49m\u001b[38;5;241;43m.\u001b[39;49m\u001b[43m_load_metadata\u001b[49m\u001b[43m(\u001b[49m\u001b[43m)\u001b[49m\n\u001b[1;32m     45\u001b[0m     \u001b[38;5;28;01mreturn\u001b[39;00m \u001b[38;5;28mself\u001b[39m\u001b[38;5;241m.\u001b[39m_ds\n",
      "File \u001b[0;32m/glade/work/eromashkova/miniconda3/envs/mom6-diagnostics/lib/python3.11/site-packages/intake/source/base.py:283\u001b[0m, in \u001b[0;36mDataSourceBase._load_metadata\u001b[0;34m(self)\u001b[0m\n\u001b[1;32m    281\u001b[0m \u001b[38;5;250m\u001b[39m\u001b[38;5;124;03m\"\"\"load metadata only if needed\"\"\"\u001b[39;00m\n\u001b[1;32m    282\u001b[0m \u001b[38;5;28;01mif\u001b[39;00m \u001b[38;5;28mself\u001b[39m\u001b[38;5;241m.\u001b[39m_schema \u001b[38;5;129;01mis\u001b[39;00m \u001b[38;5;28;01mNone\u001b[39;00m:\n\u001b[0;32m--> 283\u001b[0m     \u001b[38;5;28mself\u001b[39m\u001b[38;5;241m.\u001b[39m_schema \u001b[38;5;241m=\u001b[39m \u001b[38;5;28;43mself\u001b[39;49m\u001b[38;5;241;43m.\u001b[39;49m\u001b[43m_get_schema\u001b[49m\u001b[43m(\u001b[49m\u001b[43m)\u001b[49m\n\u001b[1;32m    284\u001b[0m     \u001b[38;5;28mself\u001b[39m\u001b[38;5;241m.\u001b[39mdtype \u001b[38;5;241m=\u001b[39m \u001b[38;5;28mself\u001b[39m\u001b[38;5;241m.\u001b[39m_schema\u001b[38;5;241m.\u001b[39mdtype\n\u001b[1;32m    285\u001b[0m     \u001b[38;5;28mself\u001b[39m\u001b[38;5;241m.\u001b[39mshape \u001b[38;5;241m=\u001b[39m \u001b[38;5;28mself\u001b[39m\u001b[38;5;241m.\u001b[39m_schema\u001b[38;5;241m.\u001b[39mshape\n",
      "File \u001b[0;32m/glade/work/eromashkova/miniconda3/envs/mom6-diagnostics/lib/python3.11/site-packages/intake_xarray/base.py:18\u001b[0m, in \u001b[0;36mDataSourceMixin._get_schema\u001b[0;34m(self)\u001b[0m\n\u001b[1;32m     15\u001b[0m \u001b[38;5;28mself\u001b[39m\u001b[38;5;241m.\u001b[39murlpath \u001b[38;5;241m=\u001b[39m \u001b[38;5;28mself\u001b[39m\u001b[38;5;241m.\u001b[39m_get_cache(\u001b[38;5;28mself\u001b[39m\u001b[38;5;241m.\u001b[39murlpath)[\u001b[38;5;241m0\u001b[39m]\n\u001b[1;32m     17\u001b[0m \u001b[38;5;28;01mif\u001b[39;00m \u001b[38;5;28mself\u001b[39m\u001b[38;5;241m.\u001b[39m_ds \u001b[38;5;129;01mis\u001b[39;00m \u001b[38;5;28;01mNone\u001b[39;00m:\n\u001b[0;32m---> 18\u001b[0m     \u001b[38;5;28;43mself\u001b[39;49m\u001b[38;5;241;43m.\u001b[39;49m\u001b[43m_open_dataset\u001b[49m\u001b[43m(\u001b[49m\u001b[43m)\u001b[49m\n\u001b[1;32m     20\u001b[0m     metadata \u001b[38;5;241m=\u001b[39m {\n\u001b[1;32m     21\u001b[0m         \u001b[38;5;124m'\u001b[39m\u001b[38;5;124mdims\u001b[39m\u001b[38;5;124m'\u001b[39m: \u001b[38;5;28mdict\u001b[39m(\u001b[38;5;28mself\u001b[39m\u001b[38;5;241m.\u001b[39m_ds\u001b[38;5;241m.\u001b[39mdims),\n\u001b[1;32m     22\u001b[0m         \u001b[38;5;124m'\u001b[39m\u001b[38;5;124mdata_vars\u001b[39m\u001b[38;5;124m'\u001b[39m: {k: \u001b[38;5;28mlist\u001b[39m(\u001b[38;5;28mself\u001b[39m\u001b[38;5;241m.\u001b[39m_ds[k]\u001b[38;5;241m.\u001b[39mcoords)\n\u001b[1;32m     23\u001b[0m                       \u001b[38;5;28;01mfor\u001b[39;00m k \u001b[38;5;129;01min\u001b[39;00m \u001b[38;5;28mself\u001b[39m\u001b[38;5;241m.\u001b[39m_ds\u001b[38;5;241m.\u001b[39mdata_vars\u001b[38;5;241m.\u001b[39mkeys()},\n\u001b[1;32m     24\u001b[0m         \u001b[38;5;124m'\u001b[39m\u001b[38;5;124mcoords\u001b[39m\u001b[38;5;124m'\u001b[39m: \u001b[38;5;28mtuple\u001b[39m(\u001b[38;5;28mself\u001b[39m\u001b[38;5;241m.\u001b[39m_ds\u001b[38;5;241m.\u001b[39mcoords\u001b[38;5;241m.\u001b[39mkeys()),\n\u001b[1;32m     25\u001b[0m     }\n\u001b[1;32m     26\u001b[0m     \u001b[38;5;28;01mif\u001b[39;00m \u001b[38;5;28mgetattr\u001b[39m(\u001b[38;5;28mself\u001b[39m, \u001b[38;5;124m'\u001b[39m\u001b[38;5;124mon_server\u001b[39m\u001b[38;5;124m'\u001b[39m, \u001b[38;5;28;01mFalse\u001b[39;00m):\n",
      "File \u001b[0;32m/glade/work/eromashkova/miniconda3/envs/mom6-diagnostics/lib/python3.11/site-packages/intake_xarray/netcdf.py:87\u001b[0m, in \u001b[0;36mNetCDFSource._open_dataset\u001b[0;34m(self)\u001b[0m\n\u001b[1;32m     84\u001b[0m     _open_dataset \u001b[38;5;241m=\u001b[39m xr\u001b[38;5;241m.\u001b[39mopen_dataset\n\u001b[1;32m     86\u001b[0m \u001b[38;5;28;01mif\u001b[39;00m \u001b[38;5;28mself\u001b[39m\u001b[38;5;241m.\u001b[39m_can_be_local:\n\u001b[0;32m---> 87\u001b[0m     url \u001b[38;5;241m=\u001b[39m \u001b[43mfsspec\u001b[49m\u001b[38;5;241;43m.\u001b[39;49m\u001b[43mopen_local\u001b[49m\u001b[43m(\u001b[49m\u001b[38;5;28;43mself\u001b[39;49m\u001b[38;5;241;43m.\u001b[39;49m\u001b[43murlpath\u001b[49m\u001b[43m,\u001b[49m\u001b[43m \u001b[49m\u001b[38;5;241;43m*\u001b[39;49m\u001b[38;5;241;43m*\u001b[39;49m\u001b[38;5;28;43mself\u001b[39;49m\u001b[38;5;241;43m.\u001b[39;49m\u001b[43mstorage_options\u001b[49m\u001b[43m)\u001b[49m\n\u001b[1;32m     88\u001b[0m \u001b[38;5;28;01melse\u001b[39;00m:\n\u001b[1;32m     89\u001b[0m     \u001b[38;5;66;03m# https://github.com/intake/filesystem_spec/issues/476#issuecomment-732372918\u001b[39;00m\n\u001b[1;32m     90\u001b[0m     url \u001b[38;5;241m=\u001b[39m fsspec\u001b[38;5;241m.\u001b[39mopen(\u001b[38;5;28mself\u001b[39m\u001b[38;5;241m.\u001b[39murlpath, \u001b[38;5;241m*\u001b[39m\u001b[38;5;241m*\u001b[39m\u001b[38;5;28mself\u001b[39m\u001b[38;5;241m.\u001b[39mstorage_options)\u001b[38;5;241m.\u001b[39mopen()\n",
      "File \u001b[0;32m/glade/work/eromashkova/miniconda3/envs/mom6-diagnostics/lib/python3.11/site-packages/fsspec/core.py:472\u001b[0m, in \u001b[0;36mopen_local\u001b[0;34m(url, mode, **storage_options)\u001b[0m\n\u001b[1;32m    470\u001b[0m     \u001b[38;5;28;01mraise\u001b[39;00m \u001b[38;5;167;01mValueError\u001b[39;00m(\u001b[38;5;124m\"\u001b[39m\u001b[38;5;124mCan only ensure local files when reading\u001b[39m\u001b[38;5;124m\"\u001b[39m)\n\u001b[1;32m    471\u001b[0m of \u001b[38;5;241m=\u001b[39m open_files(url, mode\u001b[38;5;241m=\u001b[39mmode, \u001b[38;5;241m*\u001b[39m\u001b[38;5;241m*\u001b[39mstorage_options)\n\u001b[0;32m--> 472\u001b[0m \u001b[38;5;28;01mif\u001b[39;00m \u001b[38;5;129;01mnot\u001b[39;00m \u001b[38;5;28mgetattr\u001b[39m(\u001b[43mof\u001b[49m\u001b[43m[\u001b[49m\u001b[38;5;241;43m0\u001b[39;49m\u001b[43m]\u001b[49m\u001b[38;5;241m.\u001b[39mfs, \u001b[38;5;124m\"\u001b[39m\u001b[38;5;124mlocal_file\u001b[39m\u001b[38;5;124m\"\u001b[39m, \u001b[38;5;28;01mFalse\u001b[39;00m):\n\u001b[1;32m    473\u001b[0m     \u001b[38;5;28;01mraise\u001b[39;00m \u001b[38;5;167;01mValueError\u001b[39;00m(\n\u001b[1;32m    474\u001b[0m         \u001b[38;5;124m\"\u001b[39m\u001b[38;5;124mopen_local can only be used on a filesystem which\u001b[39m\u001b[38;5;124m\"\u001b[39m\n\u001b[1;32m    475\u001b[0m         \u001b[38;5;124m\"\u001b[39m\u001b[38;5;124m has attribute local_file=True\u001b[39m\u001b[38;5;124m\"\u001b[39m\n\u001b[1;32m    476\u001b[0m     )\n\u001b[1;32m    477\u001b[0m \u001b[38;5;28;01mwith\u001b[39;00m of \u001b[38;5;28;01mas\u001b[39;00m files:\n",
      "File \u001b[0;32m/glade/work/eromashkova/miniconda3/envs/mom6-diagnostics/lib/python3.11/site-packages/fsspec/core.py:194\u001b[0m, in \u001b[0;36mOpenFiles.__getitem__\u001b[0;34m(self, item)\u001b[0m\n\u001b[1;32m    193\u001b[0m \u001b[38;5;28;01mdef\u001b[39;00m \u001b[38;5;21m__getitem__\u001b[39m(\u001b[38;5;28mself\u001b[39m, item):\n\u001b[0;32m--> 194\u001b[0m     out \u001b[38;5;241m=\u001b[39m \u001b[38;5;28;43msuper\u001b[39;49m\u001b[43m(\u001b[49m\u001b[43m)\u001b[49m\u001b[38;5;241;43m.\u001b[39;49m\u001b[38;5;21;43m__getitem__\u001b[39;49m\u001b[43m(\u001b[49m\u001b[43mitem\u001b[49m\u001b[43m)\u001b[49m\n\u001b[1;32m    195\u001b[0m     \u001b[38;5;28;01mif\u001b[39;00m \u001b[38;5;28misinstance\u001b[39m(item, \u001b[38;5;28mslice\u001b[39m):\n\u001b[1;32m    196\u001b[0m         \u001b[38;5;28;01mreturn\u001b[39;00m OpenFiles(out, mode\u001b[38;5;241m=\u001b[39m\u001b[38;5;28mself\u001b[39m\u001b[38;5;241m.\u001b[39mmode, fs\u001b[38;5;241m=\u001b[39m\u001b[38;5;28mself\u001b[39m\u001b[38;5;241m.\u001b[39mfs)\n",
      "\u001b[0;31mIndexError\u001b[0m: list index out of range"
     ]
    }
   ],
   "source": [
    "# load WOA18 data\n",
    "catalog = intake.open_catalog(diag_config_yml['oce_cat'])\n",
    "woa18 = catalog[args.obs].to_dask()\n",
    "woa18 = woa18.rename({'z_l' : 'depth'});"
   ]
  },
  {
   "cell_type": "code",
   "execution_count": null,
   "id": "8d95806a",
   "metadata": {
    "papermill": {
     "duration": null,
     "end_time": null,
     "exception": null,
     "start_time": null,
     "status": "pending"
    },
    "tags": []
   },
   "outputs": [],
   "source": [
    "print('Saving netCDF files...')\n",
    "\n",
    "if not os.path.isdir('ncfiles'):\n",
    "      os.system('mkdir -p ncfiles')\n",
    "        \n",
    "attrs = {'description': 'model - obs at depth levels',\n",
    "       'start_date': args.start_date,\n",
    "       'end_date': args.end_date,\n",
    "       'casename': dcase.casename,\n",
    "       'obs': args.obs,\n",
    "       }"
   ]
  },
  {
   "cell_type": "code",
   "execution_count": null,
   "id": "6db4065a",
   "metadata": {
    "papermill": {
     "duration": null,
     "end_time": null,
     "exception": null,
     "start_time": null,
     "status": "pending"
    },
    "tags": []
   },
   "outputs": [],
   "source": [
    "temp_bias = np.ma.masked_invalid(thetao_mean.values - woa18.thetao.values)\n",
    "ds_thetao = xr.Dataset(data_vars={ 'thetao' : (('z_l','yh','xh'), thetao_mean.values),\n",
    "                                   'thetao_bias' :     (('z_l','yh','xh'), temp_bias)},\n",
    "                                   coords={'z_l' : ds.z_l, 'yh' : grd.yh, 'xh' : grd.xh})\n",
    "m6toolbox.add_global_attrs(ds_thetao,attrs)\n",
    "ds_thetao.to_netcdf('ncfiles/'+str(dcase.casename)+'_thetao_time_mean.nc')"
   ]
  },
  {
   "cell_type": "code",
   "execution_count": null,
   "id": "19a26d8a",
   "metadata": {
    "papermill": {
     "duration": null,
     "end_time": null,
     "exception": null,
     "start_time": null,
     "status": "pending"
    },
    "tags": []
   },
   "outputs": [],
   "source": [
    "so_bias = np.ma.masked_invalid(so_mean.values - woa18.so.values)\n",
    "ds_so = xr.Dataset(data_vars={ 'so' : (('z_l','yh','xh'), so_mean.values),\n",
    "                            'so_bias' :     (('z_l','yh','xh'), so_bias)},\n",
    "                            coords={'z_l' : ds.z_l, 'yh' : grd.yh, 'xh' : grd.xh})\n",
    "m6toolbox.add_global_attrs(ds_so,attrs)\n",
    "ds_so.to_netcdf('ncfiles/'+str(dcase.casename)+'_so_time_mean.nc') "
   ]
  },
  {
   "cell_type": "code",
   "execution_count": null,
   "id": "6aceb15e",
   "metadata": {
    "papermill": {
     "duration": null,
     "end_time": null,
     "exception": null,
     "start_time": null,
     "status": "pending"
    },
    "tags": []
   },
   "outputs": [],
   "source": [
    "client.close(); cluster.close()"
   ]
  },
  {
   "cell_type": "markdown",
   "id": "f6dae279",
   "metadata": {
    "papermill": {
     "duration": null,
     "end_time": null,
     "exception": null,
     "start_time": null,
     "status": "pending"
    },
    "tags": []
   },
   "source": [
    "## Global"
   ]
  },
  {
   "cell_type": "code",
   "execution_count": null,
   "id": "20f7a798",
   "metadata": {
    "papermill": {
     "duration": null,
     "end_time": null,
     "exception": null,
     "start_time": null,
     "status": "pending"
    },
    "tags": []
   },
   "outputs": [],
   "source": [
    "%matplotlib inline\n",
    "km = len(woa18['depth'])\n",
    "for k in range(km):\n",
    "  if ds['z_l'][k].values < 1000.0:\n",
    "    temp_obs = np.ma.masked_invalid(woa18['thetao'][k,:].values)\n",
    "    xycompare(temp[k,:] , temp_obs, grd.geolon, grd.geolat, area=grd.areacello,\n",
    "            title1 = 'model temperature, depth ='+str(ds['z_l'][k].values)+ 'm',\n",
    "            title2 = 'observed temperature, depth ='+str(woa18['depth'][k].values)+ 'm',\n",
    "            suptitle=dcase.casename + ', averaged '+str(args.start_date)+ ' and ' +str(args.end_date),\n",
    "            clim=(-1.9,30.), dcolormap=plt.cm.bwr,\n",
    "            extend='both', dextend='neither', dlim=(-2,2),\n",
    "            show= True)\n",
    "    salt_obs = np.ma.masked_invalid(woa18['so'][k,:].values)\n",
    "    xycompare( salt[k,:] , salt_obs, grd.geolon, grd.geolat, area=grd.areacello,\n",
    "            title1 = 'model salinity, depth ='+str(ds['z_l'][k].values)+ 'm',\n",
    "            title2 = 'observed salinity, depth ='+str(woa18['depth'][k].values)+ 'm',\n",
    "            suptitle=dcase.casename, clim=(30,39.), dcolormap=plt.cm.bwr,\n",
    "            extend='both', dextend='neither', dlim=(-2,2),\n",
    "            show= True)"
   ]
  },
  {
   "cell_type": "markdown",
   "id": "8edd5760",
   "metadata": {
    "papermill": {
     "duration": null,
     "end_time": null,
     "exception": null,
     "start_time": null,
     "status": "pending"
    },
    "tags": []
   },
   "source": [
    "## Antarctic"
   ]
  },
  {
   "cell_type": "code",
   "execution_count": null,
   "id": "2207519b",
   "metadata": {
    "papermill": {
     "duration": null,
     "end_time": null,
     "exception": null,
     "start_time": null,
     "status": "pending"
    },
    "tags": []
   },
   "outputs": [],
   "source": [
    "# loop over depths and compare TS fields\n",
    "km = len(woa18['depth'])\n",
    "for k in range(km):\n",
    "  if (ds['z_l'][k].values < 100.):\n",
    "    temp_obs = np.ma.masked_invalid(woa18['thetao'][k,:].values)\n",
    "    polarcomparison(temp[k,:] , temp_obs, grd,\n",
    "              title1 = 'model temperature, depth ='+str(ds['z_l'][k].values)+ 'm',\n",
    "              title2 = 'observed temperature, depth ='+str(woa18['depth'][k].values)+ 'm',\n",
    "              extend='both', dextend='neither', clim=(-1.9,10.5), dlim=(-2,2), dcolormap=plt.cm.bwr,\n",
    "              suptitle=dcase.casename + ', averaged '+str(args.start_date)+ ' to ' +str(args.end_date),\n",
    "              proj='SP', show= True)\n",
    "\n",
    "    salt_obs = np.ma.masked_invalid(woa18['so'][k,:].values)\n",
    "    polarcomparison( salt[k,:] , salt_obs, grd,\n",
    "              title1 = 'model salinity, depth ='+str(ds['z_l'][k].values)+ 'm',\n",
    "              title2 = 'observed salinity, depth ='+str(woa18['depth'][k].values)+ 'm',\n",
    "              extend='both', dextend='neither', clim=(33.,35.), dlim=(-2,2), dcolormap=plt.cm.bwr,\n",
    "              suptitle=dcase.casename + ', averaged '+str(args.start_date)+ ' to ' +str(args.end_date),\n",
    "              proj='SP', show= True)"
   ]
  },
  {
   "cell_type": "markdown",
   "id": "4dfd4497",
   "metadata": {
    "papermill": {
     "duration": null,
     "end_time": null,
     "exception": null,
     "start_time": null,
     "status": "pending"
    },
    "tags": [],
    "toc-hr-collapsed": true
   },
   "source": [
    "## Arctic"
   ]
  },
  {
   "cell_type": "code",
   "execution_count": null,
   "id": "a54954b4",
   "metadata": {
    "papermill": {
     "duration": null,
     "end_time": null,
     "exception": null,
     "start_time": null,
     "status": "pending"
    },
    "tags": []
   },
   "outputs": [],
   "source": [
    "# loop over depths and compare TS fields\n",
    "km = len(woa18['depth'])\n",
    "for k in range(km):\n",
    "  if (ds['z_l'][k].values < 100.):\n",
    "    temp_obs = np.ma.masked_invalid(woa18['thetao'][k,:].values)\n",
    "    polarcomparison(temp[k,:] , temp_obs, grd,\n",
    "            title1 = 'model temperature, depth ='+str(ds['z_l'][k].values)+ 'm',\n",
    "            title2 = 'observed temperature, depth ='+str(woa18['depth'][k].values)+ 'm',\n",
    "            extend='both', dextend='neither', clim=(-1.9,10.5), dlim=(-2,2), dcolormap=plt.cm.bwr,\n",
    "            suptitle=dcase.casename + ', averaged '+str(args.start_date)+ ' to ' +str(args.end_date),\n",
    "            proj='NP', show= True)\n",
    "\n",
    "   \n",
    "    salt_obs = np.ma.masked_invalid(woa18['so'][k,:].values)\n",
    "    polarcomparison( salt[k,:] , salt_obs, grd,\n",
    "            title1 = 'model salinity, depth ='+str(ds['z_l'][k].values)+ 'm',\n",
    "            title2 = 'observed salinity, depth ='+str(woa18['depth'][k].values)+ 'm',\n",
    "            extend='both', dextend='neither', clim=(32.,34.5), dlim=(-2,2), dcolormap=plt.cm.bwr,\n",
    "            suptitle=dcase.casename + ', averaged '+str(args.start_date)+ ' to ' +str(args.end_date),\n",
    "            proj='NP', show= True)"
   ]
  },
  {
   "cell_type": "code",
   "execution_count": null,
   "id": "78397f52",
   "metadata": {
    "papermill": {
     "duration": null,
     "end_time": null,
     "exception": null,
     "start_time": null,
     "status": "pending"
    },
    "tags": []
   },
   "outputs": [],
   "source": []
  }
 ],
 "metadata": {
  "kernelspec": {
   "display_name": "Python 3 (ipykernel)",
   "language": "python",
   "name": "mom6-diagnostics"
  },
  "language_info": {
   "codemirror_mode": {
    "name": "ipython",
    "version": 3
   },
   "file_extension": ".py",
   "mimetype": "text/x-python",
   "name": "python",
   "nbconvert_exporter": "python",
   "pygments_lexer": "ipython3",
   "version": "3.11.5"
  },
  "papermill": {
   "duration": 184.323042,
   "end_time": "2023-10-17T21:26:40.640994",
   "exception": true,
   "input_path": "/glade/scratch/eromashkova/tmp/tmprcukta1a.ipynb",
   "output_path": "/glade/u/home/eromashkova/codes/mom6-tools/docs/source/examples/computed_notebooks/placeholder-sname/TS_levels.ipynb",
   "parameters": {
    "product": "/glade/u/home/eromashkova/codes/mom6-tools/docs/source/examples/computed_notebooks/placeholder-sname/TS_levels.ipynb",
    "sname": "placeholder-sname",
    "subset_kwargs": {}
   },
   "start_time": "2023-10-17T21:23:36.317952"
  },
  "toc": {
   "base_numbering": 1,
   "nav_menu": {},
   "number_sections": true,
   "sideBar": true,
   "skip_h1_title": false,
   "title_cell": "Table of Contents",
   "title_sidebar": "Contents",
   "toc_cell": false,
   "toc_position": {},
   "toc_section_display": true,
   "toc_window_display": false
  },
  "varInspector": {
   "cols": {
    "lenName": 16,
    "lenType": 16,
    "lenVar": 40
   },
   "kernels_config": {
    "python": {
     "delete_cmd_postfix": "",
     "delete_cmd_prefix": "del ",
     "library": "var_list.py",
     "varRefreshCmd": "print(var_dic_list())"
    },
    "r": {
     "delete_cmd_postfix": ") ",
     "delete_cmd_prefix": "rm(",
     "library": "var_list.r",
     "varRefreshCmd": "cat(var_dic_list()) "
    }
   },
   "types_to_exclude": [
    "module",
    "function",
    "builtin_function_or_method",
    "instance",
    "_Feature"
   ],
   "window_display": false
  }
 },
 "nbformat": 4,
 "nbformat_minor": 5
}