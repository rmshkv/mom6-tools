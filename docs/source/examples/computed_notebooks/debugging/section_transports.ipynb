{
 "cells": [
  {
   "cell_type": "markdown",
   "id": "dba3bb93",
   "metadata": {
    "tags": [
     "papermill-error-cell-tag"
    ]
   },
   "source": [
    "<span style=\"color:red; font-family:Helvetica Neue, Helvetica, Arial, sans-serif; font-size:2em;\">An Exception was encountered at '<a href=\"#papermill-error-cell\">In [10]</a>'.</span>"
   ]
  },
  {
   "cell_type": "markdown",
   "id": "2b33fcdf",
   "metadata": {
    "papermill": {
     "duration": 0.015852,
     "end_time": "2023-10-17T21:23:40.206742",
     "exception": false,
     "start_time": "2023-10-17T21:23:40.190890",
     "status": "completed"
    },
    "tags": []
   },
   "source": [
    "# Transport across sections\n",
    "\n",
    "`mom6_tools.section_transports` collection of functions for computing and plotting time-series of transports across pre-defined vertical sections.\n",
    "\n",
    "The goal of this notebook is the following:\n",
    "\n",
    "1) server as an example on how to post-process the CESM/MOM6 vertical sections defined in diag_table. The location of the current vertical sections computed online can be found at the end of [this notebook](https://gist.github.com/gustavo-marques/bd6e9bb43062dcbc2abda91b757c7c4b); \n",
    "\n",
    "2) evaluate model experiments by comparing transports against observed estimates;"
   ]
  },
  {
   "cell_type": "code",
   "execution_count": 1,
   "id": "9734afe3",
   "metadata": {
    "execution": {
     "iopub.execute_input": "2023-10-17T21:23:40.275017Z",
     "iopub.status.busy": "2023-10-17T21:23:40.274823Z",
     "iopub.status.idle": "2023-10-17T21:23:40.398354Z",
     "shell.execute_reply": "2023-10-17T21:23:40.391768Z"
    },
    "papermill": {
     "duration": 0.182397,
     "end_time": "2023-10-17T21:23:40.399789",
     "exception": false,
     "start_time": "2023-10-17T21:23:40.217392",
     "status": "completed"
    },
    "tags": []
   },
   "outputs": [],
   "source": [
    "%load_ext autoreload\n",
    "%autoreload 2"
   ]
  },
  {
   "cell_type": "code",
   "execution_count": 2,
   "id": "cc83778d",
   "metadata": {
    "execution": {
     "iopub.execute_input": "2023-10-17T21:23:40.443946Z",
     "iopub.status.busy": "2023-10-17T21:23:40.443750Z",
     "iopub.status.idle": "2023-10-17T21:23:48.222767Z",
     "shell.execute_reply": "2023-10-17T21:23:48.222179Z"
    },
    "papermill": {
     "duration": 7.808796,
     "end_time": "2023-10-17T21:23:48.224352",
     "exception": false,
     "start_time": "2023-10-17T21:23:40.415556",
     "status": "completed"
    },
    "tags": []
   },
   "outputs": [],
   "source": [
    "%matplotlib inline\n",
    "from mom6_tools.section_transports import Transport, options\n",
    "import matplotlib.pyplot as plt\n",
    "from mom6_tools.DiagsCase import DiagsCase\n",
    "import xarray as xr\n",
    "import yaml, os, numpy"
   ]
  },
  {
   "cell_type": "code",
   "execution_count": 3,
   "id": "305ecfb4",
   "metadata": {
    "execution": {
     "iopub.execute_input": "2023-10-17T21:23:48.251789Z",
     "iopub.status.busy": "2023-10-17T21:23:48.251476Z",
     "iopub.status.idle": "2023-10-17T21:23:48.590124Z",
     "shell.execute_reply": "2023-10-17T21:23:48.588853Z"
    },
    "papermill": {
     "duration": 0.35178,
     "end_time": "2023-10-17T21:23:48.591720",
     "exception": false,
     "start_time": "2023-10-17T21:23:48.239940",
     "status": "completed"
    },
    "tags": []
   },
   "outputs": [],
   "source": [
    "# Read in the yaml file\n",
    "diag_config_yml_path = \"diag_config.yml\"\n",
    "diag_config_yml = yaml.load(open(diag_config_yml_path,'r'), Loader=yaml.Loader)"
   ]
  },
  {
   "cell_type": "code",
   "execution_count": 4,
   "id": "1ba825ec",
   "metadata": {
    "execution": {
     "iopub.execute_input": "2023-10-17T21:23:48.612881Z",
     "iopub.status.busy": "2023-10-17T21:23:48.612693Z",
     "iopub.status.idle": "2023-10-17T21:23:51.533226Z",
     "shell.execute_reply": "2023-10-17T21:23:51.532761Z"
    },
    "papermill": {
     "duration": 2.934914,
     "end_time": "2023-10-17T21:23:51.534767",
     "exception": false,
     "start_time": "2023-10-17T21:23:48.599853",
     "status": "completed"
    },
    "tags": []
   },
   "outputs": [
    {
     "name": "stdout",
     "output_type": "stream",
     "text": [
      "Output directory is: /glade/scratch/gmarques/archive/g.e23_b15.GJRAv4.TL319_t232_zstar_N65.baseline.001/ocn/hist/\n",
      "Casename is: g.e23_b15.GJRAv4.TL319_t232_zstar_N65.baseline.001\n"
     ]
    }
   ],
   "source": [
    "# Create the case instance\n",
    "dcase = DiagsCase(diag_config_yml['Case'])\n",
    "DOUT_S = dcase.get_value('DOUT_S')\n",
    "if DOUT_S:\n",
    "  OUTDIR = dcase.get_value('DOUT_S_ROOT')+'/ocn/hist/'\n",
    "else:\n",
    "  OUTDIR = dcase.get_value('RUNDIR')+'/'\n",
    "\n",
    "print('Output directory is:', OUTDIR)\n",
    "print('Casename is:', dcase.casename)"
   ]
  },
  {
   "cell_type": "code",
   "execution_count": 5,
   "id": "c69e78a7",
   "metadata": {
    "execution": {
     "iopub.execute_input": "2023-10-17T21:23:51.575543Z",
     "iopub.status.busy": "2023-10-17T21:23:51.575344Z",
     "iopub.status.idle": "2023-10-17T21:23:51.820290Z",
     "shell.execute_reply": "2023-10-17T21:23:51.819784Z"
    },
    "papermill": {
     "duration": 0.258776,
     "end_time": "2023-10-17T21:23:51.821994",
     "exception": false,
     "start_time": "2023-10-17T21:23:51.563218",
     "status": "completed"
    },
    "tags": []
   },
   "outputs": [],
   "source": [
    "# load sections where transports are computed online\n",
    "sections = diag_config_yml['Transports']['sections']"
   ]
  },
  {
   "cell_type": "code",
   "execution_count": 6,
   "id": "c790a63a",
   "metadata": {
    "execution": {
     "iopub.execute_input": "2023-10-17T21:23:51.868382Z",
     "iopub.status.busy": "2023-10-17T21:23:51.868176Z",
     "iopub.status.idle": "2023-10-17T21:23:52.135937Z",
     "shell.execute_reply": "2023-10-17T21:23:52.135456Z"
    },
    "papermill": {
     "duration": 0.291518,
     "end_time": "2023-10-17T21:23:52.137495",
     "exception": false,
     "start_time": "2023-10-17T21:23:51.845977",
     "status": "completed"
    },
    "tags": []
   },
   "outputs": [],
   "source": [
    "# create an empty class object\n",
    "class args:\n",
    "  pass"
   ]
  },
  {
   "cell_type": "markdown",
   "id": "0b682255",
   "metadata": {
    "papermill": {
     "duration": 0.005728,
     "end_time": "2023-10-17T21:23:52.172656",
     "exception": false,
     "start_time": "2023-10-17T21:23:52.166928",
     "status": "completed"
    },
    "tags": []
   },
   "source": [
    "Define the arguments expected by class \"Transport\". These have been hard-coded here fow now..."
   ]
  },
  {
   "cell_type": "code",
   "execution_count": 7,
   "id": "9849e760",
   "metadata": {
    "execution": {
     "iopub.execute_input": "2023-10-17T21:23:52.268393Z",
     "iopub.status.busy": "2023-10-17T21:23:52.268180Z",
     "iopub.status.idle": "2023-10-17T21:23:52.456272Z",
     "shell.execute_reply": "2023-10-17T21:23:52.455737Z"
    },
    "papermill": {
     "duration": 0.227009,
     "end_time": "2023-10-17T21:23:52.457804",
     "exception": false,
     "start_time": "2023-10-17T21:23:52.230795",
     "status": "completed"
    },
    "tags": [
     "parameters"
    ]
   },
   "outputs": [],
   "source": [
    "args.case_name = dcase.casename\n",
    "args.infile = OUTDIR\n",
    "# set avg dates\n",
    "avg = diag_config_yml['Avg']\n",
    "args.start_date = '0001-01-01' # override start date\n",
    "args.end_date = avg['end_date']\n",
    "args.label = ''\n",
    "args.debug = False"
   ]
  },
  {
   "cell_type": "code",
   "execution_count": 8,
   "id": "13b65f64",
   "metadata": {
    "execution": {
     "iopub.execute_input": "2023-10-17T21:23:52.485632Z",
     "iopub.status.busy": "2023-10-17T21:23:52.485424Z",
     "iopub.status.idle": "2023-10-17T21:23:52.792910Z",
     "shell.execute_reply": "2023-10-17T21:23:52.786120Z"
    },
    "papermill": {
     "duration": 0.320443,
     "end_time": "2023-10-17T21:23:52.794191",
     "exception": false,
     "start_time": "2023-10-17T21:23:52.473748",
     "status": "completed"
    },
    "tags": [
     "injected-parameters"
    ]
   },
   "outputs": [],
   "source": [
    "# Parameters\n",
    "sname = \"placeholder-sname\"\n",
    "subset_kwargs = {}\n",
    "product = \"/glade/u/home/eromashkova/codes/mom6-tools/docs/source/examples/computed_notebooks/placeholder-sname/section_transports.ipynb\"\n"
   ]
  },
  {
   "cell_type": "markdown",
   "id": "83fc38d9",
   "metadata": {
    "papermill": {
     "duration": 0.028255,
     "end_time": "2023-10-17T21:23:52.837930",
     "exception": false,
     "start_time": "2023-10-17T21:23:52.809675",
     "status": "completed"
    },
    "tags": []
   },
   "source": [
    "Observed flows, more options can be added here\n",
    "\n",
    "* Griffies et al., 2016: OMIP contribution to CMIP6: experimental and diagnostic protocol for the physical component of the Ocean Model Intercomparison Project. Geosci. Model. Dev., 9, 3231-3296. doi:10.5194/gmd-9-3231-2016"
   ]
  },
  {
   "cell_type": "markdown",
   "id": "a4b8c881",
   "metadata": {
    "papermill": {
     "duration": 0.04227,
     "end_time": "2023-10-17T21:23:52.922150",
     "exception": false,
     "start_time": "2023-10-17T21:23:52.879880",
     "status": "completed"
    },
    "tags": []
   },
   "source": [
    "Below we define a function for plotting transport time series. Note the following:\n",
    "\n",
    "<span style=\"color:green\">green = mean transport is within observed values</span> \n",
    "\n",
    "<span style=\"color:red\">red    = mean transport is not within observed values</span> \n",
    "\n",
    "<span style=\"color:gray\">gray  = either there isn't observed values to compare with or just a mean value is available (not a range)</span> "
   ]
  },
  {
   "cell_type": "code",
   "execution_count": 9,
   "id": "e1cdf393",
   "metadata": {
    "execution": {
     "iopub.execute_input": "2023-10-17T21:23:53.049468Z",
     "iopub.status.busy": "2023-10-17T21:23:53.049270Z",
     "iopub.status.idle": "2023-10-17T21:23:53.245292Z",
     "shell.execute_reply": "2023-10-17T21:23:53.244725Z"
    },
    "papermill": {
     "duration": 0.247347,
     "end_time": "2023-10-17T21:23:53.246864",
     "exception": false,
     "start_time": "2023-10-17T21:23:52.999517",
     "status": "completed"
    },
    "tags": []
   },
   "outputs": [],
   "source": [
    "def plotPanel(section,observedFlows=None,colorCode=True):\n",
    "    ax = plt.subplot(1,1,1)\n",
    "    color = '#c3c3c3'; obsLabel = None\n",
    "    if section.label in observedFlows.keys():\n",
    "      if isinstance(observedFlows[section.label][1:],list) and isinstance(observedFlows[section.label][1:][0],float):\n",
    "        if colorCode == True:\n",
    "          if min(observedFlows[section.label][1:]) <= section.data.mean() <= max(observedFlows[section.label][1:]):\n",
    "            color = '#90ee90'\n",
    "          else: color = '#f26161'; print('here3')\n",
    "        obsLabel = str(min(observedFlows[section.label][1:])) + ' to ' + str(max(observedFlows[section.label][1:]))\n",
    "      else: obsLabel = str(observedFlows[section.label][1:]); print('here4')\n",
    "    plt.plot(section.time,section.data,color=color)\n",
    "    plt.title(section.label,fontsize=14)\n",
    "    plt.text(0.04,0.11,'Mean = '+'{0:.2f}'.format(section.data.mean()),transform=ax.transAxes,fontsize=14)\n",
    "    if obsLabel is not None: plt.text(0.04,0.04,'Obs. = '+obsLabel,transform=ax.transAxes,fontsize=14)\n",
    "    if section.ylim is not None: plt.ylim(section.ylim)\n",
    "    plt.ylabel('Transport (Sv)',fontsize=14); plt.xlabel('Time since beginning of run (yr)',fontsize=14)\n",
    "    plt.grid()\n",
    "    return"
   ]
  },
  {
   "cell_type": "markdown",
   "id": "54bdb0c6",
   "metadata": {
    "papermill": {
     "duration": 0.010838,
     "end_time": "2023-10-17T21:23:53.273909",
     "exception": false,
     "start_time": "2023-10-17T21:23:53.263071",
     "status": "completed"
    },
    "tags": []
   },
   "source": [
    "Plot section transports in alphabetical order"
   ]
  },
  {
   "cell_type": "markdown",
   "id": "07b4557e",
   "metadata": {
    "papermill": {
     "duration": 0.060917,
     "end_time": "2023-10-17T21:23:53.416163",
     "exception": false,
     "start_time": "2023-10-17T21:23:53.355246",
     "status": "completed"
    },
    "tags": []
   },
   "source": [
    "### Agulhas Section"
   ]
  },
  {
   "cell_type": "markdown",
   "id": "40289b6a",
   "metadata": {
    "tags": [
     "papermill-error-cell-tag"
    ]
   },
   "source": [
    "<span id=\"papermill-error-cell\" style=\"color:red; font-family:Helvetica Neue, Helvetica, Arial, sans-serif; font-size:2em;\">Execution using papermill encountered an exception here and stopped:</span>"
   ]
  },
  {
   "cell_type": "code",
   "execution_count": 10,
   "id": "54d11f86",
   "metadata": {
    "execution": {
     "iopub.execute_input": "2023-10-17T21:23:53.533650Z",
     "iopub.status.busy": "2023-10-17T21:23:53.533448Z",
     "iopub.status.idle": "2023-10-17T21:23:57.508898Z",
     "shell.execute_reply": "2023-10-17T21:23:57.505107Z"
    },
    "papermill": {
     "duration": 4.018503,
     "end_time": "2023-10-17T21:23:57.509978",
     "exception": true,
     "start_time": "2023-10-17T21:23:53.491475",
     "status": "failed"
    },
    "tags": []
   },
   "outputs": [
    {
     "ename": "TypeError",
     "evalue": "can only concatenate str (not \"dict\") to str",
     "output_type": "error",
     "traceback": [
      "\u001b[0;31m---------------------------------------------------------------------------\u001b[0m",
      "\u001b[0;31mTypeError\u001b[0m                                 Traceback (most recent call last)",
      "Cell \u001b[0;32mIn[10], line 3\u001b[0m\n\u001b[1;32m      1\u001b[0m get_ipython()\u001b[38;5;241m.\u001b[39mrun_line_magic(\u001b[38;5;124m'\u001b[39m\u001b[38;5;124mmatplotlib\u001b[39m\u001b[38;5;124m'\u001b[39m, \u001b[38;5;124m'\u001b[39m\u001b[38;5;124minline\u001b[39m\u001b[38;5;124m'\u001b[39m)\n\u001b[1;32m      2\u001b[0m ds \u001b[38;5;241m=\u001b[39m []\n\u001b[0;32m----> 3\u001b[0m agulhas \u001b[38;5;241m=\u001b[39m Transport(args,sections,\u001b[38;5;124m'\u001b[39m\u001b[38;5;124mh.Agulhas_Section\u001b[39m\u001b[38;5;124m'\u001b[39m,debug\u001b[38;5;241m=\u001b[39m\u001b[38;5;28;01mFalse\u001b[39;00m); ds\u001b[38;5;241m.\u001b[39mappend(agulhas)\n\u001b[1;32m      4\u001b[0m plotPanel(agulhas, observedFlows\u001b[38;5;241m=\u001b[39msections)\n",
      "File \u001b[0;32m/glade/work/eromashkova/miniconda3/envs/mom6-diagnostics/lib/python3.11/site-packages/mom6_tools/section_transports.py:34\u001b[0m, in \u001b[0;36mTransport.__init__\u001b[0;34m(self, args, section, var, label, ylim, zlim, mks2Sv, debug)\u001b[0m\n\u001b[1;32m     31\u001b[0m \u001b[38;5;28;01mif\u001b[39;00m debug: \u001b[38;5;28mprint\u001b[39m(\u001b[38;5;124m'\u001b[39m\u001b[38;5;124mProcessing \u001b[39m\u001b[38;5;124m'\u001b[39m, section)\n\u001b[1;32m     33\u001b[0m \u001b[38;5;66;03m# List all section* files in args.infile\u001b[39;00m\n\u001b[0;32m---> 34\u001b[0m full_path \u001b[38;5;241m=\u001b[39m \u001b[43margs\u001b[49m\u001b[38;5;241;43m.\u001b[39;49m\u001b[43minfile\u001b[49m\u001b[38;5;241;43m+\u001b[39;49m\u001b[43margs\u001b[49m\u001b[38;5;241;43m.\u001b[39;49m\u001b[43mcase_name\u001b[49m\u001b[38;5;241;43m+\u001b[39;49m\u001b[38;5;124;43m'\u001b[39;49m\u001b[38;5;124;43m.mom6.\u001b[39;49m\u001b[38;5;124;43m'\u001b[39;49m\u001b[38;5;241;43m+\u001b[39;49m\u001b[43msection\u001b[49m\u001b[38;5;241m+\u001b[39m\u001b[38;5;124m'\u001b[39m\u001b[38;5;124m*\u001b[39m\u001b[38;5;124m'\u001b[39m\n\u001b[1;32m     35\u001b[0m \u001b[38;5;28;01mif\u001b[39;00m debug: \u001b[38;5;28mprint\u001b[39m(\u001b[38;5;124m'\u001b[39m\u001b[38;5;124mFull path \u001b[39m\u001b[38;5;124m'\u001b[39m, full_path)\n\u001b[1;32m     36\u001b[0m files \u001b[38;5;241m=\u001b[39m [f \u001b[38;5;28;01mfor\u001b[39;00m f \u001b[38;5;129;01min\u001b[39;00m glob\u001b[38;5;241m.\u001b[39mglob(full_path)]\n",
      "\u001b[0;31mTypeError\u001b[0m: can only concatenate str (not \"dict\") to str"
     ]
    }
   ],
   "source": [
    "%matplotlib inline\n",
    "ds = []\n",
    "agulhas = Transport(args,sections,'h.Agulhas_Section',debug=False); ds.append(agulhas)\n",
    "plotPanel(agulhas, observedFlows=sections)"
   ]
  },
  {
   "cell_type": "markdown",
   "id": "7668f04e",
   "metadata": {
    "papermill": {
     "duration": null,
     "end_time": null,
     "exception": null,
     "start_time": null,
     "status": "pending"
    },
    "tags": []
   },
   "source": [
    "### Bering Strait"
   ]
  },
  {
   "cell_type": "code",
   "execution_count": null,
   "id": "2e653c8c",
   "metadata": {
    "papermill": {
     "duration": null,
     "end_time": null,
     "exception": null,
     "start_time": null,
     "status": "pending"
    },
    "tags": []
   },
   "outputs": [],
   "source": [
    "bering = Transport(args, sections, 'h.Bering_Strait'); ds.append(bering)\n",
    "plotPanel(bering, observedFlows=sections)"
   ]
  },
  {
   "cell_type": "markdown",
   "id": "ae077433",
   "metadata": {
    "papermill": {
     "duration": null,
     "end_time": null,
     "exception": null,
     "start_time": null,
     "status": "pending"
    },
    "tags": []
   },
   "source": [
    "### Barents opening"
   ]
  },
  {
   "cell_type": "code",
   "execution_count": null,
   "id": "4e244c32",
   "metadata": {
    "papermill": {
     "duration": null,
     "end_time": null,
     "exception": null,
     "start_time": null,
     "status": "pending"
    },
    "tags": []
   },
   "outputs": [],
   "source": [
    "barents = Transport(args, sections, 'h.Barents_Opening'); ds.append(barents)\n",
    "plotPanel(barents, observedFlows=sections)"
   ]
  },
  {
   "cell_type": "markdown",
   "id": "36967784",
   "metadata": {
    "papermill": {
     "duration": null,
     "end_time": null,
     "exception": null,
     "start_time": null,
     "status": "pending"
    },
    "tags": []
   },
   "source": [
    "### Davis Strait"
   ]
  },
  {
   "cell_type": "code",
   "execution_count": null,
   "id": "3cc33ee2",
   "metadata": {
    "papermill": {
     "duration": null,
     "end_time": null,
     "exception": null,
     "start_time": null,
     "status": "pending"
    },
    "tags": []
   },
   "outputs": [],
   "source": [
    "davis = Transport(args, sections,'h.Davis_Strait'); ds.append(davis)\n",
    "plotPanel(davis, observedFlows=sections)"
   ]
  },
  {
   "cell_type": "markdown",
   "id": "30d842e6",
   "metadata": {
    "papermill": {
     "duration": null,
     "end_time": null,
     "exception": null,
     "start_time": null,
     "status": "pending"
    },
    "tags": []
   },
   "source": [
    "### Denmark Strait"
   ]
  },
  {
   "cell_type": "code",
   "execution_count": null,
   "id": "0b2b2849",
   "metadata": {
    "papermill": {
     "duration": null,
     "end_time": null,
     "exception": null,
     "start_time": null,
     "status": "pending"
    },
    "tags": []
   },
   "outputs": [],
   "source": [
    "denmark = Transport(args, sections,'h.Denmark_Strait'); ds.append(denmark)\n",
    "plotPanel(denmark, observedFlows=sections)"
   ]
  },
  {
   "cell_type": "markdown",
   "id": "e6c9661d",
   "metadata": {
    "papermill": {
     "duration": null,
     "end_time": null,
     "exception": null,
     "start_time": null,
     "status": "pending"
    },
    "tags": []
   },
   "source": [
    "### Drake Passage"
   ]
  },
  {
   "cell_type": "code",
   "execution_count": null,
   "id": "39f4dc86",
   "metadata": {
    "papermill": {
     "duration": null,
     "end_time": null,
     "exception": null,
     "start_time": null,
     "status": "pending"
    },
    "tags": []
   },
   "outputs": [],
   "source": [
    "drake = Transport(args, sections,'h.Drake_Passage'); ds.append(drake)\n",
    "plotPanel(drake, observedFlows=sections)"
   ]
  },
  {
   "cell_type": "markdown",
   "id": "6e7a5f03",
   "metadata": {
    "papermill": {
     "duration": null,
     "end_time": null,
     "exception": null,
     "start_time": null,
     "status": "pending"
    },
    "tags": []
   },
   "source": [
    "### English Channel"
   ]
  },
  {
   "cell_type": "code",
   "execution_count": null,
   "id": "f4772493",
   "metadata": {
    "papermill": {
     "duration": null,
     "end_time": null,
     "exception": null,
     "start_time": null,
     "status": "pending"
    },
    "tags": []
   },
   "outputs": [],
   "source": [
    "english = Transport(args, sections, 'h.English_Channel'); ds.append(english)\n",
    "plotPanel(english, observedFlows=sections)"
   ]
  },
  {
   "cell_type": "markdown",
   "id": "9ce4929e",
   "metadata": {
    "papermill": {
     "duration": null,
     "end_time": null,
     "exception": null,
     "start_time": null,
     "status": "pending"
    },
    "tags": []
   },
   "source": [
    "### Fram Strait"
   ]
  },
  {
   "cell_type": "code",
   "execution_count": null,
   "id": "e3d990d9",
   "metadata": {
    "papermill": {
     "duration": null,
     "end_time": null,
     "exception": null,
     "start_time": null,
     "status": "pending"
    },
    "tags": []
   },
   "outputs": [],
   "source": [
    "fram = Transport(args, sections, 'h.Fram_Strait'); ds.append(fram)\n",
    "plotPanel(fram, observedFlows=sections)"
   ]
  },
  {
   "cell_type": "markdown",
   "id": "38d90968",
   "metadata": {
    "papermill": {
     "duration": null,
     "end_time": null,
     "exception": null,
     "start_time": null,
     "status": "pending"
    },
    "tags": []
   },
   "source": [
    "### Florida Bahamas"
   ]
  },
  {
   "cell_type": "code",
   "execution_count": null,
   "id": "b34ceca0",
   "metadata": {
    "papermill": {
     "duration": null,
     "end_time": null,
     "exception": null,
     "start_time": null,
     "status": "pending"
    },
    "tags": []
   },
   "outputs": [],
   "source": [
    "#florida1 = Transport(args, sections, 'h.Florida_Bahamas', debug=True); ds.append(florida1)\n",
    "#plotPanel(florida1, observedFlows=sections)"
   ]
  },
  {
   "cell_type": "markdown",
   "id": "0fe32bb3",
   "metadata": {
    "papermill": {
     "duration": null,
     "end_time": null,
     "exception": null,
     "start_time": null,
     "status": "pending"
    },
    "tags": []
   },
   "source": [
    "### Florida Bahamas extended"
   ]
  },
  {
   "cell_type": "code",
   "execution_count": null,
   "id": "7f9d8b25",
   "metadata": {
    "papermill": {
     "duration": null,
     "end_time": null,
     "exception": null,
     "start_time": null,
     "status": "pending"
    },
    "tags": []
   },
   "outputs": [],
   "source": [
    "florida2 = Transport(args, sections, 'h.Florida_Bahamas_extended'); ds.append(florida2)\n",
    "plotPanel(florida2, observedFlows=sections)"
   ]
  },
  {
   "cell_type": "markdown",
   "id": "8d656ef5",
   "metadata": {
    "papermill": {
     "duration": null,
     "end_time": null,
     "exception": null,
     "start_time": null,
     "status": "pending"
    },
    "tags": []
   },
   "source": [
    "### Florida Cuba"
   ]
  },
  {
   "cell_type": "code",
   "execution_count": null,
   "id": "6e1d44dd",
   "metadata": {
    "papermill": {
     "duration": null,
     "end_time": null,
     "exception": null,
     "start_time": null,
     "status": "pending"
    },
    "tags": []
   },
   "outputs": [],
   "source": [
    "florida3 = Transport(args, sections, 'h.Florida_Cuba'); ds.append(florida3)\n",
    "plotPanel(florida3, observedFlows=sections)"
   ]
  },
  {
   "cell_type": "markdown",
   "id": "74371891",
   "metadata": {
    "papermill": {
     "duration": null,
     "end_time": null,
     "exception": null,
     "start_time": null,
     "status": "pending"
    },
    "tags": []
   },
   "source": [
    "### Gibraltar Strait"
   ]
  },
  {
   "cell_type": "code",
   "execution_count": null,
   "id": "4dc95f7c",
   "metadata": {
    "papermill": {
     "duration": null,
     "end_time": null,
     "exception": null,
     "start_time": null,
     "status": "pending"
    },
    "tags": []
   },
   "outputs": [],
   "source": [
    "gibraltar = Transport(args, sections, 'h.Gibraltar_Strait'); ds.append(gibraltar)\n",
    "plotPanel(gibraltar, observedFlows=sections)"
   ]
  },
  {
   "cell_type": "markdown",
   "id": "fb7bf625",
   "metadata": {
    "papermill": {
     "duration": null,
     "end_time": null,
     "exception": null,
     "start_time": null,
     "status": "pending"
    },
    "tags": []
   },
   "source": [
    "### Iceland Norway"
   ]
  },
  {
   "cell_type": "code",
   "execution_count": null,
   "id": "6c207440",
   "metadata": {
    "papermill": {
     "duration": null,
     "end_time": null,
     "exception": null,
     "start_time": null,
     "status": "pending"
    },
    "tags": []
   },
   "outputs": [],
   "source": [
    "iceland = Transport(args, sections, 'h.Iceland_Norway'); ds.append(iceland)\n",
    "plotPanel(iceland, observedFlows=sections) "
   ]
  },
  {
   "cell_type": "markdown",
   "id": "9c9a2700",
   "metadata": {
    "papermill": {
     "duration": null,
     "end_time": null,
     "exception": null,
     "start_time": null,
     "status": "pending"
    },
    "tags": []
   },
   "source": [
    "### Indonesian Throughflow"
   ]
  },
  {
   "cell_type": "code",
   "execution_count": null,
   "id": "5de5d484",
   "metadata": {
    "papermill": {
     "duration": null,
     "end_time": null,
     "exception": null,
     "start_time": null,
     "status": "pending"
    },
    "tags": []
   },
   "outputs": [],
   "source": [
    "indo = Transport(args, sections, 'h.Indonesian_Throughflow'); ds.append(indo)\n",
    "plotPanel(indo, observedFlows=sections)"
   ]
  },
  {
   "cell_type": "markdown",
   "id": "e0a83683",
   "metadata": {
    "papermill": {
     "duration": null,
     "end_time": null,
     "exception": null,
     "start_time": null,
     "status": "pending"
    },
    "tags": []
   },
   "source": [
    "### Mozambique Channel"
   ]
  },
  {
   "cell_type": "code",
   "execution_count": null,
   "id": "2a247934",
   "metadata": {
    "papermill": {
     "duration": null,
     "end_time": null,
     "exception": null,
     "start_time": null,
     "status": "pending"
    },
    "tags": []
   },
   "outputs": [],
   "source": [
    "mozambique = Transport(args, sections, 'h.Mozambique_Channel'); ds.append(mozambique)\n",
    "plotPanel(mozambique, observedFlows=sections)"
   ]
  },
  {
   "cell_type": "markdown",
   "id": "f58408d4",
   "metadata": {
    "papermill": {
     "duration": null,
     "end_time": null,
     "exception": null,
     "start_time": null,
     "status": "pending"
    },
    "tags": []
   },
   "source": [
    "### Pacific undercurrent"
   ]
  },
  {
   "cell_type": "code",
   "execution_count": null,
   "id": "65eb5034",
   "metadata": {
    "papermill": {
     "duration": null,
     "end_time": null,
     "exception": null,
     "start_time": null,
     "status": "pending"
    },
    "tags": []
   },
   "outputs": [],
   "source": [
    "euc = Transport(args, sections, 'h.Pacific_undercurrent'); ds.append(euc)\n",
    "plotPanel(euc, observedFlows=sections)"
   ]
  },
  {
   "cell_type": "markdown",
   "id": "1c649d51",
   "metadata": {
    "papermill": {
     "duration": null,
     "end_time": null,
     "exception": null,
     "start_time": null,
     "status": "pending"
    },
    "tags": []
   },
   "source": [
    "### Taiwan Luzon"
   ]
  },
  {
   "cell_type": "code",
   "execution_count": null,
   "id": "262db3ab",
   "metadata": {
    "papermill": {
     "duration": null,
     "end_time": null,
     "exception": null,
     "start_time": null,
     "status": "pending"
    },
    "tags": []
   },
   "outputs": [],
   "source": [
    "taiwan = Transport(args, sections, 'h.Taiwan_Luzon'); ds.append(taiwan)\n",
    "plotPanel(taiwan, observedFlows=sections)"
   ]
  },
  {
   "cell_type": "markdown",
   "id": "fda7b153",
   "metadata": {
    "papermill": {
     "duration": null,
     "end_time": null,
     "exception": null,
     "start_time": null,
     "status": "pending"
    },
    "tags": []
   },
   "source": [
    "### Windward Passage"
   ]
  },
  {
   "cell_type": "code",
   "execution_count": null,
   "id": "716755f9",
   "metadata": {
    "papermill": {
     "duration": null,
     "end_time": null,
     "exception": null,
     "start_time": null,
     "status": "pending"
    },
    "tags": []
   },
   "outputs": [],
   "source": [
    "windward = Transport(args, sections, 'h.Windward_Passage'); ds.append(windward)\n",
    "plotPanel(windward, observedFlows=sections)"
   ]
  },
  {
   "cell_type": "markdown",
   "id": "35bf427b",
   "metadata": {
    "papermill": {
     "duration": null,
     "end_time": null,
     "exception": null,
     "start_time": null,
     "status": "pending"
    },
    "tags": []
   },
   "source": [
    "### Robeson_Channel"
   ]
  },
  {
   "cell_type": "code",
   "execution_count": null,
   "id": "f22268e4",
   "metadata": {
    "papermill": {
     "duration": null,
     "end_time": null,
     "exception": null,
     "start_time": null,
     "status": "pending"
    },
    "tags": []
   },
   "outputs": [],
   "source": [
    "roberson = Transport(args, sections, 'h.Robeson_Channel'); ds.append(roberson)\n",
    "plotPanel(roberson, observedFlows=sections)"
   ]
  },
  {
   "cell_type": "markdown",
   "id": "40600890",
   "metadata": {
    "papermill": {
     "duration": null,
     "end_time": null,
     "exception": null,
     "start_time": null,
     "status": "pending"
    },
    "tags": []
   },
   "source": [
    "### Yucatan_Channel"
   ]
  },
  {
   "cell_type": "code",
   "execution_count": null,
   "id": "10344359",
   "metadata": {
    "papermill": {
     "duration": null,
     "end_time": null,
     "exception": null,
     "start_time": null,
     "status": "pending"
    },
    "tags": []
   },
   "outputs": [],
   "source": [
    "yucatan = Transport(args, sections, 'h.Yucatan_Channel'); ds.append(yucatan)\n",
    "plotPanel(yucatan, observedFlows=sections)"
   ]
  },
  {
   "cell_type": "markdown",
   "id": "085a2bb0",
   "metadata": {
    "papermill": {
     "duration": null,
     "end_time": null,
     "exception": null,
     "start_time": null,
     "status": "pending"
    },
    "tags": []
   },
   "source": [
    "### Bosporus_Strait"
   ]
  },
  {
   "cell_type": "code",
   "execution_count": null,
   "id": "831db1ea",
   "metadata": {
    "papermill": {
     "duration": null,
     "end_time": null,
     "exception": null,
     "start_time": null,
     "status": "pending"
    },
    "tags": []
   },
   "outputs": [],
   "source": [
    "bosporus = Transport(args, sections, 'h.Bosporus_Strait'); ds.append(bosporus)\n",
    "plotPanel(bosporus, observedFlows=sections)"
   ]
  },
  {
   "cell_type": "markdown",
   "id": "ab685ec1",
   "metadata": {
    "papermill": {
     "duration": null,
     "end_time": null,
     "exception": null,
     "start_time": null,
     "status": "pending"
    },
    "tags": []
   },
   "source": [
    "### Save netcdf"
   ]
  },
  {
   "cell_type": "code",
   "execution_count": null,
   "id": "cd25e962",
   "metadata": {
    "papermill": {
     "duration": null,
     "end_time": null,
     "exception": null,
     "start_time": null,
     "status": "pending"
    },
    "tags": []
   },
   "outputs": [],
   "source": [
    "print('Saving netCDF file with transports...\\n')\n",
    "if not os.path.isdir('ncfiles'):\n",
    "      os.system('mkdir -p ncfiles')\n",
    "        \n",
    "# create a dataaray\n",
    "labels = [];\n",
    "for n in range(len(ds)): labels.append(ds[n].label)\n",
    "var = numpy.zeros((len(ds),len(ds[0].time)))\n",
    "ds_out = xr.Dataset(data_vars={ 'transport' : (('sections', 'time'), var)},\n",
    "                       coords={'sections': labels,\n",
    "                               'time': ds[0].time})\n",
    "for n in range(len(ds)):\n",
    "  ds_out.transport.values[n,:] = ds[n].data\n",
    "\n",
    "ds_out.to_netcdf('ncfiles/'+dcase.casename+'_section_transports.nc')"
   ]
  }
 ],
 "metadata": {
  "kernelspec": {
   "display_name": "Python 3 (ipykernel)",
   "language": "python",
   "name": "mom6-diagnostics"
  },
  "language_info": {
   "codemirror_mode": {
    "name": "ipython",
    "version": 3
   },
   "file_extension": ".py",
   "mimetype": "text/x-python",
   "name": "python",
   "nbconvert_exporter": "python",
   "pygments_lexer": "ipython3",
   "version": "3.11.5"
  },
  "papermill": {
   "duration": 27.462134,
   "end_time": "2023-10-17T21:24:01.213181",
   "exception": true,
   "input_path": "/glade/scratch/eromashkova/tmp/tmpew33bt58.ipynb",
   "output_path": "/glade/u/home/eromashkova/codes/mom6-tools/docs/source/examples/computed_notebooks/placeholder-sname/section_transports.ipynb",
   "parameters": {
    "product": "/glade/u/home/eromashkova/codes/mom6-tools/docs/source/examples/computed_notebooks/placeholder-sname/section_transports.ipynb",
    "sname": "placeholder-sname",
    "subset_kwargs": {}
   },
   "start_time": "2023-10-17T21:23:33.751047"
  },
  "toc": {
   "base_numbering": 1,
   "nav_menu": {},
   "number_sections": true,
   "sideBar": true,
   "skip_h1_title": false,
   "title_cell": "Table of Contents",
   "title_sidebar": "Contents",
   "toc_cell": false,
   "toc_position": {},
   "toc_section_display": true,
   "toc_window_display": false
  },
  "varInspector": {
   "cols": {
    "lenName": 16,
    "lenType": 16,
    "lenVar": 40
   },
   "kernels_config": {
    "python": {
     "delete_cmd_postfix": "",
     "delete_cmd_prefix": "del ",
     "library": "var_list.py",
     "varRefreshCmd": "print(var_dic_list())"
    },
    "r": {
     "delete_cmd_postfix": ") ",
     "delete_cmd_prefix": "rm(",
     "library": "var_list.r",
     "varRefreshCmd": "cat(var_dic_list()) "
    }
   },
   "types_to_exclude": [
    "module",
    "function",
    "builtin_function_or_method",
    "instance",
    "_Feature"
   ],
   "window_display": false
  }
 },
 "nbformat": 4,
 "nbformat_minor": 5
}